{
 "cells": [
  {
   "cell_type": "code",
   "execution_count": 38,
   "metadata": {},
   "outputs": [],
   "source": [
    "import sys\n",
    "sys.dont_write_bytecode = True\n",
    "import os\n",
    "os.environ['TF_CPP_MIN_LOG_LEVEL'] = '2' \n",
    "import copy\n",
    "\n",
    "from sklearn.model_selection import train_test_split\n",
    "from sklearn.preprocessing import MinMaxScaler\n",
    "from sklearn.preprocessing import LabelEncoder\n",
    "\n",
    "from pytorch_tabnet.pretraining import TabNetPretrainer\n",
    "from pytorch_tabnet.tab_model import TabNetClassifier\n",
    "import torch\n",
    "\n",
    "from process_data import *\n",
    "from evaluation import *"
   ]
  },
  {
   "cell_type": "code",
   "execution_count": 39,
   "metadata": {},
   "outputs": [],
   "source": [
    "# -------------------------------------------------------------------\n",
    "PATH_TRAIN_LABEL_CSV_FILE = r\"unlabel_data/label_train.csv\"\n",
    "PATH_TRAIN_UNLABEL_CSV_FILE = r\"unlabel_data/unlabel_train.csv\"\n",
    "PATH_TEST_CSV_FILE = r\"unlabel_data/test.csv\"\n",
    "\n",
    "NUM_FEATURES = 14\n",
    "OUTPUT_DIMS = 8\n",
    "\n",
    "TABNET_PRETRAIN_RATIO = 0.5\n",
    "\n",
    "NUM_CLIENTS = 10\n",
    "NUM_ROUNDS = 14\n",
    "\n",
    "MAX_EPOCHS_LOCAL = 7\n",
    "MAX_EPOCHS_SERVER = 100\n",
    "# -------------------------------------------------------------------\n"
   ]
  },
  {
   "cell_type": "code",
   "execution_count": 40,
   "metadata": {},
   "outputs": [
    {
     "name": "stdout",
     "output_type": "stream",
     "text": [
      "Y train label: Counter({0: 6141, 2: 1525, 4: 790, 7: 637, 1: 259, 6: 210, 3: 78, 5: 61})\n"
     ]
    }
   ],
   "source": [
    "# 1. Read dataset\n",
    "(X_train_label, y_train_label, list_labels) = Read_Dataset(PATH_TRAIN_LABEL_CSV_FILE)\n",
    "print(\"Y train label: {}\".format(Counter(y_train_label)))\n",
    "\n",
    "(X_train_unlabel, _) = Read_Dataset(PATH_TRAIN_UNLABEL_CSV_FILE, is_unlabel=True)\n",
    "\n",
    "scaler = MinMaxScaler()\n",
    "scaler = scaler.fit(X_train_label)\n",
    "X_train_label = scaler.transform(X_train_label)\n",
    "X_train_unlabel = scaler.transform(X_train_unlabel)\n",
    "\n",
    "# 2. Split UNLABEL into clients\n",
    "list_client_data = np.array_split(X_train_unlabel, NUM_CLIENTS)"
   ]
  },
  {
   "cell_type": "code",
   "execution_count": 41,
   "metadata": {},
   "outputs": [
    {
     "name": "stderr",
     "output_type": "stream",
     "text": [
      "/home/necphy/miniconda3/envs/thaivu_env/lib/python3.9/site-packages/pytorch_tabnet/abstract_model.py:75: UserWarning: Device used : cuda\n",
      "  warnings.warn(f\"Device used : {self.device}\")\n"
     ]
    },
    {
     "name": "stdout",
     "output_type": "stream",
     "text": [
      "epoch 0  | loss: 882.17027| val_0_unsup_loss_numpy: 64.06754302978516|  0:00:00s\n",
      "epoch 1  | loss: 87.82187| val_0_unsup_loss_numpy: 12.097559928894043|  0:00:00s\n",
      "epoch 2  | loss: 20.9383 | val_0_unsup_loss_numpy: 6.32997989654541|  0:00:00s\n",
      "epoch 3  | loss: 31.33524| val_0_unsup_loss_numpy: 4.4753499031066895|  0:00:00s\n",
      "epoch 4  | loss: 4.54167 | val_0_unsup_loss_numpy: 2.909440040588379|  0:00:00s\n",
      "epoch 5  | loss: 4.48936 | val_0_unsup_loss_numpy: 1.9676200151443481|  0:00:00s\n",
      "epoch 6  | loss: 5.62658 | val_0_unsup_loss_numpy: 1.5910300016403198|  0:00:01s\n",
      "epoch 7  | loss: 2.93016 | val_0_unsup_loss_numpy: 1.4351999759674072|  0:00:01s\n",
      "epoch 8  | loss: 2.55867 | val_0_unsup_loss_numpy: 1.2166399955749512|  0:00:01s\n",
      "epoch 9  | loss: 6.51249 | val_0_unsup_loss_numpy: 1.3930699825286865|  0:00:01s\n",
      "epoch 10 | loss: 21.33544| val_0_unsup_loss_numpy: 1.1799499988555908|  0:00:01s\n",
      "epoch 11 | loss: 2.59376 | val_0_unsup_loss_numpy: 1.2411400079727173|  0:00:01s\n",
      "epoch 12 | loss: 5.863   | val_0_unsup_loss_numpy: 1.195099949836731|  0:00:02s\n",
      "epoch 13 | loss: 2.10147 | val_0_unsup_loss_numpy: 1.497230052947998|  0:00:02s\n",
      "epoch 14 | loss: 22.37874| val_0_unsup_loss_numpy: 1.566349983215332|  0:00:02s\n",
      "epoch 15 | loss: 15.23371| val_0_unsup_loss_numpy: 1.250100016593933|  0:00:02s\n",
      "epoch 16 | loss: 3.00731 | val_0_unsup_loss_numpy: 1.4731299877166748|  0:00:02s\n",
      "epoch 17 | loss: 3.74995 | val_0_unsup_loss_numpy: 1.1482599973678589|  0:00:02s\n",
      "epoch 18 | loss: 3.31566 | val_0_unsup_loss_numpy: 1.220080018043518|  0:00:03s\n",
      "epoch 19 | loss: 1.63423 | val_0_unsup_loss_numpy: 1.238510012626648|  0:00:03s\n",
      "epoch 20 | loss: 3.52513 | val_0_unsup_loss_numpy: 1.6304999589920044|  0:00:03s\n",
      "epoch 21 | loss: 2.8868  | val_0_unsup_loss_numpy: 2.34512996673584|  0:00:03s\n",
      "epoch 22 | loss: 3.26569 | val_0_unsup_loss_numpy: 1.776900053024292|  0:00:03s\n",
      "epoch 23 | loss: 6.12022 | val_0_unsup_loss_numpy: 1.8227800130844116|  0:00:03s\n",
      "epoch 24 | loss: 1.85514 | val_0_unsup_loss_numpy: 1.2865999937057495|  0:00:03s\n",
      "epoch 25 | loss: 1.44733 | val_0_unsup_loss_numpy: 1.191980004310608|  0:00:04s\n",
      "epoch 26 | loss: 1.61346 | val_0_unsup_loss_numpy: 1.2610900402069092|  0:00:04s\n",
      "epoch 27 | loss: 2.8307  | val_0_unsup_loss_numpy: 1.144070029258728|  0:00:04s\n",
      "epoch 28 | loss: 1.55453 | val_0_unsup_loss_numpy: 1.2930400371551514|  0:00:04s\n",
      "epoch 29 | loss: 2.06235 | val_0_unsup_loss_numpy: 1.3830000162124634|  0:00:04s\n",
      "epoch 30 | loss: 8.87571 | val_0_unsup_loss_numpy: 1.2357499599456787|  0:00:04s\n",
      "epoch 31 | loss: 3.35099 | val_0_unsup_loss_numpy: 1.29721999168396|  0:00:05s\n",
      "epoch 32 | loss: 1.83223 | val_0_unsup_loss_numpy: 2.3452200889587402|  0:00:05s\n",
      "epoch 33 | loss: 8.775   | val_0_unsup_loss_numpy: 1.4976600408554077|  0:00:05s\n",
      "epoch 34 | loss: 3.10694 | val_0_unsup_loss_numpy: 1.0647300481796265|  0:00:05s\n",
      "epoch 35 | loss: 3.41957 | val_0_unsup_loss_numpy: 1.136299967765808|  0:00:05s\n",
      "epoch 36 | loss: 2.0428  | val_0_unsup_loss_numpy: 1.3497200012207031|  0:00:05s\n",
      "epoch 37 | loss: 2.4827  | val_0_unsup_loss_numpy: 1.1956499814987183|  0:00:05s\n",
      "epoch 38 | loss: 1.4796  | val_0_unsup_loss_numpy: 1.1158299446105957|  0:00:06s\n",
      "epoch 39 | loss: 1.62992 | val_0_unsup_loss_numpy: 1.1299400329589844|  0:00:06s\n",
      "epoch 40 | loss: 2.30773 | val_0_unsup_loss_numpy: 1.3115299940109253|  0:00:06s\n",
      "epoch 41 | loss: 1.32209 | val_0_unsup_loss_numpy: 1.0467699766159058|  0:00:06s\n",
      "epoch 42 | loss: 1.68027 | val_0_unsup_loss_numpy: 1.3975800275802612|  0:00:06s\n",
      "epoch 43 | loss: 1.78349 | val_0_unsup_loss_numpy: 1.3854299783706665|  0:00:06s\n",
      "epoch 44 | loss: 2.17122 | val_0_unsup_loss_numpy: 1.3025799989700317|  0:00:07s\n",
      "epoch 45 | loss: 1.40741 | val_0_unsup_loss_numpy: 1.1439800262451172|  0:00:07s\n",
      "epoch 46 | loss: 1.39294 | val_0_unsup_loss_numpy: 1.2948499917984009|  0:00:07s\n",
      "epoch 47 | loss: 1.9216  | val_0_unsup_loss_numpy: 1.266759991645813|  0:00:07s\n",
      "epoch 48 | loss: 6.85257 | val_0_unsup_loss_numpy: 1.9071400165557861|  0:00:07s\n",
      "epoch 49 | loss: 2.22682 | val_0_unsup_loss_numpy: 1.665410041809082|  0:00:07s\n",
      "epoch 50 | loss: 2.1585  | val_0_unsup_loss_numpy: 1.9884599447250366|  0:00:07s\n",
      "epoch 51 | loss: 3.7855  | val_0_unsup_loss_numpy: 1.1148600578308105|  0:00:08s\n",
      "\n",
      "Early stopping occurred at epoch 51 with best_epoch = 41 and best_val_0_unsup_loss_numpy = 1.0467699766159058\n"
     ]
    },
    {
     "name": "stderr",
     "output_type": "stream",
     "text": [
      "/home/necphy/miniconda3/envs/thaivu_env/lib/python3.9/site-packages/pytorch_tabnet/callbacks.py:172: UserWarning: Best weights from best epoch are automatically used!\n",
      "  warnings.warn(wrn_msg)\n"
     ]
    }
   ],
   "source": [
    "# 3. Define global model (self superviesed TabNet)\n",
    "unsupervised_model = TabNetPretrainer(\n",
    "    optimizer_fn=torch.optim.Adam,\n",
    "    optimizer_params=dict(lr=2e-2),\n",
    ")\n",
    "\n",
    "# Init global model (self-supervised) by labeled dataset in server\n",
    "unsupervised_model.fit(\n",
    "            X_train = X_train_label,        \n",
    "            eval_set = [X_train_label],\n",
    "            max_epochs=MAX_EPOCHS_SERVER,\n",
    "            pretraining_ratio=TABNET_PRETRAIN_RATIO,\n",
    "            warm_start = True\n",
    ")"
   ]
  },
  {
   "cell_type": "code",
   "execution_count": 42,
   "metadata": {},
   "outputs": [
    {
     "name": "stdout",
     "output_type": "stream",
     "text": [
      "---------- [INFO] Round 0\n",
      "----- [INFO] Client 0\n",
      "epoch 0  | loss: 7.17616 | val_0_unsup_loss_numpy: 4.171639919281006|  0:00:00s\n",
      "epoch 1  | loss: 5.20478 | val_0_unsup_loss_numpy: 1.7467199563980103|  0:00:00s\n",
      "epoch 2  | loss: 2.05766 | val_0_unsup_loss_numpy: 2.069890022277832|  0:00:00s\n",
      "epoch 3  | loss: 2.33396 | val_0_unsup_loss_numpy: 1.2552900314331055|  0:00:00s\n",
      "epoch 4  | loss: 2.18519 | val_0_unsup_loss_numpy: 1.924530029296875|  0:00:00s\n",
      "epoch 5  | loss: 34.42152| val_0_unsup_loss_numpy: 3.012010097503662|  0:00:00s\n",
      "epoch 6  | loss: 1.94342 | val_0_unsup_loss_numpy: 1.9385199546813965|  0:00:00s\n",
      "Stop training because you reached max_epochs = 7 with best_epoch = 3 and best_val_0_unsup_loss_numpy = 1.2552900314331055\n",
      "----- [INFO] Client 1\n"
     ]
    },
    {
     "name": "stderr",
     "output_type": "stream",
     "text": [
      "/home/necphy/miniconda3/envs/thaivu_env/lib/python3.9/site-packages/pytorch_tabnet/callbacks.py:172: UserWarning: Best weights from best epoch are automatically used!\n",
      "  warnings.warn(wrn_msg)\n"
     ]
    },
    {
     "name": "stdout",
     "output_type": "stream",
     "text": [
      "epoch 0  | loss: 3.39686 | val_0_unsup_loss_numpy: 7.251180171966553|  0:00:00s\n",
      "epoch 1  | loss: 4.68909 | val_0_unsup_loss_numpy: 1.933019995689392|  0:00:00s\n",
      "epoch 2  | loss: 2.02019 | val_0_unsup_loss_numpy: 1.2371000051498413|  0:00:00s\n",
      "epoch 3  | loss: 1.43663 | val_0_unsup_loss_numpy: 1.7541500329971313|  0:00:00s\n",
      "epoch 4  | loss: 1.50879 | val_0_unsup_loss_numpy: 1.3800100088119507|  0:00:00s\n",
      "epoch 5  | loss: 1.33194 | val_0_unsup_loss_numpy: 1.2385799884796143|  0:00:00s\n",
      "epoch 6  | loss: 1.35526 | val_0_unsup_loss_numpy: 1.8370399475097656|  0:00:00s\n",
      "Stop training because you reached max_epochs = 7 with best_epoch = 2 and best_val_0_unsup_loss_numpy = 1.2371000051498413\n",
      "----- [INFO] Client 2\n",
      "epoch 0  | loss: 21.76027| val_0_unsup_loss_numpy: 3.968559980392456|  0:00:00s\n"
     ]
    },
    {
     "name": "stderr",
     "output_type": "stream",
     "text": [
      "/home/necphy/miniconda3/envs/thaivu_env/lib/python3.9/site-packages/pytorch_tabnet/callbacks.py:172: UserWarning: Best weights from best epoch are automatically used!\n",
      "  warnings.warn(wrn_msg)\n"
     ]
    },
    {
     "name": "stdout",
     "output_type": "stream",
     "text": [
      "epoch 1  | loss: 12.55578| val_0_unsup_loss_numpy: 5.9730401039123535|  0:00:00s\n",
      "epoch 2  | loss: 30.85536| val_0_unsup_loss_numpy: 3.9293200969696045|  0:00:00s\n",
      "epoch 3  | loss: 6.17868 | val_0_unsup_loss_numpy: 2.402669906616211|  0:00:00s\n",
      "epoch 4  | loss: 1.54867 | val_0_unsup_loss_numpy: 2.0787899494171143|  0:00:00s\n",
      "epoch 5  | loss: 8.74115 | val_0_unsup_loss_numpy: 8.415769577026367|  0:00:00s\n",
      "epoch 6  | loss: 2.47144 | val_0_unsup_loss_numpy: 3.263279914855957|  0:00:00s\n",
      "Stop training because you reached max_epochs = 7 with best_epoch = 4 and best_val_0_unsup_loss_numpy = 2.0787899494171143\n",
      "----- [INFO] Client 3\n"
     ]
    },
    {
     "name": "stderr",
     "output_type": "stream",
     "text": [
      "/home/necphy/miniconda3/envs/thaivu_env/lib/python3.9/site-packages/pytorch_tabnet/callbacks.py:172: UserWarning: Best weights from best epoch are automatically used!\n",
      "  warnings.warn(wrn_msg)\n"
     ]
    },
    {
     "name": "stdout",
     "output_type": "stream",
     "text": [
      "epoch 0  | loss: 497.78187| val_0_unsup_loss_numpy: 12.382929801940918|  0:00:00s\n",
      "epoch 1  | loss: 112.15797| val_0_unsup_loss_numpy: 2.1539199352264404|  0:00:00s\n",
      "epoch 2  | loss: 55.67975| val_0_unsup_loss_numpy: 13.856060028076172|  0:00:00s\n",
      "epoch 3  | loss: 314.38355| val_0_unsup_loss_numpy: 7.457159996032715|  0:00:00s\n",
      "epoch 4  | loss: 2.10804 | val_0_unsup_loss_numpy: 8.288390159606934|  0:00:00s\n",
      "epoch 5  | loss: 58.30714| val_0_unsup_loss_numpy: 5.612299919128418|  0:00:00s\n",
      "epoch 6  | loss: 1.34957 | val_0_unsup_loss_numpy: 1.982699990272522|  0:00:00s\n",
      "Stop training because you reached max_epochs = 7 with best_epoch = 6 and best_val_0_unsup_loss_numpy = 1.982699990272522\n",
      "----- [INFO] Client 4\n",
      "epoch 0  | loss: 4.12802 | val_0_unsup_loss_numpy: 3.7897400856018066|  0:00:00s\n"
     ]
    },
    {
     "name": "stderr",
     "output_type": "stream",
     "text": [
      "/home/necphy/miniconda3/envs/thaivu_env/lib/python3.9/site-packages/pytorch_tabnet/callbacks.py:172: UserWarning: Best weights from best epoch are automatically used!\n",
      "  warnings.warn(wrn_msg)\n"
     ]
    },
    {
     "name": "stdout",
     "output_type": "stream",
     "text": [
      "epoch 1  | loss: 2.5551  | val_0_unsup_loss_numpy: 1.7616699934005737|  0:00:00s\n",
      "epoch 2  | loss: 1.58106 | val_0_unsup_loss_numpy: 1.2041699886322021|  0:00:00s\n",
      "epoch 3  | loss: 1.58464 | val_0_unsup_loss_numpy: 1.3606699705123901|  0:00:00s\n",
      "epoch 4  | loss: 1.1661  | val_0_unsup_loss_numpy: 1.3098000288009644|  0:00:00s\n",
      "epoch 5  | loss: 1.43716 | val_0_unsup_loss_numpy: 1.1850800514221191|  0:00:00s\n",
      "epoch 6  | loss: 1.116   | val_0_unsup_loss_numpy: 1.0537899732589722|  0:00:00s\n",
      "Stop training because you reached max_epochs = 7 with best_epoch = 6 and best_val_0_unsup_loss_numpy = 1.0537899732589722\n",
      "----- [INFO] Client 5\n"
     ]
    },
    {
     "name": "stderr",
     "output_type": "stream",
     "text": [
      "/home/necphy/miniconda3/envs/thaivu_env/lib/python3.9/site-packages/pytorch_tabnet/callbacks.py:172: UserWarning: Best weights from best epoch are automatically used!\n",
      "  warnings.warn(wrn_msg)\n"
     ]
    },
    {
     "name": "stdout",
     "output_type": "stream",
     "text": [
      "epoch 0  | loss: 16.9155 | val_0_unsup_loss_numpy: 2.4007999897003174|  0:00:00s\n",
      "epoch 1  | loss: 2.19284 | val_0_unsup_loss_numpy: 2.311039924621582|  0:00:00s\n",
      "epoch 2  | loss: 1.72796 | val_0_unsup_loss_numpy: 1.3796800374984741|  0:00:00s\n",
      "epoch 3  | loss: 1.82314 | val_0_unsup_loss_numpy: 1.9424500465393066|  0:00:00s\n",
      "epoch 4  | loss: 1.65858 | val_0_unsup_loss_numpy: 1.5934300422668457|  0:00:00s\n",
      "epoch 5  | loss: 1.27892 | val_0_unsup_loss_numpy: 1.1320300102233887|  0:00:00s\n",
      "epoch 6  | loss: 1.62783 | val_0_unsup_loss_numpy: 1.4045499563217163|  0:00:00s\n",
      "Stop training because you reached max_epochs = 7 with best_epoch = 5 and best_val_0_unsup_loss_numpy = 1.1320300102233887\n",
      "----- [INFO] Client 6\n",
      "epoch 0  | loss: 3.06519 | val_0_unsup_loss_numpy: 2.1618399620056152|  0:00:00s\n"
     ]
    },
    {
     "name": "stderr",
     "output_type": "stream",
     "text": [
      "/home/necphy/miniconda3/envs/thaivu_env/lib/python3.9/site-packages/pytorch_tabnet/callbacks.py:172: UserWarning: Best weights from best epoch are automatically used!\n",
      "  warnings.warn(wrn_msg)\n"
     ]
    },
    {
     "name": "stdout",
     "output_type": "stream",
     "text": [
      "epoch 1  | loss: 1.78179 | val_0_unsup_loss_numpy: 2.2646400928497314|  0:00:00s\n",
      "epoch 2  | loss: 2.12223 | val_0_unsup_loss_numpy: 1.4872299432754517|  0:00:00s\n",
      "epoch 3  | loss: 1.57513 | val_0_unsup_loss_numpy: 1.5131800174713135|  0:00:00s\n",
      "epoch 4  | loss: 1.6427  | val_0_unsup_loss_numpy: 1.3473399877548218|  0:00:00s\n",
      "epoch 5  | loss: 2.49989 | val_0_unsup_loss_numpy: 2.0161800384521484|  0:00:00s\n",
      "epoch 6  | loss: 1.75508 | val_0_unsup_loss_numpy: 1.5731699466705322|  0:00:00s\n",
      "Stop training because you reached max_epochs = 7 with best_epoch = 4 and best_val_0_unsup_loss_numpy = 1.3473399877548218\n",
      "----- [INFO] Client 7\n"
     ]
    },
    {
     "name": "stderr",
     "output_type": "stream",
     "text": [
      "/home/necphy/miniconda3/envs/thaivu_env/lib/python3.9/site-packages/pytorch_tabnet/callbacks.py:172: UserWarning: Best weights from best epoch are automatically used!\n",
      "  warnings.warn(wrn_msg)\n"
     ]
    },
    {
     "name": "stdout",
     "output_type": "stream",
     "text": [
      "epoch 0  | loss: 4.12634 | val_0_unsup_loss_numpy: 2.350939989089966|  0:00:00s\n",
      "epoch 1  | loss: 3.96283 | val_0_unsup_loss_numpy: 1.5546599626541138|  0:00:00s\n",
      "epoch 2  | loss: 1.95731 | val_0_unsup_loss_numpy: 1.5466400384902954|  0:00:00s\n",
      "epoch 3  | loss: 1.93368 | val_0_unsup_loss_numpy: 1.5457700490951538|  0:00:00s\n",
      "epoch 4  | loss: 1.78526 | val_0_unsup_loss_numpy: 1.708899974822998|  0:00:00s\n",
      "epoch 5  | loss: 2.73615 | val_0_unsup_loss_numpy: 1.5648599863052368|  0:00:00s\n",
      "epoch 6  | loss: 1.86558 | val_0_unsup_loss_numpy: 1.7850600481033325|  0:00:00s\n",
      "Stop training because you reached max_epochs = 7 with best_epoch = 3 and best_val_0_unsup_loss_numpy = 1.5457700490951538\n",
      "----- [INFO] Client 8\n",
      "epoch 0  | loss: 8.2899  | val_0_unsup_loss_numpy: 23.65995979309082|  0:00:00s\n"
     ]
    },
    {
     "name": "stderr",
     "output_type": "stream",
     "text": [
      "/home/necphy/miniconda3/envs/thaivu_env/lib/python3.9/site-packages/pytorch_tabnet/callbacks.py:172: UserWarning: Best weights from best epoch are automatically used!\n",
      "  warnings.warn(wrn_msg)\n"
     ]
    },
    {
     "name": "stdout",
     "output_type": "stream",
     "text": [
      "epoch 1  | loss: 2.80679 | val_0_unsup_loss_numpy: 2.5683999061584473|  0:00:00s\n",
      "epoch 2  | loss: 4.52549 | val_0_unsup_loss_numpy: 4.099609851837158|  0:00:00s\n",
      "epoch 3  | loss: 3.20148 | val_0_unsup_loss_numpy: 2.0378899574279785|  0:00:00s\n",
      "epoch 4  | loss: 1.90436 | val_0_unsup_loss_numpy: 2.1560299396514893|  0:00:00s\n",
      "epoch 5  | loss: 3.40721 | val_0_unsup_loss_numpy: 3.2659499645233154|  0:00:00s\n",
      "epoch 6  | loss: 1.70729 | val_0_unsup_loss_numpy: 1.8371800184249878|  0:00:00s\n",
      "Stop training because you reached max_epochs = 7 with best_epoch = 6 and best_val_0_unsup_loss_numpy = 1.8371800184249878\n",
      "----- [INFO] Client 9\n"
     ]
    },
    {
     "name": "stderr",
     "output_type": "stream",
     "text": [
      "/home/necphy/miniconda3/envs/thaivu_env/lib/python3.9/site-packages/pytorch_tabnet/callbacks.py:172: UserWarning: Best weights from best epoch are automatically used!\n",
      "  warnings.warn(wrn_msg)\n"
     ]
    },
    {
     "name": "stdout",
     "output_type": "stream",
     "text": [
      "epoch 0  | loss: 9.9435  | val_0_unsup_loss_numpy: 4.594550132751465|  0:00:00s\n",
      "epoch 1  | loss: 3.76797 | val_0_unsup_loss_numpy: 3.5320401191711426|  0:00:00s\n",
      "epoch 2  | loss: 3.11146 | val_0_unsup_loss_numpy: 2.2874999046325684|  0:00:00s\n",
      "epoch 3  | loss: 1.97518 | val_0_unsup_loss_numpy: 2.3506500720977783|  0:00:00s\n",
      "epoch 4  | loss: 2.12748 | val_0_unsup_loss_numpy: 1.7143800258636475|  0:00:00s\n",
      "epoch 5  | loss: 2.66919 | val_0_unsup_loss_numpy: 3.249079942703247|  0:00:00s\n",
      "epoch 6  | loss: 4.83841 | val_0_unsup_loss_numpy: 2.366879940032959|  0:00:00s\n",
      "Stop training because you reached max_epochs = 7 with best_epoch = 4 and best_val_0_unsup_loss_numpy = 1.7143800258636475\n",
      "---------- [INFO] Round 1\n",
      "----- [INFO] Client 0\n"
     ]
    },
    {
     "name": "stderr",
     "output_type": "stream",
     "text": [
      "/home/necphy/miniconda3/envs/thaivu_env/lib/python3.9/site-packages/pytorch_tabnet/callbacks.py:172: UserWarning: Best weights from best epoch are automatically used!\n",
      "  warnings.warn(wrn_msg)\n"
     ]
    },
    {
     "name": "stdout",
     "output_type": "stream",
     "text": [
      "epoch 0  | loss: 24.53099| val_0_unsup_loss_numpy: 3.00570011138916|  0:00:00s\n",
      "epoch 1  | loss: 3.25267 | val_0_unsup_loss_numpy: 1.3628000020980835|  0:00:00s\n",
      "epoch 2  | loss: 6.65767 | val_0_unsup_loss_numpy: 3.4788999557495117|  0:00:00s\n",
      "epoch 3  | loss: 4.11602 | val_0_unsup_loss_numpy: 1.3308600187301636|  0:00:00s\n",
      "epoch 4  | loss: 3.17377 | val_0_unsup_loss_numpy: 1.5651299953460693|  0:00:00s\n",
      "epoch 5  | loss: 1.59128 | val_0_unsup_loss_numpy: 1.4802800416946411|  0:00:00s\n",
      "epoch 6  | loss: 3.91592 | val_0_unsup_loss_numpy: 1.150570034980774|  0:00:00s\n",
      "Stop training because you reached max_epochs = 7 with best_epoch = 6 and best_val_0_unsup_loss_numpy = 1.150570034980774\n",
      "----- [INFO] Client 1\n",
      "epoch 0  | loss: 3.98289 | val_0_unsup_loss_numpy: 1.6245399713516235|  0:00:00s\n"
     ]
    },
    {
     "name": "stderr",
     "output_type": "stream",
     "text": [
      "/home/necphy/miniconda3/envs/thaivu_env/lib/python3.9/site-packages/pytorch_tabnet/callbacks.py:172: UserWarning: Best weights from best epoch are automatically used!\n",
      "  warnings.warn(wrn_msg)\n"
     ]
    },
    {
     "name": "stdout",
     "output_type": "stream",
     "text": [
      "epoch 1  | loss: 2.43862 | val_0_unsup_loss_numpy: 1.2813600301742554|  0:00:00s\n",
      "epoch 2  | loss: 1.79213 | val_0_unsup_loss_numpy: 1.5211999416351318|  0:00:00s\n",
      "epoch 3  | loss: 26.71747| val_0_unsup_loss_numpy: 1.4453099966049194|  0:00:00s\n",
      "epoch 4  | loss: 1.21848 | val_0_unsup_loss_numpy: 1.5202100276947021|  0:00:00s\n",
      "epoch 5  | loss: 1.27434 | val_0_unsup_loss_numpy: 1.45278000831604|  0:00:00s\n",
      "epoch 6  | loss: 1.12972 | val_0_unsup_loss_numpy: 1.0494500398635864|  0:00:00s\n",
      "Stop training because you reached max_epochs = 7 with best_epoch = 6 and best_val_0_unsup_loss_numpy = 1.0494500398635864\n",
      "----- [INFO] Client 2\n"
     ]
    },
    {
     "name": "stderr",
     "output_type": "stream",
     "text": [
      "/home/necphy/miniconda3/envs/thaivu_env/lib/python3.9/site-packages/pytorch_tabnet/callbacks.py:172: UserWarning: Best weights from best epoch are automatically used!\n",
      "  warnings.warn(wrn_msg)\n"
     ]
    },
    {
     "name": "stdout",
     "output_type": "stream",
     "text": [
      "epoch 0  | loss: 25.30764| val_0_unsup_loss_numpy: 12.363129615783691|  0:00:00s\n",
      "epoch 1  | loss: 4.3205  | val_0_unsup_loss_numpy: 13.495750427246094|  0:00:00s\n",
      "epoch 2  | loss: 6.52306 | val_0_unsup_loss_numpy: 3.914760112762451|  0:00:00s\n",
      "epoch 3  | loss: 7.24961 | val_0_unsup_loss_numpy: 3.0379700660705566|  0:00:00s\n",
      "epoch 4  | loss: 9.51806 | val_0_unsup_loss_numpy: 1.4486900568008423|  0:00:00s\n",
      "epoch 5  | loss: 1.80523 | val_0_unsup_loss_numpy: 1.2537699937820435|  0:00:00s\n",
      "epoch 6  | loss: 1.51074 | val_0_unsup_loss_numpy: 1.1974899768829346|  0:00:00s\n",
      "Stop training because you reached max_epochs = 7 with best_epoch = 6 and best_val_0_unsup_loss_numpy = 1.1974899768829346\n",
      "----- [INFO] Client 3\n",
      "epoch 0  | loss: 248.11857| val_0_unsup_loss_numpy: 34.883121490478516|  0:00:00s\n"
     ]
    },
    {
     "name": "stderr",
     "output_type": "stream",
     "text": [
      "/home/necphy/miniconda3/envs/thaivu_env/lib/python3.9/site-packages/pytorch_tabnet/callbacks.py:172: UserWarning: Best weights from best epoch are automatically used!\n",
      "  warnings.warn(wrn_msg)\n"
     ]
    },
    {
     "name": "stdout",
     "output_type": "stream",
     "text": [
      "epoch 1  | loss: 514.80163| val_0_unsup_loss_numpy: 15.791460037231445|  0:00:00s\n",
      "epoch 2  | loss: 29.34137| val_0_unsup_loss_numpy: 4.095449924468994|  0:00:00s\n",
      "epoch 3  | loss: 3.63351 | val_0_unsup_loss_numpy: 10.564279556274414|  0:00:00s\n",
      "epoch 4  | loss: 3.37465 | val_0_unsup_loss_numpy: 5.578219890594482|  0:00:00s\n",
      "epoch 5  | loss: 44.88862| val_0_unsup_loss_numpy: 2.3085200786590576|  0:00:00s\n",
      "epoch 6  | loss: 4.77515 | val_0_unsup_loss_numpy: 2.6407599449157715|  0:00:00s\n",
      "Stop training because you reached max_epochs = 7 with best_epoch = 5 and best_val_0_unsup_loss_numpy = 2.3085200786590576\n",
      "----- [INFO] Client 4\n"
     ]
    },
    {
     "name": "stderr",
     "output_type": "stream",
     "text": [
      "/home/necphy/miniconda3/envs/thaivu_env/lib/python3.9/site-packages/pytorch_tabnet/callbacks.py:172: UserWarning: Best weights from best epoch are automatically used!\n",
      "  warnings.warn(wrn_msg)\n"
     ]
    },
    {
     "name": "stdout",
     "output_type": "stream",
     "text": [
      "epoch 0  | loss: 5.11043 | val_0_unsup_loss_numpy: 2.2133800983428955|  0:00:00s\n",
      "epoch 1  | loss: 2.81719 | val_0_unsup_loss_numpy: 2.328779935836792|  0:00:00s\n",
      "epoch 2  | loss: 3.52918 | val_0_unsup_loss_numpy: 2.048840045928955|  0:00:00s\n",
      "epoch 3  | loss: 26.10498| val_0_unsup_loss_numpy: 1.6512600183486938|  0:00:00s\n",
      "epoch 4  | loss: 1.52377 | val_0_unsup_loss_numpy: 1.9243799448013306|  0:00:00s\n",
      "epoch 5  | loss: 1.59649 | val_0_unsup_loss_numpy: 1.9102200269699097|  0:00:00s\n",
      "epoch 6  | loss: 1.81024 | val_0_unsup_loss_numpy: 1.7152600288391113|  0:00:00s\n",
      "Stop training because you reached max_epochs = 7 with best_epoch = 3 and best_val_0_unsup_loss_numpy = 1.6512600183486938\n",
      "----- [INFO] Client 5\n",
      "epoch 0  | loss: 3.09682 | val_0_unsup_loss_numpy: 1.4086600542068481|  0:00:00s\n"
     ]
    },
    {
     "name": "stderr",
     "output_type": "stream",
     "text": [
      "/home/necphy/miniconda3/envs/thaivu_env/lib/python3.9/site-packages/pytorch_tabnet/callbacks.py:172: UserWarning: Best weights from best epoch are automatically used!\n",
      "  warnings.warn(wrn_msg)\n"
     ]
    },
    {
     "name": "stdout",
     "output_type": "stream",
     "text": [
      "epoch 1  | loss: 1.4882  | val_0_unsup_loss_numpy: 1.5798699855804443|  0:00:00s\n",
      "epoch 2  | loss: 1.72678 | val_0_unsup_loss_numpy: 1.4226100444793701|  0:00:00s\n",
      "epoch 3  | loss: 1.53329 | val_0_unsup_loss_numpy: 1.1361199617385864|  0:00:00s\n",
      "epoch 4  | loss: 1.41824 | val_0_unsup_loss_numpy: 1.0094599723815918|  0:00:00s\n",
      "epoch 5  | loss: 1.26803 | val_0_unsup_loss_numpy: 1.0074599981307983|  0:00:00s\n",
      "epoch 6  | loss: 1.47903 | val_0_unsup_loss_numpy: 1.135640025138855|  0:00:00s\n",
      "Stop training because you reached max_epochs = 7 with best_epoch = 5 and best_val_0_unsup_loss_numpy = 1.0074599981307983\n",
      "----- [INFO] Client 6\n"
     ]
    },
    {
     "name": "stderr",
     "output_type": "stream",
     "text": [
      "/home/necphy/miniconda3/envs/thaivu_env/lib/python3.9/site-packages/pytorch_tabnet/callbacks.py:172: UserWarning: Best weights from best epoch are automatically used!\n",
      "  warnings.warn(wrn_msg)\n"
     ]
    },
    {
     "name": "stdout",
     "output_type": "stream",
     "text": [
      "epoch 0  | loss: 3.86138 | val_0_unsup_loss_numpy: 2.5806899070739746|  0:00:00s\n",
      "epoch 1  | loss: 2.12911 | val_0_unsup_loss_numpy: 2.331399917602539|  0:00:00s\n",
      "epoch 2  | loss: 1.82036 | val_0_unsup_loss_numpy: 1.5926899909973145|  0:00:00s\n",
      "epoch 3  | loss: 1.96379 | val_0_unsup_loss_numpy: 1.1951199769973755|  0:00:00s\n",
      "epoch 4  | loss: 1.32344 | val_0_unsup_loss_numpy: 1.3179500102996826|  0:00:00s\n",
      "epoch 5  | loss: 1.45311 | val_0_unsup_loss_numpy: 1.1059000492095947|  0:00:00s\n",
      "epoch 6  | loss: 1.98583 | val_0_unsup_loss_numpy: 1.2042499780654907|  0:00:00s\n",
      "Stop training because you reached max_epochs = 7 with best_epoch = 5 and best_val_0_unsup_loss_numpy = 1.1059000492095947\n",
      "----- [INFO] Client 7\n",
      "epoch 0  | loss: 8.62265 | val_0_unsup_loss_numpy: 2.0550899505615234|  0:00:00s\n"
     ]
    },
    {
     "name": "stderr",
     "output_type": "stream",
     "text": [
      "/home/necphy/miniconda3/envs/thaivu_env/lib/python3.9/site-packages/pytorch_tabnet/callbacks.py:172: UserWarning: Best weights from best epoch are automatically used!\n",
      "  warnings.warn(wrn_msg)\n"
     ]
    },
    {
     "name": "stdout",
     "output_type": "stream",
     "text": [
      "epoch 1  | loss: 7.48091 | val_0_unsup_loss_numpy: 2.5605099201202393|  0:00:00s\n",
      "epoch 2  | loss: 2.2212  | val_0_unsup_loss_numpy: 2.3660099506378174|  0:00:00s\n",
      "epoch 3  | loss: 2.74864 | val_0_unsup_loss_numpy: 1.6909799575805664|  0:00:00s\n",
      "epoch 4  | loss: 91.11485| val_0_unsup_loss_numpy: 1.2343900203704834|  0:00:00s\n",
      "epoch 5  | loss: 1.66627 | val_0_unsup_loss_numpy: 1.5132700204849243|  0:00:00s\n",
      "epoch 6  | loss: 1.33504 | val_0_unsup_loss_numpy: 1.4413199424743652|  0:00:00s\n",
      "Stop training because you reached max_epochs = 7 with best_epoch = 4 and best_val_0_unsup_loss_numpy = 1.2343900203704834\n",
      "----- [INFO] Client 8\n"
     ]
    },
    {
     "name": "stderr",
     "output_type": "stream",
     "text": [
      "/home/necphy/miniconda3/envs/thaivu_env/lib/python3.9/site-packages/pytorch_tabnet/callbacks.py:172: UserWarning: Best weights from best epoch are automatically used!\n",
      "  warnings.warn(wrn_msg)\n"
     ]
    },
    {
     "name": "stdout",
     "output_type": "stream",
     "text": [
      "epoch 0  | loss: 20.50014| val_0_unsup_loss_numpy: 2.5521299839019775|  0:00:00s\n",
      "epoch 1  | loss: 3.04149 | val_0_unsup_loss_numpy: 2.2970099449157715|  0:00:00s\n",
      "epoch 2  | loss: 1.87577 | val_0_unsup_loss_numpy: 3.9716200828552246|  0:00:00s\n",
      "epoch 3  | loss: 1.44442 | val_0_unsup_loss_numpy: 1.5414600372314453|  0:00:00s\n",
      "epoch 4  | loss: 1.81204 | val_0_unsup_loss_numpy: 3.206929922103882|  0:00:00s\n",
      "epoch 5  | loss: 1.81387 | val_0_unsup_loss_numpy: 1.9820899963378906|  0:00:00s\n",
      "epoch 6  | loss: 1.49433 | val_0_unsup_loss_numpy: 2.462440013885498|  0:00:00s\n",
      "Stop training because you reached max_epochs = 7 with best_epoch = 3 and best_val_0_unsup_loss_numpy = 1.5414600372314453\n",
      "----- [INFO] Client 9\n",
      "epoch 0  | loss: 27.83343| val_0_unsup_loss_numpy: 7.547929763793945|  0:00:00s\n"
     ]
    },
    {
     "name": "stderr",
     "output_type": "stream",
     "text": [
      "/home/necphy/miniconda3/envs/thaivu_env/lib/python3.9/site-packages/pytorch_tabnet/callbacks.py:172: UserWarning: Best weights from best epoch are automatically used!\n",
      "  warnings.warn(wrn_msg)\n"
     ]
    },
    {
     "name": "stdout",
     "output_type": "stream",
     "text": [
      "epoch 1  | loss: 4.89912 | val_0_unsup_loss_numpy: 3.064389944076538|  0:00:00s\n",
      "epoch 2  | loss: 3.71012 | val_0_unsup_loss_numpy: 3.8229100704193115|  0:00:00s\n",
      "epoch 3  | loss: 2.30966 | val_0_unsup_loss_numpy: 2.3756000995635986|  0:00:00s\n",
      "epoch 4  | loss: 3.73991 | val_0_unsup_loss_numpy: 2.288939952850342|  0:00:00s\n",
      "epoch 5  | loss: 3.39219 | val_0_unsup_loss_numpy: 1.640529990196228|  0:00:00s\n",
      "epoch 6  | loss: 2.91001 | val_0_unsup_loss_numpy: 1.6962599754333496|  0:00:00s\n",
      "Stop training because you reached max_epochs = 7 with best_epoch = 5 and best_val_0_unsup_loss_numpy = 1.640529990196228\n"
     ]
    },
    {
     "name": "stderr",
     "output_type": "stream",
     "text": [
      "/home/necphy/miniconda3/envs/thaivu_env/lib/python3.9/site-packages/pytorch_tabnet/callbacks.py:172: UserWarning: Best weights from best epoch are automatically used!\n",
      "  warnings.warn(wrn_msg)\n"
     ]
    },
    {
     "name": "stdout",
     "output_type": "stream",
     "text": [
      "---------- [INFO] Round 2\n",
      "----- [INFO] Client 0\n",
      "epoch 0  | loss: 5.53508 | val_0_unsup_loss_numpy: 6.236100196838379|  0:00:00s\n",
      "epoch 1  | loss: 3.14941 | val_0_unsup_loss_numpy: 2.970439910888672|  0:00:00s\n",
      "epoch 2  | loss: 2.26636 | val_0_unsup_loss_numpy: 2.5048000812530518|  0:00:00s\n",
      "epoch 3  | loss: 4.17775 | val_0_unsup_loss_numpy: 2.014130115509033|  0:00:00s\n",
      "epoch 4  | loss: 4.12373 | val_0_unsup_loss_numpy: 1.6865500211715698|  0:00:00s\n",
      "epoch 5  | loss: 1.42541 | val_0_unsup_loss_numpy: 2.750969886779785|  0:00:00s\n",
      "epoch 6  | loss: 1.4918  | val_0_unsup_loss_numpy: 1.5675899982452393|  0:00:00s\n",
      "Stop training because you reached max_epochs = 7 with best_epoch = 6 and best_val_0_unsup_loss_numpy = 1.5675899982452393\n",
      "----- [INFO] Client 1\n"
     ]
    },
    {
     "name": "stderr",
     "output_type": "stream",
     "text": [
      "/home/necphy/miniconda3/envs/thaivu_env/lib/python3.9/site-packages/pytorch_tabnet/callbacks.py:172: UserWarning: Best weights from best epoch are automatically used!\n",
      "  warnings.warn(wrn_msg)\n"
     ]
    },
    {
     "name": "stdout",
     "output_type": "stream",
     "text": [
      "epoch 0  | loss: 4.40654 | val_0_unsup_loss_numpy: 2.0928099155426025|  0:00:00s\n",
      "epoch 1  | loss: 2.29159 | val_0_unsup_loss_numpy: 2.5736300945281982|  0:00:00s\n",
      "epoch 2  | loss: 1.36798 | val_0_unsup_loss_numpy: 1.1775799989700317|  0:00:00s\n",
      "epoch 3  | loss: 1.27593 | val_0_unsup_loss_numpy: 1.2371799945831299|  0:00:00s\n",
      "epoch 4  | loss: 1.67292 | val_0_unsup_loss_numpy: 1.6717300415039062|  0:00:00s\n",
      "epoch 5  | loss: 1.30215 | val_0_unsup_loss_numpy: 1.2058500051498413|  0:00:00s\n",
      "epoch 6  | loss: 1.04115 | val_0_unsup_loss_numpy: 1.0358999967575073|  0:00:00s\n",
      "Stop training because you reached max_epochs = 7 with best_epoch = 6 and best_val_0_unsup_loss_numpy = 1.0358999967575073\n",
      "----- [INFO] Client 2\n",
      "epoch 0  | loss: 6.45481 | val_0_unsup_loss_numpy: 7.5406599044799805|  0:00:00s\n"
     ]
    },
    {
     "name": "stderr",
     "output_type": "stream",
     "text": [
      "/home/necphy/miniconda3/envs/thaivu_env/lib/python3.9/site-packages/pytorch_tabnet/callbacks.py:172: UserWarning: Best weights from best epoch are automatically used!\n",
      "  warnings.warn(wrn_msg)\n"
     ]
    },
    {
     "name": "stdout",
     "output_type": "stream",
     "text": [
      "epoch 1  | loss: 23.71443| val_0_unsup_loss_numpy: 4.0432000160217285|  0:00:00s\n",
      "epoch 2  | loss: 2.31714 | val_0_unsup_loss_numpy: 4.56181001663208|  0:00:00s\n",
      "epoch 3  | loss: 1.96344 | val_0_unsup_loss_numpy: 2.3013899326324463|  0:00:00s\n",
      "epoch 4  | loss: 1.2624  | val_0_unsup_loss_numpy: 1.9137500524520874|  0:00:00s\n",
      "epoch 5  | loss: 3.30416 | val_0_unsup_loss_numpy: 1.606279969215393|  0:00:00s\n",
      "epoch 6  | loss: 1.5816  | val_0_unsup_loss_numpy: 2.227530002593994|  0:00:00s\n",
      "Stop training because you reached max_epochs = 7 with best_epoch = 5 and best_val_0_unsup_loss_numpy = 1.606279969215393\n",
      "----- [INFO] Client 3\n"
     ]
    },
    {
     "name": "stderr",
     "output_type": "stream",
     "text": [
      "/home/necphy/miniconda3/envs/thaivu_env/lib/python3.9/site-packages/pytorch_tabnet/callbacks.py:172: UserWarning: Best weights from best epoch are automatically used!\n",
      "  warnings.warn(wrn_msg)\n"
     ]
    },
    {
     "name": "stdout",
     "output_type": "stream",
     "text": [
      "epoch 0  | loss: 630.93448| val_0_unsup_loss_numpy: 8.502429962158203|  0:00:00s\n",
      "epoch 1  | loss: 81.43006| val_0_unsup_loss_numpy: 17.230310440063477|  0:00:00s\n",
      "epoch 2  | loss: 581.23216| val_0_unsup_loss_numpy: 19.513729095458984|  0:00:00s\n",
      "epoch 3  | loss: 279.12141| val_0_unsup_loss_numpy: 9.96226978302002|  0:00:00s\n",
      "epoch 4  | loss: 334.50754| val_0_unsup_loss_numpy: 2.4846599102020264|  0:00:00s\n",
      "epoch 5  | loss: 254.51743| val_0_unsup_loss_numpy: 4.305650234222412|  0:00:00s\n",
      "epoch 6  | loss: 3.16352 | val_0_unsup_loss_numpy: 17.128000259399414|  0:00:00s\n",
      "Stop training because you reached max_epochs = 7 with best_epoch = 4 and best_val_0_unsup_loss_numpy = 2.4846599102020264\n",
      "----- [INFO] Client 4\n",
      "epoch 0  | loss: 3.56937 | val_0_unsup_loss_numpy: 2.270859956741333|  0:00:00s\n"
     ]
    },
    {
     "name": "stderr",
     "output_type": "stream",
     "text": [
      "/home/necphy/miniconda3/envs/thaivu_env/lib/python3.9/site-packages/pytorch_tabnet/callbacks.py:172: UserWarning: Best weights from best epoch are automatically used!\n",
      "  warnings.warn(wrn_msg)\n"
     ]
    },
    {
     "name": "stdout",
     "output_type": "stream",
     "text": [
      "epoch 1  | loss: 29.67847| val_0_unsup_loss_numpy: 2.331239938735962|  0:00:00s\n",
      "epoch 2  | loss: 2.15095 | val_0_unsup_loss_numpy: 1.2720799446105957|  0:00:00s\n",
      "epoch 3  | loss: 1.50316 | val_0_unsup_loss_numpy: 1.6190799474716187|  0:00:00s\n",
      "epoch 4  | loss: 10.79031| val_0_unsup_loss_numpy: 1.1786400079727173|  0:00:00s\n",
      "epoch 5  | loss: 1.61839 | val_0_unsup_loss_numpy: 1.0919500589370728|  0:00:00s\n",
      "epoch 6  | loss: 1.09618 | val_0_unsup_loss_numpy: 1.2157100439071655|  0:00:00s\n",
      "Stop training because you reached max_epochs = 7 with best_epoch = 5 and best_val_0_unsup_loss_numpy = 1.0919500589370728\n",
      "----- [INFO] Client 5\n"
     ]
    },
    {
     "name": "stderr",
     "output_type": "stream",
     "text": [
      "/home/necphy/miniconda3/envs/thaivu_env/lib/python3.9/site-packages/pytorch_tabnet/callbacks.py:172: UserWarning: Best weights from best epoch are automatically used!\n",
      "  warnings.warn(wrn_msg)\n"
     ]
    },
    {
     "name": "stdout",
     "output_type": "stream",
     "text": [
      "epoch 0  | loss: 6.98203 | val_0_unsup_loss_numpy: 3.992810010910034|  0:00:00s\n",
      "epoch 1  | loss: 2.42972 | val_0_unsup_loss_numpy: 3.0459799766540527|  0:00:00s\n",
      "epoch 2  | loss: 2.01815 | val_0_unsup_loss_numpy: 1.2963500022888184|  0:00:00s\n",
      "epoch 3  | loss: 1.67728 | val_0_unsup_loss_numpy: 1.1164000034332275|  0:00:00s\n",
      "epoch 4  | loss: 1.54379 | val_0_unsup_loss_numpy: 1.5727800130844116|  0:00:00s\n",
      "epoch 5  | loss: 1.48278 | val_0_unsup_loss_numpy: 1.1842000484466553|  0:00:00s\n",
      "epoch 6  | loss: 2.68388 | val_0_unsup_loss_numpy: 1.2834800481796265|  0:00:00s\n",
      "Stop training because you reached max_epochs = 7 with best_epoch = 3 and best_val_0_unsup_loss_numpy = 1.1164000034332275\n",
      "----- [INFO] Client 6\n",
      "epoch 0  | loss: 9.88985 | val_0_unsup_loss_numpy: 2.137209892272949|  0:00:00s\n"
     ]
    },
    {
     "name": "stderr",
     "output_type": "stream",
     "text": [
      "/home/necphy/miniconda3/envs/thaivu_env/lib/python3.9/site-packages/pytorch_tabnet/callbacks.py:172: UserWarning: Best weights from best epoch are automatically used!\n",
      "  warnings.warn(wrn_msg)\n"
     ]
    },
    {
     "name": "stdout",
     "output_type": "stream",
     "text": [
      "epoch 1  | loss: 2.47508 | val_0_unsup_loss_numpy: 1.2739800214767456|  0:00:00s\n",
      "epoch 2  | loss: 2.12061 | val_0_unsup_loss_numpy: 1.431339979171753|  0:00:00s\n",
      "epoch 3  | loss: 12.99021| val_0_unsup_loss_numpy: 1.1538000106811523|  0:00:00s\n",
      "epoch 4  | loss: 2.61322 | val_0_unsup_loss_numpy: 1.5516799688339233|  0:00:00s\n",
      "epoch 5  | loss: 1.96646 | val_0_unsup_loss_numpy: 1.1331700086593628|  0:00:00s\n",
      "epoch 6  | loss: 2.22023 | val_0_unsup_loss_numpy: 1.2552900314331055|  0:00:00s\n",
      "Stop training because you reached max_epochs = 7 with best_epoch = 5 and best_val_0_unsup_loss_numpy = 1.1331700086593628\n",
      "----- [INFO] Client 7\n"
     ]
    },
    {
     "name": "stderr",
     "output_type": "stream",
     "text": [
      "/home/necphy/miniconda3/envs/thaivu_env/lib/python3.9/site-packages/pytorch_tabnet/callbacks.py:172: UserWarning: Best weights from best epoch are automatically used!\n",
      "  warnings.warn(wrn_msg)\n"
     ]
    },
    {
     "name": "stdout",
     "output_type": "stream",
     "text": [
      "epoch 0  | loss: 25.67092| val_0_unsup_loss_numpy: 3.677649974822998|  0:00:00s\n",
      "epoch 1  | loss: 2.34352 | val_0_unsup_loss_numpy: 1.407520055770874|  0:00:00s\n",
      "epoch 2  | loss: 2.49507 | val_0_unsup_loss_numpy: 1.1924999952316284|  0:00:00s\n",
      "epoch 3  | loss: 1.27611 | val_0_unsup_loss_numpy: 1.1426899433135986|  0:00:00s\n",
      "epoch 4  | loss: 1.21339 | val_0_unsup_loss_numpy: 1.2121700048446655|  0:00:00s\n",
      "epoch 5  | loss: 1.19103 | val_0_unsup_loss_numpy: 1.1376899480819702|  0:00:00s\n",
      "epoch 6  | loss: 1.67141 | val_0_unsup_loss_numpy: 1.0900100469589233|  0:00:00s\n",
      "Stop training because you reached max_epochs = 7 with best_epoch = 6 and best_val_0_unsup_loss_numpy = 1.0900100469589233\n",
      "----- [INFO] Client 8\n",
      "epoch 0  | loss: 6.41532 | val_0_unsup_loss_numpy: 4.5177001953125|  0:00:00s\n"
     ]
    },
    {
     "name": "stderr",
     "output_type": "stream",
     "text": [
      "/home/necphy/miniconda3/envs/thaivu_env/lib/python3.9/site-packages/pytorch_tabnet/callbacks.py:172: UserWarning: Best weights from best epoch are automatically used!\n",
      "  warnings.warn(wrn_msg)\n"
     ]
    },
    {
     "name": "stdout",
     "output_type": "stream",
     "text": [
      "epoch 1  | loss: 2.58895 | val_0_unsup_loss_numpy: 1.5848699808120728|  0:00:00s\n",
      "epoch 2  | loss: 1.94081 | val_0_unsup_loss_numpy: 1.8780699968338013|  0:00:00s\n",
      "epoch 3  | loss: 1.66223 | val_0_unsup_loss_numpy: 1.5446799993515015|  0:00:00s\n",
      "epoch 4  | loss: 3.1089  | val_0_unsup_loss_numpy: 1.953719973564148|  0:00:00s\n",
      "epoch 5  | loss: 2.69582 | val_0_unsup_loss_numpy: 3.0565900802612305|  0:00:00s\n",
      "epoch 6  | loss: 3.89152 | val_0_unsup_loss_numpy: 2.6466100215911865|  0:00:00s\n",
      "Stop training because you reached max_epochs = 7 with best_epoch = 3 and best_val_0_unsup_loss_numpy = 1.5446799993515015\n",
      "----- [INFO] Client 9\n"
     ]
    },
    {
     "name": "stderr",
     "output_type": "stream",
     "text": [
      "/home/necphy/miniconda3/envs/thaivu_env/lib/python3.9/site-packages/pytorch_tabnet/callbacks.py:172: UserWarning: Best weights from best epoch are automatically used!\n",
      "  warnings.warn(wrn_msg)\n"
     ]
    },
    {
     "name": "stdout",
     "output_type": "stream",
     "text": [
      "epoch 0  | loss: 11.7872 | val_0_unsup_loss_numpy: 11.30685043334961|  0:00:00s\n",
      "epoch 1  | loss: 7.8251  | val_0_unsup_loss_numpy: 5.022029876708984|  0:00:00s\n",
      "epoch 2  | loss: 4.25707 | val_0_unsup_loss_numpy: 2.0081100463867188|  0:00:00s\n",
      "epoch 3  | loss: 2.65439 | val_0_unsup_loss_numpy: 1.5552599430084229|  0:00:00s\n",
      "epoch 4  | loss: 1.70997 | val_0_unsup_loss_numpy: 1.4830399751663208|  0:00:00s\n",
      "epoch 5  | loss: 1.64141 | val_0_unsup_loss_numpy: 1.6569900512695312|  0:00:00s\n",
      "epoch 6  | loss: 1.53907 | val_0_unsup_loss_numpy: 1.659540057182312|  0:00:00s\n",
      "Stop training because you reached max_epochs = 7 with best_epoch = 4 and best_val_0_unsup_loss_numpy = 1.4830399751663208\n",
      "---------- [INFO] Round 3\n",
      "----- [INFO] Client 0\n"
     ]
    },
    {
     "name": "stderr",
     "output_type": "stream",
     "text": [
      "/home/necphy/miniconda3/envs/thaivu_env/lib/python3.9/site-packages/pytorch_tabnet/callbacks.py:172: UserWarning: Best weights from best epoch are automatically used!\n",
      "  warnings.warn(wrn_msg)\n"
     ]
    },
    {
     "name": "stdout",
     "output_type": "stream",
     "text": [
      "epoch 0  | loss: 6.29101 | val_0_unsup_loss_numpy: 1.656440019607544|  0:00:00s\n",
      "epoch 1  | loss: 9.18606 | val_0_unsup_loss_numpy: 2.0791800022125244|  0:00:00s\n",
      "epoch 2  | loss: 1.72419 | val_0_unsup_loss_numpy: 1.9673500061035156|  0:00:00s\n",
      "epoch 3  | loss: 3.56565 | val_0_unsup_loss_numpy: 4.73376989364624|  0:00:00s\n",
      "epoch 4  | loss: 3.45623 | val_0_unsup_loss_numpy: 2.052799940109253|  0:00:00s\n",
      "epoch 5  | loss: 3.43868 | val_0_unsup_loss_numpy: 1.321470022201538|  0:00:00s\n",
      "epoch 6  | loss: 1.33362 | val_0_unsup_loss_numpy: 1.9805099964141846|  0:00:00s\n",
      "Stop training because you reached max_epochs = 7 with best_epoch = 5 and best_val_0_unsup_loss_numpy = 1.321470022201538\n",
      "----- [INFO] Client 1\n",
      "epoch 0  | loss: 2.73813 | val_0_unsup_loss_numpy: 3.9985299110412598|  0:00:00s\n"
     ]
    },
    {
     "name": "stderr",
     "output_type": "stream",
     "text": [
      "/home/necphy/miniconda3/envs/thaivu_env/lib/python3.9/site-packages/pytorch_tabnet/callbacks.py:172: UserWarning: Best weights from best epoch are automatically used!\n",
      "  warnings.warn(wrn_msg)\n"
     ]
    },
    {
     "name": "stdout",
     "output_type": "stream",
     "text": [
      "epoch 1  | loss: 3.17824 | val_0_unsup_loss_numpy: 2.2508199214935303|  0:00:00s\n",
      "epoch 2  | loss: 2.26942 | val_0_unsup_loss_numpy: 2.4392900466918945|  0:00:00s\n",
      "epoch 3  | loss: 2.7377  | val_0_unsup_loss_numpy: 1.6130900382995605|  0:00:00s\n",
      "epoch 4  | loss: 1.54773 | val_0_unsup_loss_numpy: 1.1299099922180176|  0:00:00s\n",
      "epoch 5  | loss: 1.08721 | val_0_unsup_loss_numpy: 1.763350009918213|  0:00:00s\n",
      "epoch 6  | loss: 1.34028 | val_0_unsup_loss_numpy: 1.219059944152832|  0:00:00s\n",
      "Stop training because you reached max_epochs = 7 with best_epoch = 4 and best_val_0_unsup_loss_numpy = 1.1299099922180176\n",
      "----- [INFO] Client 2\n"
     ]
    },
    {
     "name": "stderr",
     "output_type": "stream",
     "text": [
      "/home/necphy/miniconda3/envs/thaivu_env/lib/python3.9/site-packages/pytorch_tabnet/callbacks.py:172: UserWarning: Best weights from best epoch are automatically used!\n",
      "  warnings.warn(wrn_msg)\n"
     ]
    },
    {
     "name": "stdout",
     "output_type": "stream",
     "text": [
      "epoch 0  | loss: 20.26995| val_0_unsup_loss_numpy: 3.1869699954986572|  0:00:00s\n",
      "epoch 1  | loss: 5.50779 | val_0_unsup_loss_numpy: 1.9610799551010132|  0:00:00s\n",
      "epoch 2  | loss: 5.08868 | val_0_unsup_loss_numpy: 1.6603599786758423|  0:00:00s\n",
      "epoch 3  | loss: 11.137  | val_0_unsup_loss_numpy: 2.553809881210327|  0:00:00s\n",
      "epoch 4  | loss: 1.89535 | val_0_unsup_loss_numpy: 2.135050058364868|  0:00:00s\n",
      "epoch 5  | loss: 4.04483 | val_0_unsup_loss_numpy: 1.6899100542068481|  0:00:00s\n",
      "epoch 6  | loss: 1.18811 | val_0_unsup_loss_numpy: 1.1378799676895142|  0:00:00s\n",
      "Stop training because you reached max_epochs = 7 with best_epoch = 6 and best_val_0_unsup_loss_numpy = 1.1378799676895142\n",
      "----- [INFO] Client 3\n",
      "epoch 0  | loss: 615.76801| val_0_unsup_loss_numpy: 14.287850379943848|  0:00:00s\n"
     ]
    },
    {
     "name": "stderr",
     "output_type": "stream",
     "text": [
      "/home/necphy/miniconda3/envs/thaivu_env/lib/python3.9/site-packages/pytorch_tabnet/callbacks.py:172: UserWarning: Best weights from best epoch are automatically used!\n",
      "  warnings.warn(wrn_msg)\n"
     ]
    },
    {
     "name": "stdout",
     "output_type": "stream",
     "text": [
      "epoch 1  | loss: 4.22614 | val_0_unsup_loss_numpy: 3.74288010597229|  0:00:00s\n",
      "epoch 2  | loss: 82.67832| val_0_unsup_loss_numpy: 5.1118597984313965|  0:00:00s\n",
      "epoch 3  | loss: 37.32144| val_0_unsup_loss_numpy: 1.7836099863052368|  0:00:00s\n",
      "epoch 4  | loss: 74.95588| val_0_unsup_loss_numpy: 7.166309833526611|  0:00:00s\n",
      "epoch 5  | loss: 20.37052| val_0_unsup_loss_numpy: 1.3839399814605713|  0:00:00s\n",
      "epoch 6  | loss: 13.11163| val_0_unsup_loss_numpy: 3.8639299869537354|  0:00:00s\n",
      "Stop training because you reached max_epochs = 7 with best_epoch = 5 and best_val_0_unsup_loss_numpy = 1.3839399814605713\n",
      "----- [INFO] Client 4\n"
     ]
    },
    {
     "name": "stderr",
     "output_type": "stream",
     "text": [
      "/home/necphy/miniconda3/envs/thaivu_env/lib/python3.9/site-packages/pytorch_tabnet/callbacks.py:172: UserWarning: Best weights from best epoch are automatically used!\n",
      "  warnings.warn(wrn_msg)\n"
     ]
    },
    {
     "name": "stdout",
     "output_type": "stream",
     "text": [
      "epoch 0  | loss: 2.50456 | val_0_unsup_loss_numpy: 1.808650016784668|  0:00:00s\n",
      "epoch 1  | loss: 1.44258 | val_0_unsup_loss_numpy: 2.3655800819396973|  0:00:00s\n",
      "epoch 2  | loss: 1.3039  | val_0_unsup_loss_numpy: 1.135990023612976|  0:00:00s\n",
      "epoch 3  | loss: 2.85178 | val_0_unsup_loss_numpy: 1.370710015296936|  0:00:00s\n",
      "epoch 4  | loss: 1.1692  | val_0_unsup_loss_numpy: 1.345420002937317|  0:00:00s\n",
      "epoch 5  | loss: 1.10271 | val_0_unsup_loss_numpy: 1.0604100227355957|  0:00:00s\n",
      "epoch 6  | loss: 1.00809 | val_0_unsup_loss_numpy: 1.0735100507736206|  0:00:00s\n",
      "Stop training because you reached max_epochs = 7 with best_epoch = 5 and best_val_0_unsup_loss_numpy = 1.0604100227355957\n",
      "----- [INFO] Client 5\n",
      "epoch 0  | loss: 95.01001| val_0_unsup_loss_numpy: 1.3427200317382812|  0:00:00s\n"
     ]
    },
    {
     "name": "stderr",
     "output_type": "stream",
     "text": [
      "/home/necphy/miniconda3/envs/thaivu_env/lib/python3.9/site-packages/pytorch_tabnet/callbacks.py:172: UserWarning: Best weights from best epoch are automatically used!\n",
      "  warnings.warn(wrn_msg)\n"
     ]
    },
    {
     "name": "stdout",
     "output_type": "stream",
     "text": [
      "epoch 1  | loss: 2.34309 | val_0_unsup_loss_numpy: 1.798449993133545|  0:00:00s\n",
      "epoch 2  | loss: 10.40278| val_0_unsup_loss_numpy: 1.6380300521850586|  0:00:00s\n",
      "epoch 3  | loss: 2.66931 | val_0_unsup_loss_numpy: 1.5274300575256348|  0:00:00s\n",
      "epoch 4  | loss: 1.81769 | val_0_unsup_loss_numpy: 1.0520399808883667|  0:00:00s\n",
      "epoch 5  | loss: 3.62652 | val_0_unsup_loss_numpy: 1.2210500240325928|  0:00:00s\n",
      "epoch 6  | loss: 1.32318 | val_0_unsup_loss_numpy: 1.1802699565887451|  0:00:00s\n",
      "Stop training because you reached max_epochs = 7 with best_epoch = 4 and best_val_0_unsup_loss_numpy = 1.0520399808883667\n",
      "----- [INFO] Client 6\n"
     ]
    },
    {
     "name": "stderr",
     "output_type": "stream",
     "text": [
      "/home/necphy/miniconda3/envs/thaivu_env/lib/python3.9/site-packages/pytorch_tabnet/callbacks.py:172: UserWarning: Best weights from best epoch are automatically used!\n",
      "  warnings.warn(wrn_msg)\n"
     ]
    },
    {
     "name": "stdout",
     "output_type": "stream",
     "text": [
      "epoch 0  | loss: 2.20009 | val_0_unsup_loss_numpy: 1.7636200189590454|  0:00:00s\n",
      "epoch 1  | loss: 1.64142 | val_0_unsup_loss_numpy: 1.6647299528121948|  0:00:00s\n",
      "epoch 2  | loss: 1.36319 | val_0_unsup_loss_numpy: 1.4532400369644165|  0:00:00s\n",
      "epoch 3  | loss: 1.6297  | val_0_unsup_loss_numpy: 1.2793099880218506|  0:00:00s\n",
      "epoch 4  | loss: 3.1077  | val_0_unsup_loss_numpy: 1.9392900466918945|  0:00:00s\n",
      "epoch 5  | loss: 1.83116 | val_0_unsup_loss_numpy: 1.5757700204849243|  0:00:00s\n",
      "epoch 6  | loss: 3.70969 | val_0_unsup_loss_numpy: 1.388219952583313|  0:00:00s\n",
      "Stop training because you reached max_epochs = 7 with best_epoch = 3 and best_val_0_unsup_loss_numpy = 1.2793099880218506\n",
      "----- [INFO] Client 7\n",
      "epoch 0  | loss: 7.40692 | val_0_unsup_loss_numpy: 5.454020023345947|  0:00:00s\n"
     ]
    },
    {
     "name": "stderr",
     "output_type": "stream",
     "text": [
      "/home/necphy/miniconda3/envs/thaivu_env/lib/python3.9/site-packages/pytorch_tabnet/callbacks.py:172: UserWarning: Best weights from best epoch are automatically used!\n",
      "  warnings.warn(wrn_msg)\n"
     ]
    },
    {
     "name": "stdout",
     "output_type": "stream",
     "text": [
      "epoch 1  | loss: 3.42989 | val_0_unsup_loss_numpy: 1.7396700382232666|  0:00:00s\n",
      "epoch 2  | loss: 1.74728 | val_0_unsup_loss_numpy: 1.6047300100326538|  0:00:00s\n",
      "epoch 3  | loss: 2.01778 | val_0_unsup_loss_numpy: 1.292389988899231|  0:00:00s\n",
      "epoch 4  | loss: 1.49823 | val_0_unsup_loss_numpy: 1.1721400022506714|  0:00:00s\n",
      "epoch 5  | loss: 1.24219 | val_0_unsup_loss_numpy: 1.7405999898910522|  0:00:00s\n",
      "epoch 6  | loss: 1.29253 | val_0_unsup_loss_numpy: 1.1795899868011475|  0:00:00s\n",
      "Stop training because you reached max_epochs = 7 with best_epoch = 4 and best_val_0_unsup_loss_numpy = 1.1721400022506714\n",
      "----- [INFO] Client 8\n"
     ]
    },
    {
     "name": "stderr",
     "output_type": "stream",
     "text": [
      "/home/necphy/miniconda3/envs/thaivu_env/lib/python3.9/site-packages/pytorch_tabnet/callbacks.py:172: UserWarning: Best weights from best epoch are automatically used!\n",
      "  warnings.warn(wrn_msg)\n"
     ]
    },
    {
     "name": "stdout",
     "output_type": "stream",
     "text": [
      "epoch 0  | loss: 1.91889 | val_0_unsup_loss_numpy: 1.7728500366210938|  0:00:00s\n",
      "epoch 1  | loss: 3.10514 | val_0_unsup_loss_numpy: 2.091360092163086|  0:00:00s\n",
      "epoch 2  | loss: 4.27928 | val_0_unsup_loss_numpy: 3.87923002243042|  0:00:00s\n",
      "epoch 3  | loss: 4.15889 | val_0_unsup_loss_numpy: 1.7250699996948242|  0:00:00s\n",
      "epoch 4  | loss: 2.00133 | val_0_unsup_loss_numpy: 1.8895299434661865|  0:00:00s\n",
      "epoch 5  | loss: 1.75496 | val_0_unsup_loss_numpy: 2.587440013885498|  0:00:00s\n",
      "epoch 6  | loss: 1.67813 | val_0_unsup_loss_numpy: 2.4825100898742676|  0:00:00s\n",
      "Stop training because you reached max_epochs = 7 with best_epoch = 3 and best_val_0_unsup_loss_numpy = 1.7250699996948242\n",
      "----- [INFO] Client 9\n",
      "epoch 0  | loss: 7.35154 | val_0_unsup_loss_numpy: 2.2078099250793457|  0:00:00s\n"
     ]
    },
    {
     "name": "stderr",
     "output_type": "stream",
     "text": [
      "/home/necphy/miniconda3/envs/thaivu_env/lib/python3.9/site-packages/pytorch_tabnet/callbacks.py:172: UserWarning: Best weights from best epoch are automatically used!\n",
      "  warnings.warn(wrn_msg)\n"
     ]
    },
    {
     "name": "stdout",
     "output_type": "stream",
     "text": [
      "epoch 1  | loss: 1.78941 | val_0_unsup_loss_numpy: 1.3779000043869019|  0:00:00s\n",
      "epoch 2  | loss: 2.37275 | val_0_unsup_loss_numpy: 1.5980199575424194|  0:00:00s\n",
      "epoch 3  | loss: 1.08628 | val_0_unsup_loss_numpy: 1.550320029258728|  0:00:00s\n",
      "epoch 4  | loss: 2.07534 | val_0_unsup_loss_numpy: 1.748829960823059|  0:00:00s\n",
      "epoch 5  | loss: 1.24736 | val_0_unsup_loss_numpy: 1.374500036239624|  0:00:00s\n",
      "epoch 6  | loss: 1.63282 | val_0_unsup_loss_numpy: 1.6954200267791748|  0:00:00s\n",
      "Stop training because you reached max_epochs = 7 with best_epoch = 5 and best_val_0_unsup_loss_numpy = 1.374500036239624\n"
     ]
    },
    {
     "name": "stderr",
     "output_type": "stream",
     "text": [
      "/home/necphy/miniconda3/envs/thaivu_env/lib/python3.9/site-packages/pytorch_tabnet/callbacks.py:172: UserWarning: Best weights from best epoch are automatically used!\n",
      "  warnings.warn(wrn_msg)\n"
     ]
    },
    {
     "name": "stdout",
     "output_type": "stream",
     "text": [
      "---------- [INFO] Round 4\n",
      "----- [INFO] Client 0\n",
      "epoch 0  | loss: 4.26418 | val_0_unsup_loss_numpy: 3.366990089416504|  0:00:00s\n",
      "epoch 1  | loss: 2.58314 | val_0_unsup_loss_numpy: 1.2431600093841553|  0:00:00s\n",
      "epoch 2  | loss: 6.27703 | val_0_unsup_loss_numpy: 1.4047600030899048|  0:00:00s\n",
      "epoch 3  | loss: 2.4335  | val_0_unsup_loss_numpy: 1.6075299978256226|  0:00:00s\n",
      "epoch 4  | loss: 1.51153 | val_0_unsup_loss_numpy: 1.3574899435043335|  0:00:00s\n",
      "epoch 5  | loss: 1.10705 | val_0_unsup_loss_numpy: 1.6603800058364868|  0:00:00s\n",
      "epoch 6  | loss: 3.01599 | val_0_unsup_loss_numpy: 1.652340054512024|  0:00:00s\n",
      "Stop training because you reached max_epochs = 7 with best_epoch = 1 and best_val_0_unsup_loss_numpy = 1.2431600093841553\n",
      "----- [INFO] Client 1\n"
     ]
    },
    {
     "name": "stderr",
     "output_type": "stream",
     "text": [
      "/home/necphy/miniconda3/envs/thaivu_env/lib/python3.9/site-packages/pytorch_tabnet/callbacks.py:172: UserWarning: Best weights from best epoch are automatically used!\n",
      "  warnings.warn(wrn_msg)\n"
     ]
    },
    {
     "name": "stdout",
     "output_type": "stream",
     "text": [
      "epoch 0  | loss: 1.40009 | val_0_unsup_loss_numpy: 1.9398800134658813|  0:00:00s\n",
      "epoch 1  | loss: 2.61908 | val_0_unsup_loss_numpy: 1.3285399675369263|  0:00:00s\n",
      "epoch 2  | loss: 1.74425 | val_0_unsup_loss_numpy: 2.0073599815368652|  0:00:00s\n",
      "epoch 3  | loss: 1.76067 | val_0_unsup_loss_numpy: 2.157749891281128|  0:00:00s\n",
      "epoch 4  | loss: 1.86794 | val_0_unsup_loss_numpy: 1.806089997291565|  0:00:00s\n",
      "epoch 5  | loss: 1.75072 | val_0_unsup_loss_numpy: 2.188730001449585|  0:00:00s\n",
      "epoch 6  | loss: 3.36277 | val_0_unsup_loss_numpy: 1.711169958114624|  0:00:00s\n",
      "Stop training because you reached max_epochs = 7 with best_epoch = 1 and best_val_0_unsup_loss_numpy = 1.3285399675369263\n",
      "----- [INFO] Client 2\n",
      "epoch 0  | loss: 2.84528 | val_0_unsup_loss_numpy: 2.0918500423431396|  0:00:00s\n"
     ]
    },
    {
     "name": "stderr",
     "output_type": "stream",
     "text": [
      "/home/necphy/miniconda3/envs/thaivu_env/lib/python3.9/site-packages/pytorch_tabnet/callbacks.py:172: UserWarning: Best weights from best epoch are automatically used!\n",
      "  warnings.warn(wrn_msg)\n"
     ]
    },
    {
     "name": "stdout",
     "output_type": "stream",
     "text": [
      "epoch 1  | loss: 9.91725 | val_0_unsup_loss_numpy: 1.212589979171753|  0:00:00s\n",
      "epoch 2  | loss: 5.23606 | val_0_unsup_loss_numpy: 1.2770999670028687|  0:00:00s\n",
      "epoch 3  | loss: 2.06633 | val_0_unsup_loss_numpy: 2.724020004272461|  0:00:00s\n",
      "epoch 4  | loss: 6.18447 | val_0_unsup_loss_numpy: 2.176569938659668|  0:00:00s\n",
      "epoch 5  | loss: 3.06216 | val_0_unsup_loss_numpy: 1.5664299726486206|  0:00:00s\n",
      "epoch 6  | loss: 1.35687 | val_0_unsup_loss_numpy: 1.485010027885437|  0:00:00s\n",
      "Stop training because you reached max_epochs = 7 with best_epoch = 1 and best_val_0_unsup_loss_numpy = 1.212589979171753\n",
      "----- [INFO] Client 3\n"
     ]
    },
    {
     "name": "stderr",
     "output_type": "stream",
     "text": [
      "/home/necphy/miniconda3/envs/thaivu_env/lib/python3.9/site-packages/pytorch_tabnet/callbacks.py:172: UserWarning: Best weights from best epoch are automatically used!\n",
      "  warnings.warn(wrn_msg)\n"
     ]
    },
    {
     "name": "stdout",
     "output_type": "stream",
     "text": [
      "epoch 0  | loss: 4.23783 | val_0_unsup_loss_numpy: 21.42218017578125|  0:00:00s\n",
      "epoch 1  | loss: 6.60323 | val_0_unsup_loss_numpy: 9.088990211486816|  0:00:00s\n",
      "epoch 2  | loss: 117.10485| val_0_unsup_loss_numpy: 3.687690019607544|  0:00:00s\n",
      "epoch 3  | loss: 22.37085| val_0_unsup_loss_numpy: 4.164090156555176|  0:00:00s\n",
      "epoch 4  | loss: 8.71619 | val_0_unsup_loss_numpy: 5.459780216217041|  0:00:00s\n",
      "epoch 5  | loss: 66.31508| val_0_unsup_loss_numpy: 1.6540900468826294|  0:00:00s\n",
      "epoch 6  | loss: 1.32705 | val_0_unsup_loss_numpy: 2.5130999088287354|  0:00:00s\n",
      "Stop training because you reached max_epochs = 7 with best_epoch = 5 and best_val_0_unsup_loss_numpy = 1.6540900468826294\n",
      "----- [INFO] Client 4\n",
      "epoch 0  | loss: 3.50182 | val_0_unsup_loss_numpy: 2.048099994659424|  0:00:00s\n"
     ]
    },
    {
     "name": "stderr",
     "output_type": "stream",
     "text": [
      "/home/necphy/miniconda3/envs/thaivu_env/lib/python3.9/site-packages/pytorch_tabnet/callbacks.py:172: UserWarning: Best weights from best epoch are automatically used!\n",
      "  warnings.warn(wrn_msg)\n"
     ]
    },
    {
     "name": "stdout",
     "output_type": "stream",
     "text": [
      "epoch 1  | loss: 5.23164 | val_0_unsup_loss_numpy: 1.9210400581359863|  0:00:00s\n",
      "epoch 2  | loss: 1.53137 | val_0_unsup_loss_numpy: 1.2141900062561035|  0:00:00s\n",
      "epoch 3  | loss: 9.12688 | val_0_unsup_loss_numpy: 1.4180799722671509|  0:00:00s\n",
      "epoch 4  | loss: 1.20743 | val_0_unsup_loss_numpy: 1.2480700016021729|  0:00:00s\n",
      "epoch 5  | loss: 12.34214| val_0_unsup_loss_numpy: 1.2967300415039062|  0:00:00s\n",
      "epoch 6  | loss: 1.76279 | val_0_unsup_loss_numpy: 1.2993500232696533|  0:00:00s\n",
      "Stop training because you reached max_epochs = 7 with best_epoch = 2 and best_val_0_unsup_loss_numpy = 1.2141900062561035\n",
      "----- [INFO] Client 5\n"
     ]
    },
    {
     "name": "stderr",
     "output_type": "stream",
     "text": [
      "/home/necphy/miniconda3/envs/thaivu_env/lib/python3.9/site-packages/pytorch_tabnet/callbacks.py:172: UserWarning: Best weights from best epoch are automatically used!\n",
      "  warnings.warn(wrn_msg)\n"
     ]
    },
    {
     "name": "stdout",
     "output_type": "stream",
     "text": [
      "epoch 0  | loss: 2.77024 | val_0_unsup_loss_numpy: 1.243649959564209|  0:00:00s\n",
      "epoch 1  | loss: 1.69367 | val_0_unsup_loss_numpy: 1.1035200357437134|  0:00:00s\n",
      "epoch 2  | loss: 1.41312 | val_0_unsup_loss_numpy: 1.154919981956482|  0:00:00s\n",
      "epoch 3  | loss: 8.50762 | val_0_unsup_loss_numpy: 1.0910700559616089|  0:00:00s\n",
      "epoch 4  | loss: 1.28166 | val_0_unsup_loss_numpy: 1.1750600337982178|  0:00:00s\n",
      "epoch 5  | loss: 1.91492 | val_0_unsup_loss_numpy: 1.1408900022506714|  0:00:00s\n",
      "epoch 6  | loss: 17.9808 | val_0_unsup_loss_numpy: 1.212839961051941|  0:00:00s\n",
      "Stop training because you reached max_epochs = 7 with best_epoch = 3 and best_val_0_unsup_loss_numpy = 1.0910700559616089\n",
      "----- [INFO] Client 6\n",
      "epoch 0  | loss: 5.24967 | val_0_unsup_loss_numpy: 1.8752000331878662|  0:00:00s\n"
     ]
    },
    {
     "name": "stderr",
     "output_type": "stream",
     "text": [
      "/home/necphy/miniconda3/envs/thaivu_env/lib/python3.9/site-packages/pytorch_tabnet/callbacks.py:172: UserWarning: Best weights from best epoch are automatically used!\n",
      "  warnings.warn(wrn_msg)\n"
     ]
    },
    {
     "name": "stdout",
     "output_type": "stream",
     "text": [
      "epoch 1  | loss: 3.41623 | val_0_unsup_loss_numpy: 1.9009599685668945|  0:00:00s\n",
      "epoch 2  | loss: 1.3496  | val_0_unsup_loss_numpy: 2.4415199756622314|  0:00:00s\n",
      "epoch 3  | loss: 1.99589 | val_0_unsup_loss_numpy: 1.329259991645813|  0:00:00s\n",
      "epoch 4  | loss: 1.48312 | val_0_unsup_loss_numpy: 1.4104499816894531|  0:00:00s\n",
      "epoch 5  | loss: 1.76671 | val_0_unsup_loss_numpy: 1.533750057220459|  0:00:00s\n",
      "epoch 6  | loss: 2.92872 | val_0_unsup_loss_numpy: 1.2451599836349487|  0:00:00s\n",
      "Stop training because you reached max_epochs = 7 with best_epoch = 6 and best_val_0_unsup_loss_numpy = 1.2451599836349487\n",
      "----- [INFO] Client 7\n"
     ]
    },
    {
     "name": "stderr",
     "output_type": "stream",
     "text": [
      "/home/necphy/miniconda3/envs/thaivu_env/lib/python3.9/site-packages/pytorch_tabnet/callbacks.py:172: UserWarning: Best weights from best epoch are automatically used!\n",
      "  warnings.warn(wrn_msg)\n"
     ]
    },
    {
     "name": "stdout",
     "output_type": "stream",
     "text": [
      "epoch 0  | loss: 17.08836| val_0_unsup_loss_numpy: 5.5723700523376465|  0:00:00s\n",
      "epoch 1  | loss: 2.38745 | val_0_unsup_loss_numpy: 1.70701003074646|  0:00:00s\n",
      "epoch 2  | loss: 1.66764 | val_0_unsup_loss_numpy: 1.2706700563430786|  0:00:00s\n",
      "epoch 3  | loss: 2.08061 | val_0_unsup_loss_numpy: 1.2110300064086914|  0:00:00s\n",
      "epoch 4  | loss: 1.30565 | val_0_unsup_loss_numpy: 1.102020025253296|  0:00:00s\n",
      "epoch 5  | loss: 1.46509 | val_0_unsup_loss_numpy: 1.2568299770355225|  0:00:00s\n",
      "epoch 6  | loss: 1.68351 | val_0_unsup_loss_numpy: 1.3614399433135986|  0:00:00s\n",
      "Stop training because you reached max_epochs = 7 with best_epoch = 4 and best_val_0_unsup_loss_numpy = 1.102020025253296\n",
      "----- [INFO] Client 8\n",
      "epoch 0  | loss: 5.89161 | val_0_unsup_loss_numpy: 3.1335999965667725|  0:00:00s\n"
     ]
    },
    {
     "name": "stderr",
     "output_type": "stream",
     "text": [
      "/home/necphy/miniconda3/envs/thaivu_env/lib/python3.9/site-packages/pytorch_tabnet/callbacks.py:172: UserWarning: Best weights from best epoch are automatically used!\n",
      "  warnings.warn(wrn_msg)\n"
     ]
    },
    {
     "name": "stdout",
     "output_type": "stream",
     "text": [
      "epoch 1  | loss: 3.57077 | val_0_unsup_loss_numpy: 3.503070116043091|  0:00:00s\n",
      "epoch 2  | loss: 2.69908 | val_0_unsup_loss_numpy: 1.8814500570297241|  0:00:00s\n",
      "epoch 3  | loss: 2.85837 | val_0_unsup_loss_numpy: 3.364150047302246|  0:00:00s\n",
      "epoch 4  | loss: 1.74151 | val_0_unsup_loss_numpy: 1.5701899528503418|  0:00:00s\n",
      "epoch 5  | loss: 1.61567 | val_0_unsup_loss_numpy: 1.233389973640442|  0:00:00s\n",
      "epoch 6  | loss: 1.65565 | val_0_unsup_loss_numpy: 1.1084200143814087|  0:00:00s\n",
      "Stop training because you reached max_epochs = 7 with best_epoch = 6 and best_val_0_unsup_loss_numpy = 1.1084200143814087\n",
      "----- [INFO] Client 9\n"
     ]
    },
    {
     "name": "stderr",
     "output_type": "stream",
     "text": [
      "/home/necphy/miniconda3/envs/thaivu_env/lib/python3.9/site-packages/pytorch_tabnet/callbacks.py:172: UserWarning: Best weights from best epoch are automatically used!\n",
      "  warnings.warn(wrn_msg)\n"
     ]
    },
    {
     "name": "stdout",
     "output_type": "stream",
     "text": [
      "epoch 0  | loss: 2.97633 | val_0_unsup_loss_numpy: 2.06210994720459|  0:00:00s\n",
      "epoch 1  | loss: 2.17532 | val_0_unsup_loss_numpy: 1.4513599872589111|  0:00:00s\n",
      "epoch 2  | loss: 1.58515 | val_0_unsup_loss_numpy: 1.2037500143051147|  0:00:00s\n",
      "epoch 3  | loss: 1.56862 | val_0_unsup_loss_numpy: 1.0740100145339966|  0:00:00s\n",
      "epoch 4  | loss: 1.33107 | val_0_unsup_loss_numpy: 1.3374799489974976|  0:00:00s\n",
      "epoch 5  | loss: 1.37411 | val_0_unsup_loss_numpy: 1.3096400499343872|  0:00:00s\n",
      "epoch 6  | loss: 1.23747 | val_0_unsup_loss_numpy: 2.6769399642944336|  0:00:00s\n",
      "Stop training because you reached max_epochs = 7 with best_epoch = 3 and best_val_0_unsup_loss_numpy = 1.0740100145339966\n",
      "---------- [INFO] Round 5\n",
      "----- [INFO] Client 0\n"
     ]
    },
    {
     "name": "stderr",
     "output_type": "stream",
     "text": [
      "/home/necphy/miniconda3/envs/thaivu_env/lib/python3.9/site-packages/pytorch_tabnet/callbacks.py:172: UserWarning: Best weights from best epoch are automatically used!\n",
      "  warnings.warn(wrn_msg)\n"
     ]
    },
    {
     "name": "stdout",
     "output_type": "stream",
     "text": [
      "epoch 0  | loss: 5.23714 | val_0_unsup_loss_numpy: 8.447239875793457|  0:00:00s\n",
      "epoch 1  | loss: 2.79502 | val_0_unsup_loss_numpy: 3.136270046234131|  0:00:00s\n",
      "epoch 2  | loss: 2.57077 | val_0_unsup_loss_numpy: 3.226480007171631|  0:00:00s\n",
      "epoch 3  | loss: 2.8094  | val_0_unsup_loss_numpy: 1.4398499727249146|  0:00:00s\n",
      "epoch 4  | loss: 4.97008 | val_0_unsup_loss_numpy: 1.3612099885940552|  0:00:00s\n",
      "epoch 5  | loss: 3.41493 | val_0_unsup_loss_numpy: 1.7402600049972534|  0:00:00s\n",
      "epoch 6  | loss: 14.05004| val_0_unsup_loss_numpy: 2.5167601108551025|  0:00:00s\n",
      "Stop training because you reached max_epochs = 7 with best_epoch = 4 and best_val_0_unsup_loss_numpy = 1.3612099885940552\n",
      "----- [INFO] Client 1\n",
      "epoch 0  | loss: 3.96295 | val_0_unsup_loss_numpy: 2.8126299381256104|  0:00:00s\n"
     ]
    },
    {
     "name": "stderr",
     "output_type": "stream",
     "text": [
      "/home/necphy/miniconda3/envs/thaivu_env/lib/python3.9/site-packages/pytorch_tabnet/callbacks.py:172: UserWarning: Best weights from best epoch are automatically used!\n",
      "  warnings.warn(wrn_msg)\n"
     ]
    },
    {
     "name": "stdout",
     "output_type": "stream",
     "text": [
      "epoch 1  | loss: 11.51682| val_0_unsup_loss_numpy: 2.4012300968170166|  0:00:00s\n",
      "epoch 2  | loss: 1.46474 | val_0_unsup_loss_numpy: 2.586019992828369|  0:00:00s\n",
      "epoch 3  | loss: 1.26598 | val_0_unsup_loss_numpy: 1.4315400123596191|  0:00:00s\n",
      "epoch 4  | loss: 1.15867 | val_0_unsup_loss_numpy: 1.0989899635314941|  0:00:00s\n",
      "epoch 5  | loss: 1.11622 | val_0_unsup_loss_numpy: 1.0735000371932983|  0:00:00s\n",
      "epoch 6  | loss: 1.01396 | val_0_unsup_loss_numpy: 1.0354599952697754|  0:00:00s\n",
      "Stop training because you reached max_epochs = 7 with best_epoch = 6 and best_val_0_unsup_loss_numpy = 1.0354599952697754\n",
      "----- [INFO] Client 2\n"
     ]
    },
    {
     "name": "stderr",
     "output_type": "stream",
     "text": [
      "/home/necphy/miniconda3/envs/thaivu_env/lib/python3.9/site-packages/pytorch_tabnet/callbacks.py:172: UserWarning: Best weights from best epoch are automatically used!\n",
      "  warnings.warn(wrn_msg)\n"
     ]
    },
    {
     "name": "stdout",
     "output_type": "stream",
     "text": [
      "epoch 0  | loss: 4.46377 | val_0_unsup_loss_numpy: 10.848079681396484|  0:00:00s\n",
      "epoch 1  | loss: 5.91444 | val_0_unsup_loss_numpy: 2.646009922027588|  0:00:00s\n",
      "epoch 2  | loss: 3.37516 | val_0_unsup_loss_numpy: 1.3250700235366821|  0:00:00s\n",
      "epoch 3  | loss: 1.60537 | val_0_unsup_loss_numpy: 1.567229986190796|  0:00:00s\n",
      "epoch 4  | loss: 1.43182 | val_0_unsup_loss_numpy: 1.1213799715042114|  0:00:00s\n",
      "epoch 5  | loss: 1.05201 | val_0_unsup_loss_numpy: 1.156190037727356|  0:00:00s\n",
      "epoch 6  | loss: 1.08224 | val_0_unsup_loss_numpy: 1.0946199893951416|  0:00:00s\n",
      "Stop training because you reached max_epochs = 7 with best_epoch = 6 and best_val_0_unsup_loss_numpy = 1.0946199893951416\n",
      "----- [INFO] Client 3\n",
      "epoch 0  | loss: 282.00185| val_0_unsup_loss_numpy: 13.28596019744873|  0:00:00s\n"
     ]
    },
    {
     "name": "stderr",
     "output_type": "stream",
     "text": [
      "/home/necphy/miniconda3/envs/thaivu_env/lib/python3.9/site-packages/pytorch_tabnet/callbacks.py:172: UserWarning: Best weights from best epoch are automatically used!\n",
      "  warnings.warn(wrn_msg)\n"
     ]
    },
    {
     "name": "stdout",
     "output_type": "stream",
     "text": [
      "epoch 1  | loss: 62.97777| val_0_unsup_loss_numpy: 2.1556499004364014|  0:00:00s\n",
      "epoch 2  | loss: 14.5446 | val_0_unsup_loss_numpy: 3.5014100074768066|  0:00:00s\n",
      "epoch 3  | loss: 1.13281 | val_0_unsup_loss_numpy: 2.043519973754883|  0:00:00s\n",
      "epoch 4  | loss: 1.16253 | val_0_unsup_loss_numpy: 4.45665979385376|  0:00:00s\n",
      "epoch 5  | loss: 2.71867 | val_0_unsup_loss_numpy: 1.8801000118255615|  0:00:00s\n",
      "epoch 6  | loss: 12.28105| val_0_unsup_loss_numpy: 1.5103800296783447|  0:00:00s\n",
      "Stop training because you reached max_epochs = 7 with best_epoch = 6 and best_val_0_unsup_loss_numpy = 1.5103800296783447\n",
      "----- [INFO] Client 4\n"
     ]
    },
    {
     "name": "stderr",
     "output_type": "stream",
     "text": [
      "/home/necphy/miniconda3/envs/thaivu_env/lib/python3.9/site-packages/pytorch_tabnet/callbacks.py:172: UserWarning: Best weights from best epoch are automatically used!\n",
      "  warnings.warn(wrn_msg)\n"
     ]
    },
    {
     "name": "stdout",
     "output_type": "stream",
     "text": [
      "epoch 0  | loss: 3.69629 | val_0_unsup_loss_numpy: 2.6305999755859375|  0:00:00s\n",
      "epoch 1  | loss: 2.60734 | val_0_unsup_loss_numpy: 1.2543599605560303|  0:00:00s\n",
      "epoch 2  | loss: 2.95236 | val_0_unsup_loss_numpy: 1.9288899898529053|  0:00:00s\n",
      "epoch 3  | loss: 1.74731 | val_0_unsup_loss_numpy: 1.07492995262146|  0:00:00s\n",
      "epoch 4  | loss: 2.32809 | val_0_unsup_loss_numpy: 1.404270052909851|  0:00:00s\n",
      "epoch 5  | loss: 36.62323| val_0_unsup_loss_numpy: 1.263200044631958|  0:00:00s\n",
      "epoch 6  | loss: 1.17479 | val_0_unsup_loss_numpy: 1.0170700550079346|  0:00:00s\n",
      "Stop training because you reached max_epochs = 7 with best_epoch = 6 and best_val_0_unsup_loss_numpy = 1.0170700550079346\n",
      "----- [INFO] Client 5\n",
      "epoch 0  | loss: 1.72222 | val_0_unsup_loss_numpy: 2.0395700931549072|  0:00:00s\n"
     ]
    },
    {
     "name": "stderr",
     "output_type": "stream",
     "text": [
      "/home/necphy/miniconda3/envs/thaivu_env/lib/python3.9/site-packages/pytorch_tabnet/callbacks.py:172: UserWarning: Best weights from best epoch are automatically used!\n",
      "  warnings.warn(wrn_msg)\n"
     ]
    },
    {
     "name": "stdout",
     "output_type": "stream",
     "text": [
      "epoch 1  | loss: 2.20593 | val_0_unsup_loss_numpy: 1.3611400127410889|  0:00:00s\n",
      "epoch 2  | loss: 3.32954 | val_0_unsup_loss_numpy: 1.733139991760254|  0:00:00s\n",
      "epoch 3  | loss: 1.92463 | val_0_unsup_loss_numpy: 1.181839942932129|  0:00:00s\n",
      "epoch 4  | loss: 1.16784 | val_0_unsup_loss_numpy: 1.423200011253357|  0:00:00s\n",
      "epoch 5  | loss: 6.8364  | val_0_unsup_loss_numpy: 1.2540299892425537|  0:00:00s\n",
      "epoch 6  | loss: 1.3885  | val_0_unsup_loss_numpy: 1.037500023841858|  0:00:00s\n",
      "Stop training because you reached max_epochs = 7 with best_epoch = 6 and best_val_0_unsup_loss_numpy = 1.037500023841858\n",
      "----- [INFO] Client 6\n"
     ]
    },
    {
     "name": "stderr",
     "output_type": "stream",
     "text": [
      "/home/necphy/miniconda3/envs/thaivu_env/lib/python3.9/site-packages/pytorch_tabnet/callbacks.py:172: UserWarning: Best weights from best epoch are automatically used!\n",
      "  warnings.warn(wrn_msg)\n"
     ]
    },
    {
     "name": "stdout",
     "output_type": "stream",
     "text": [
      "epoch 0  | loss: 5.05574 | val_0_unsup_loss_numpy: 2.010740041732788|  0:00:00s\n",
      "epoch 1  | loss: 3.36389 | val_0_unsup_loss_numpy: 1.8386499881744385|  0:00:00s\n",
      "epoch 2  | loss: 2.73112 | val_0_unsup_loss_numpy: 1.7468199729919434|  0:00:00s\n",
      "epoch 3  | loss: 1.32102 | val_0_unsup_loss_numpy: 1.733389973640442|  0:00:00s\n",
      "epoch 4  | loss: 2.49816 | val_0_unsup_loss_numpy: 2.837510108947754|  0:00:00s\n",
      "epoch 5  | loss: 3.37828 | val_0_unsup_loss_numpy: 2.354830026626587|  0:00:00s\n",
      "epoch 6  | loss: 6.09118 | val_0_unsup_loss_numpy: 1.8580700159072876|  0:00:00s\n",
      "Stop training because you reached max_epochs = 7 with best_epoch = 3 and best_val_0_unsup_loss_numpy = 1.733389973640442\n",
      "----- [INFO] Client 7\n",
      "epoch 0  | loss: 1.85223 | val_0_unsup_loss_numpy: 1.7318700551986694|  0:00:00s\n"
     ]
    },
    {
     "name": "stderr",
     "output_type": "stream",
     "text": [
      "/home/necphy/miniconda3/envs/thaivu_env/lib/python3.9/site-packages/pytorch_tabnet/callbacks.py:172: UserWarning: Best weights from best epoch are automatically used!\n",
      "  warnings.warn(wrn_msg)\n"
     ]
    },
    {
     "name": "stdout",
     "output_type": "stream",
     "text": [
      "epoch 1  | loss: 1.76567 | val_0_unsup_loss_numpy: 1.7320200204849243|  0:00:00s\n",
      "epoch 2  | loss: 1.56148 | val_0_unsup_loss_numpy: 1.5408300161361694|  0:00:00s\n",
      "epoch 3  | loss: 1.80458 | val_0_unsup_loss_numpy: 1.3031400442123413|  0:00:00s\n",
      "epoch 4  | loss: 1.49546 | val_0_unsup_loss_numpy: 1.3432600498199463|  0:00:00s\n",
      "epoch 5  | loss: 1.06217 | val_0_unsup_loss_numpy: 1.1517800092697144|  0:00:00s\n",
      "epoch 6  | loss: 1.22135 | val_0_unsup_loss_numpy: 1.0698200464248657|  0:00:00s\n",
      "Stop training because you reached max_epochs = 7 with best_epoch = 6 and best_val_0_unsup_loss_numpy = 1.0698200464248657\n",
      "----- [INFO] Client 8\n"
     ]
    },
    {
     "name": "stderr",
     "output_type": "stream",
     "text": [
      "/home/necphy/miniconda3/envs/thaivu_env/lib/python3.9/site-packages/pytorch_tabnet/callbacks.py:172: UserWarning: Best weights from best epoch are automatically used!\n",
      "  warnings.warn(wrn_msg)\n"
     ]
    },
    {
     "name": "stdout",
     "output_type": "stream",
     "text": [
      "epoch 0  | loss: 4.87523 | val_0_unsup_loss_numpy: 14.182299613952637|  0:00:00s\n",
      "epoch 1  | loss: 1.84641 | val_0_unsup_loss_numpy: 1.9041999578475952|  0:00:00s\n",
      "epoch 2  | loss: 2.30198 | val_0_unsup_loss_numpy: 2.33420991897583|  0:00:00s\n",
      "epoch 3  | loss: 1.73198 | val_0_unsup_loss_numpy: 2.347909927368164|  0:00:00s\n",
      "epoch 4  | loss: 2.72337 | val_0_unsup_loss_numpy: 3.176539897918701|  0:00:00s\n",
      "epoch 5  | loss: 1.15621 | val_0_unsup_loss_numpy: 1.1985599994659424|  0:00:00s\n",
      "epoch 6  | loss: 1.43193 | val_0_unsup_loss_numpy: 1.3591599464416504|  0:00:00s\n",
      "Stop training because you reached max_epochs = 7 with best_epoch = 5 and best_val_0_unsup_loss_numpy = 1.1985599994659424\n",
      "----- [INFO] Client 9\n",
      "epoch 0  | loss: 2.17677 | val_0_unsup_loss_numpy: 2.7487599849700928|  0:00:00s\n"
     ]
    },
    {
     "name": "stderr",
     "output_type": "stream",
     "text": [
      "/home/necphy/miniconda3/envs/thaivu_env/lib/python3.9/site-packages/pytorch_tabnet/callbacks.py:172: UserWarning: Best weights from best epoch are automatically used!\n",
      "  warnings.warn(wrn_msg)\n"
     ]
    },
    {
     "name": "stdout",
     "output_type": "stream",
     "text": [
      "epoch 1  | loss: 1.5676  | val_0_unsup_loss_numpy: 1.3806999921798706|  0:00:00s\n",
      "epoch 2  | loss: 1.77162 | val_0_unsup_loss_numpy: 1.4883500337600708|  0:00:00s\n",
      "epoch 3  | loss: 2.25847 | val_0_unsup_loss_numpy: 1.6280900239944458|  0:00:00s\n",
      "epoch 4  | loss: 0.99046 | val_0_unsup_loss_numpy: 1.496690034866333|  0:00:00s\n",
      "epoch 5  | loss: 1.48975 | val_0_unsup_loss_numpy: 1.31673002243042|  0:00:00s\n",
      "epoch 6  | loss: 1.36646 | val_0_unsup_loss_numpy: 2.314739942550659|  0:00:00s\n",
      "Stop training because you reached max_epochs = 7 with best_epoch = 5 and best_val_0_unsup_loss_numpy = 1.31673002243042\n"
     ]
    },
    {
     "name": "stderr",
     "output_type": "stream",
     "text": [
      "/home/necphy/miniconda3/envs/thaivu_env/lib/python3.9/site-packages/pytorch_tabnet/callbacks.py:172: UserWarning: Best weights from best epoch are automatically used!\n",
      "  warnings.warn(wrn_msg)\n"
     ]
    },
    {
     "name": "stdout",
     "output_type": "stream",
     "text": [
      "---------- [INFO] Round 6\n",
      "----- [INFO] Client 0\n",
      "epoch 0  | loss: 8.50659 | val_0_unsup_loss_numpy: 10.953700065612793|  0:00:00s\n",
      "epoch 1  | loss: 5.78149 | val_0_unsup_loss_numpy: 2.667180061340332|  0:00:00s\n",
      "epoch 2  | loss: 2.53692 | val_0_unsup_loss_numpy: 1.6232199668884277|  0:00:00s\n",
      "epoch 3  | loss: 2.25419 | val_0_unsup_loss_numpy: 10.25020980834961|  0:00:00s\n",
      "epoch 4  | loss: 2.08437 | val_0_unsup_loss_numpy: 2.8225600719451904|  0:00:00s\n",
      "epoch 5  | loss: 1.78155 | val_0_unsup_loss_numpy: 1.8426200151443481|  0:00:00s\n",
      "epoch 6  | loss: 6.06691 | val_0_unsup_loss_numpy: 1.5019899606704712|  0:00:00s\n",
      "Stop training because you reached max_epochs = 7 with best_epoch = 6 and best_val_0_unsup_loss_numpy = 1.5019899606704712\n",
      "----- [INFO] Client 1\n"
     ]
    },
    {
     "name": "stderr",
     "output_type": "stream",
     "text": [
      "/home/necphy/miniconda3/envs/thaivu_env/lib/python3.9/site-packages/pytorch_tabnet/callbacks.py:172: UserWarning: Best weights from best epoch are automatically used!\n",
      "  warnings.warn(wrn_msg)\n"
     ]
    },
    {
     "name": "stdout",
     "output_type": "stream",
     "text": [
      "epoch 0  | loss: 2.5033  | val_0_unsup_loss_numpy: 1.702620029449463|  0:00:00s\n",
      "epoch 1  | loss: 1.54654 | val_0_unsup_loss_numpy: 2.860599994659424|  0:00:00s\n",
      "epoch 2  | loss: 2.21054 | val_0_unsup_loss_numpy: 4.119959831237793|  0:00:00s\n",
      "epoch 3  | loss: 1.97569 | val_0_unsup_loss_numpy: 2.1799700260162354|  0:00:00s\n",
      "epoch 4  | loss: 1.78902 | val_0_unsup_loss_numpy: 1.7401000261306763|  0:00:00s\n",
      "epoch 5  | loss: 2.86247 | val_0_unsup_loss_numpy: 1.7035800218582153|  0:00:00s\n",
      "epoch 6  | loss: 1.42404 | val_0_unsup_loss_numpy: 1.3696999549865723|  0:00:00s\n",
      "Stop training because you reached max_epochs = 7 with best_epoch = 6 and best_val_0_unsup_loss_numpy = 1.3696999549865723\n",
      "----- [INFO] Client 2\n",
      "epoch 0  | loss: 3.20506 | val_0_unsup_loss_numpy: 2.7495999336242676|  0:00:00s\n"
     ]
    },
    {
     "name": "stderr",
     "output_type": "stream",
     "text": [
      "/home/necphy/miniconda3/envs/thaivu_env/lib/python3.9/site-packages/pytorch_tabnet/callbacks.py:172: UserWarning: Best weights from best epoch are automatically used!\n",
      "  warnings.warn(wrn_msg)\n"
     ]
    },
    {
     "name": "stdout",
     "output_type": "stream",
     "text": [
      "epoch 1  | loss: 3.23793 | val_0_unsup_loss_numpy: 3.4179399013519287|  0:00:00s\n",
      "epoch 2  | loss: 1.83634 | val_0_unsup_loss_numpy: 1.2771600484848022|  0:00:00s\n",
      "epoch 3  | loss: 1.48599 | val_0_unsup_loss_numpy: 1.7108900547027588|  0:00:00s\n",
      "epoch 4  | loss: 3.91133 | val_0_unsup_loss_numpy: 1.3209999799728394|  0:00:00s\n",
      "epoch 5  | loss: 1.91889 | val_0_unsup_loss_numpy: 1.6744799613952637|  0:00:00s\n",
      "epoch 6  | loss: 1.42437 | val_0_unsup_loss_numpy: 1.4620800018310547|  0:00:00s\n",
      "Stop training because you reached max_epochs = 7 with best_epoch = 2 and best_val_0_unsup_loss_numpy = 1.2771600484848022\n",
      "----- [INFO] Client 3\n"
     ]
    },
    {
     "name": "stderr",
     "output_type": "stream",
     "text": [
      "/home/necphy/miniconda3/envs/thaivu_env/lib/python3.9/site-packages/pytorch_tabnet/callbacks.py:172: UserWarning: Best weights from best epoch are automatically used!\n",
      "  warnings.warn(wrn_msg)\n"
     ]
    },
    {
     "name": "stdout",
     "output_type": "stream",
     "text": [
      "epoch 0  | loss: 1669.76724| val_0_unsup_loss_numpy: 38.82157897949219|  0:00:00s\n",
      "epoch 1  | loss: 2.91747 | val_0_unsup_loss_numpy: 31.10485076904297|  0:00:00s\n",
      "epoch 2  | loss: 917.55451| val_0_unsup_loss_numpy: 28.6701602935791|  0:00:00s\n",
      "epoch 3  | loss: 23.70956| val_0_unsup_loss_numpy: 5.343679904937744|  0:00:00s\n",
      "epoch 4  | loss: 2.30235 | val_0_unsup_loss_numpy: 11.007399559020996|  0:00:00s\n",
      "epoch 5  | loss: 275.16043| val_0_unsup_loss_numpy: 15.21072006225586|  0:00:00s\n",
      "epoch 6  | loss: 32.32991| val_0_unsup_loss_numpy: 2.8224000930786133|  0:00:00s\n",
      "Stop training because you reached max_epochs = 7 with best_epoch = 6 and best_val_0_unsup_loss_numpy = 2.8224000930786133\n",
      "----- [INFO] Client 4\n",
      "epoch 0  | loss: 6.30363 | val_0_unsup_loss_numpy: 1.8207099437713623|  0:00:00s\n"
     ]
    },
    {
     "name": "stderr",
     "output_type": "stream",
     "text": [
      "/home/necphy/miniconda3/envs/thaivu_env/lib/python3.9/site-packages/pytorch_tabnet/callbacks.py:172: UserWarning: Best weights from best epoch are automatically used!\n",
      "  warnings.warn(wrn_msg)\n"
     ]
    },
    {
     "name": "stdout",
     "output_type": "stream",
     "text": [
      "epoch 1  | loss: 1.77892 | val_0_unsup_loss_numpy: 1.5003999471664429|  0:00:00s\n",
      "epoch 2  | loss: 1.2917  | val_0_unsup_loss_numpy: 1.416159987449646|  0:00:00s\n",
      "epoch 3  | loss: 1.73487 | val_0_unsup_loss_numpy: 1.2541899681091309|  0:00:00s\n",
      "epoch 4  | loss: 9.33651 | val_0_unsup_loss_numpy: 1.1142699718475342|  0:00:00s\n",
      "epoch 5  | loss: 0.97576 | val_0_unsup_loss_numpy: 1.0792100429534912|  0:00:00s\n",
      "epoch 6  | loss: 1.11212 | val_0_unsup_loss_numpy: 1.1409800052642822|  0:00:00s\n",
      "Stop training because you reached max_epochs = 7 with best_epoch = 5 and best_val_0_unsup_loss_numpy = 1.0792100429534912\n",
      "----- [INFO] Client 5\n"
     ]
    },
    {
     "name": "stderr",
     "output_type": "stream",
     "text": [
      "/home/necphy/miniconda3/envs/thaivu_env/lib/python3.9/site-packages/pytorch_tabnet/callbacks.py:172: UserWarning: Best weights from best epoch are automatically used!\n",
      "  warnings.warn(wrn_msg)\n"
     ]
    },
    {
     "name": "stdout",
     "output_type": "stream",
     "text": [
      "epoch 0  | loss: 1.94311 | val_0_unsup_loss_numpy: 1.3059500455856323|  0:00:00s\n",
      "epoch 1  | loss: 1.72168 | val_0_unsup_loss_numpy: 1.112220048904419|  0:00:00s\n",
      "epoch 2  | loss: 1.3596  | val_0_unsup_loss_numpy: 1.0935499668121338|  0:00:00s\n",
      "epoch 3  | loss: 1.18988 | val_0_unsup_loss_numpy: 0.9796299934387207|  0:00:00s\n",
      "epoch 4  | loss: 1.17575 | val_0_unsup_loss_numpy: 1.0020099878311157|  0:00:00s\n",
      "epoch 5  | loss: 1.05203 | val_0_unsup_loss_numpy: 1.0274499654769897|  0:00:00s\n",
      "epoch 6  | loss: 1.04513 | val_0_unsup_loss_numpy: 1.044119954109192|  0:00:00s\n",
      "Stop training because you reached max_epochs = 7 with best_epoch = 3 and best_val_0_unsup_loss_numpy = 0.9796299934387207\n",
      "----- [INFO] Client 6\n",
      "epoch 0  | loss: 4.77806 | val_0_unsup_loss_numpy: 1.734429955482483|  0:00:00s\n"
     ]
    },
    {
     "name": "stderr",
     "output_type": "stream",
     "text": [
      "/home/necphy/miniconda3/envs/thaivu_env/lib/python3.9/site-packages/pytorch_tabnet/callbacks.py:172: UserWarning: Best weights from best epoch are automatically used!\n",
      "  warnings.warn(wrn_msg)\n"
     ]
    },
    {
     "name": "stdout",
     "output_type": "stream",
     "text": [
      "epoch 1  | loss: 1.64065 | val_0_unsup_loss_numpy: 1.2417099475860596|  0:00:00s\n",
      "epoch 2  | loss: 2.74272 | val_0_unsup_loss_numpy: 1.3249800205230713|  0:00:00s\n",
      "epoch 3  | loss: 1.20942 | val_0_unsup_loss_numpy: 1.2541500329971313|  0:00:00s\n",
      "epoch 4  | loss: 1.30646 | val_0_unsup_loss_numpy: 1.4282599687576294|  0:00:00s\n",
      "epoch 5  | loss: 1.25461 | val_0_unsup_loss_numpy: 1.319849967956543|  0:00:00s\n",
      "epoch 6  | loss: 2.70288 | val_0_unsup_loss_numpy: 1.5555100440979004|  0:00:00s\n",
      "Stop training because you reached max_epochs = 7 with best_epoch = 1 and best_val_0_unsup_loss_numpy = 1.2417099475860596\n",
      "----- [INFO] Client 7\n"
     ]
    },
    {
     "name": "stderr",
     "output_type": "stream",
     "text": [
      "/home/necphy/miniconda3/envs/thaivu_env/lib/python3.9/site-packages/pytorch_tabnet/callbacks.py:172: UserWarning: Best weights from best epoch are automatically used!\n",
      "  warnings.warn(wrn_msg)\n"
     ]
    },
    {
     "name": "stdout",
     "output_type": "stream",
     "text": [
      "epoch 0  | loss: 7.68374 | val_0_unsup_loss_numpy: 1.2217600345611572|  0:00:00s\n",
      "epoch 1  | loss: 2.24505 | val_0_unsup_loss_numpy: 2.5725200176239014|  0:00:00s\n",
      "epoch 2  | loss: 2.13597 | val_0_unsup_loss_numpy: 1.2928600311279297|  0:00:00s\n",
      "epoch 3  | loss: 1.11498 | val_0_unsup_loss_numpy: 1.1383999586105347|  0:00:00s\n",
      "epoch 4  | loss: 1.01272 | val_0_unsup_loss_numpy: 1.0940799713134766|  0:00:00s\n",
      "epoch 5  | loss: 1.68455 | val_0_unsup_loss_numpy: 1.5447299480438232|  0:00:00s\n",
      "epoch 6  | loss: 2.5086  | val_0_unsup_loss_numpy: 1.1263699531555176|  0:00:00s\n",
      "Stop training because you reached max_epochs = 7 with best_epoch = 4 and best_val_0_unsup_loss_numpy = 1.0940799713134766\n",
      "----- [INFO] Client 8\n",
      "epoch 0  | loss: 16.25367| val_0_unsup_loss_numpy: 7.000279903411865|  0:00:00s\n"
     ]
    },
    {
     "name": "stderr",
     "output_type": "stream",
     "text": [
      "/home/necphy/miniconda3/envs/thaivu_env/lib/python3.9/site-packages/pytorch_tabnet/callbacks.py:172: UserWarning: Best weights from best epoch are automatically used!\n",
      "  warnings.warn(wrn_msg)\n"
     ]
    },
    {
     "name": "stdout",
     "output_type": "stream",
     "text": [
      "epoch 1  | loss: 5.24041 | val_0_unsup_loss_numpy: 4.337679862976074|  0:00:00s\n",
      "epoch 2  | loss: 3.76269 | val_0_unsup_loss_numpy: 2.0466699600219727|  0:00:00s\n",
      "epoch 3  | loss: 2.92144 | val_0_unsup_loss_numpy: 2.7408299446105957|  0:00:00s\n",
      "epoch 4  | loss: 2.13845 | val_0_unsup_loss_numpy: 1.4178500175476074|  0:00:00s\n",
      "epoch 5  | loss: 1.16552 | val_0_unsup_loss_numpy: 2.0584499835968018|  0:00:00s\n",
      "epoch 6  | loss: 2.91541 | val_0_unsup_loss_numpy: 13.8951997756958|  0:00:00s\n",
      "Stop training because you reached max_epochs = 7 with best_epoch = 4 and best_val_0_unsup_loss_numpy = 1.4178500175476074\n",
      "----- [INFO] Client 9\n"
     ]
    },
    {
     "name": "stderr",
     "output_type": "stream",
     "text": [
      "/home/necphy/miniconda3/envs/thaivu_env/lib/python3.9/site-packages/pytorch_tabnet/callbacks.py:172: UserWarning: Best weights from best epoch are automatically used!\n",
      "  warnings.warn(wrn_msg)\n"
     ]
    },
    {
     "name": "stdout",
     "output_type": "stream",
     "text": [
      "epoch 0  | loss: 3.00532 | val_0_unsup_loss_numpy: 6.918819904327393|  0:00:00s\n",
      "epoch 1  | loss: 6.22324 | val_0_unsup_loss_numpy: 1.4650100469589233|  0:00:00s\n",
      "epoch 2  | loss: 1.07386 | val_0_unsup_loss_numpy: 1.0920100212097168|  0:00:00s\n",
      "epoch 3  | loss: 1.08877 | val_0_unsup_loss_numpy: 1.1708999872207642|  0:00:00s\n",
      "epoch 4  | loss: 1.83308 | val_0_unsup_loss_numpy: 1.180840015411377|  0:00:00s\n",
      "epoch 5  | loss: 1.79156 | val_0_unsup_loss_numpy: 1.1499899625778198|  0:00:00s\n",
      "epoch 6  | loss: 1.33177 | val_0_unsup_loss_numpy: 1.0689599514007568|  0:00:00s\n",
      "Stop training because you reached max_epochs = 7 with best_epoch = 6 and best_val_0_unsup_loss_numpy = 1.0689599514007568\n",
      "---------- [INFO] Round 7\n",
      "----- [INFO] Client 0\n"
     ]
    },
    {
     "name": "stderr",
     "output_type": "stream",
     "text": [
      "/home/necphy/miniconda3/envs/thaivu_env/lib/python3.9/site-packages/pytorch_tabnet/callbacks.py:172: UserWarning: Best weights from best epoch are automatically used!\n",
      "  warnings.warn(wrn_msg)\n"
     ]
    },
    {
     "name": "stdout",
     "output_type": "stream",
     "text": [
      "epoch 0  | loss: 38.8392 | val_0_unsup_loss_numpy: 6.379340171813965|  0:00:00s\n",
      "epoch 1  | loss: 5.53811 | val_0_unsup_loss_numpy: 2.1652801036834717|  0:00:00s\n",
      "epoch 2  | loss: 3.52581 | val_0_unsup_loss_numpy: 1.1946799755096436|  0:00:00s\n",
      "epoch 3  | loss: 1.92683 | val_0_unsup_loss_numpy: 1.5406999588012695|  0:00:00s\n",
      "epoch 4  | loss: 2.53552 | val_0_unsup_loss_numpy: 1.280809998512268|  0:00:00s\n",
      "epoch 5  | loss: 1.29752 | val_0_unsup_loss_numpy: 1.86257004737854|  0:00:00s\n",
      "epoch 6  | loss: 1.27484 | val_0_unsup_loss_numpy: 1.6956599950790405|  0:00:00s\n",
      "Stop training because you reached max_epochs = 7 with best_epoch = 2 and best_val_0_unsup_loss_numpy = 1.1946799755096436\n",
      "----- [INFO] Client 1\n",
      "epoch 0  | loss: 2.13821 | val_0_unsup_loss_numpy: 3.2399799823760986|  0:00:00s\n"
     ]
    },
    {
     "name": "stderr",
     "output_type": "stream",
     "text": [
      "/home/necphy/miniconda3/envs/thaivu_env/lib/python3.9/site-packages/pytorch_tabnet/callbacks.py:172: UserWarning: Best weights from best epoch are automatically used!\n",
      "  warnings.warn(wrn_msg)\n"
     ]
    },
    {
     "name": "stdout",
     "output_type": "stream",
     "text": [
      "epoch 1  | loss: 2.48788 | val_0_unsup_loss_numpy: 2.349519968032837|  0:00:00s\n",
      "epoch 2  | loss: 1.6527  | val_0_unsup_loss_numpy: 1.5440499782562256|  0:00:00s\n",
      "epoch 3  | loss: 1.20243 | val_0_unsup_loss_numpy: 1.1384999752044678|  0:00:00s\n",
      "epoch 4  | loss: 1.16703 | val_0_unsup_loss_numpy: 1.1469700336456299|  0:00:00s\n",
      "epoch 5  | loss: 1.01563 | val_0_unsup_loss_numpy: 1.0143400430679321|  0:00:00s\n",
      "epoch 6  | loss: 1.18099 | val_0_unsup_loss_numpy: 1.0409200191497803|  0:00:00s\n",
      "Stop training because you reached max_epochs = 7 with best_epoch = 5 and best_val_0_unsup_loss_numpy = 1.0143400430679321\n",
      "----- [INFO] Client 2\n"
     ]
    },
    {
     "name": "stderr",
     "output_type": "stream",
     "text": [
      "/home/necphy/miniconda3/envs/thaivu_env/lib/python3.9/site-packages/pytorch_tabnet/callbacks.py:172: UserWarning: Best weights from best epoch are automatically used!\n",
      "  warnings.warn(wrn_msg)\n"
     ]
    },
    {
     "name": "stdout",
     "output_type": "stream",
     "text": [
      "epoch 0  | loss: 4.92304 | val_0_unsup_loss_numpy: 2.0736100673675537|  0:00:00s\n",
      "epoch 1  | loss: 2.29328 | val_0_unsup_loss_numpy: 1.7473200559616089|  0:00:00s\n",
      "epoch 2  | loss: 2.94317 | val_0_unsup_loss_numpy: 1.4262399673461914|  0:00:00s\n",
      "epoch 3  | loss: 2.6051  | val_0_unsup_loss_numpy: 1.1818499565124512|  0:00:00s\n",
      "epoch 4  | loss: 1.6763  | val_0_unsup_loss_numpy: 3.0679900646209717|  0:00:00s\n",
      "epoch 5  | loss: 1.3866  | val_0_unsup_loss_numpy: 2.005880117416382|  0:00:00s\n",
      "epoch 6  | loss: 7.8966  | val_0_unsup_loss_numpy: 1.3190300464630127|  0:00:00s\n",
      "Stop training because you reached max_epochs = 7 with best_epoch = 3 and best_val_0_unsup_loss_numpy = 1.1818499565124512\n",
      "----- [INFO] Client 3\n",
      "epoch 0  | loss: 2.55966 | val_0_unsup_loss_numpy: 27.33502960205078|  0:00:00s\n"
     ]
    },
    {
     "name": "stderr",
     "output_type": "stream",
     "text": [
      "/home/necphy/miniconda3/envs/thaivu_env/lib/python3.9/site-packages/pytorch_tabnet/callbacks.py:172: UserWarning: Best weights from best epoch are automatically used!\n",
      "  warnings.warn(wrn_msg)\n"
     ]
    },
    {
     "name": "stdout",
     "output_type": "stream",
     "text": [
      "epoch 1  | loss: 68.44526| val_0_unsup_loss_numpy: 2.472670078277588|  0:00:00s\n",
      "epoch 2  | loss: 2.98279 | val_0_unsup_loss_numpy: 2.7564799785614014|  0:00:00s\n",
      "epoch 3  | loss: 68.72397| val_0_unsup_loss_numpy: 3.8643600940704346|  0:00:00s\n",
      "epoch 4  | loss: 51.65773| val_0_unsup_loss_numpy: 1.8100700378417969|  0:00:00s\n",
      "epoch 5  | loss: 4.56678 | val_0_unsup_loss_numpy: 4.192759990692139|  0:00:00s\n",
      "epoch 6  | loss: 88.61885| val_0_unsup_loss_numpy: 1.5857000350952148|  0:00:00s\n",
      "Stop training because you reached max_epochs = 7 with best_epoch = 6 and best_val_0_unsup_loss_numpy = 1.5857000350952148\n",
      "----- [INFO] Client 4\n"
     ]
    },
    {
     "name": "stderr",
     "output_type": "stream",
     "text": [
      "/home/necphy/miniconda3/envs/thaivu_env/lib/python3.9/site-packages/pytorch_tabnet/callbacks.py:172: UserWarning: Best weights from best epoch are automatically used!\n",
      "  warnings.warn(wrn_msg)\n"
     ]
    },
    {
     "name": "stdout",
     "output_type": "stream",
     "text": [
      "epoch 0  | loss: 2.44808 | val_0_unsup_loss_numpy: 1.04367995262146|  0:00:00s\n",
      "epoch 1  | loss: 1.306   | val_0_unsup_loss_numpy: 1.082069993019104|  0:00:00s\n",
      "epoch 2  | loss: 2.89984 | val_0_unsup_loss_numpy: 1.0732799768447876|  0:00:00s\n",
      "epoch 3  | loss: 1.12509 | val_0_unsup_loss_numpy: 1.2515499591827393|  0:00:00s\n",
      "epoch 4  | loss: 5.80544 | val_0_unsup_loss_numpy: 1.2556999921798706|  0:00:00s\n",
      "epoch 5  | loss: 1.9507  | val_0_unsup_loss_numpy: 1.0472899675369263|  0:00:00s\n",
      "epoch 6  | loss: 1.22899 | val_0_unsup_loss_numpy: 0.9877600073814392|  0:00:00s\n",
      "Stop training because you reached max_epochs = 7 with best_epoch = 6 and best_val_0_unsup_loss_numpy = 0.9877600073814392\n",
      "----- [INFO] Client 5\n",
      "epoch 0  | loss: 1.99692 | val_0_unsup_loss_numpy: 1.9796600341796875|  0:00:00s\n"
     ]
    },
    {
     "name": "stderr",
     "output_type": "stream",
     "text": [
      "/home/necphy/miniconda3/envs/thaivu_env/lib/python3.9/site-packages/pytorch_tabnet/callbacks.py:172: UserWarning: Best weights from best epoch are automatically used!\n",
      "  warnings.warn(wrn_msg)\n"
     ]
    },
    {
     "name": "stdout",
     "output_type": "stream",
     "text": [
      "epoch 1  | loss: 1.17087 | val_0_unsup_loss_numpy: 1.2083799839019775|  0:00:00s\n",
      "epoch 2  | loss: 1.2912  | val_0_unsup_loss_numpy: 1.2370799779891968|  0:00:00s\n",
      "epoch 3  | loss: 2.21615 | val_0_unsup_loss_numpy: 1.291890025138855|  0:00:00s\n",
      "epoch 4  | loss: 1.204   | val_0_unsup_loss_numpy: 1.0411800146102905|  0:00:00s\n",
      "epoch 5  | loss: 1.23894 | val_0_unsup_loss_numpy: 1.0462100505828857|  0:00:00s\n",
      "epoch 6  | loss: 6.46392 | val_0_unsup_loss_numpy: 1.2304099798202515|  0:00:00s\n",
      "Stop training because you reached max_epochs = 7 with best_epoch = 4 and best_val_0_unsup_loss_numpy = 1.0411800146102905\n",
      "----- [INFO] Client 6\n"
     ]
    },
    {
     "name": "stderr",
     "output_type": "stream",
     "text": [
      "/home/necphy/miniconda3/envs/thaivu_env/lib/python3.9/site-packages/pytorch_tabnet/callbacks.py:172: UserWarning: Best weights from best epoch are automatically used!\n",
      "  warnings.warn(wrn_msg)\n"
     ]
    },
    {
     "name": "stdout",
     "output_type": "stream",
     "text": [
      "epoch 0  | loss: 3.65279 | val_0_unsup_loss_numpy: 4.493559837341309|  0:00:00s\n",
      "epoch 1  | loss: 4.018   | val_0_unsup_loss_numpy: 2.5652499198913574|  0:00:00s\n",
      "epoch 2  | loss: 2.52187 | val_0_unsup_loss_numpy: 1.7555299997329712|  0:00:00s\n",
      "epoch 3  | loss: 1.74019 | val_0_unsup_loss_numpy: 2.010279893875122|  0:00:00s\n",
      "epoch 4  | loss: 1.17264 | val_0_unsup_loss_numpy: 1.0936199426651|  0:00:00s\n",
      "epoch 5  | loss: 1.23262 | val_0_unsup_loss_numpy: 1.2827099561691284|  0:00:00s\n",
      "epoch 6  | loss: 1.41748 | val_0_unsup_loss_numpy: 1.0102900266647339|  0:00:00s\n",
      "Stop training because you reached max_epochs = 7 with best_epoch = 6 and best_val_0_unsup_loss_numpy = 1.0102900266647339\n",
      "----- [INFO] Client 7\n",
      "epoch 0  | loss: 18.09244| val_0_unsup_loss_numpy: 1.9267899990081787|  0:00:00s\n"
     ]
    },
    {
     "name": "stderr",
     "output_type": "stream",
     "text": [
      "/home/necphy/miniconda3/envs/thaivu_env/lib/python3.9/site-packages/pytorch_tabnet/callbacks.py:172: UserWarning: Best weights from best epoch are automatically used!\n",
      "  warnings.warn(wrn_msg)\n"
     ]
    },
    {
     "name": "stdout",
     "output_type": "stream",
     "text": [
      "epoch 1  | loss: 60.64269| val_0_unsup_loss_numpy: 2.44746994972229|  0:00:00s\n",
      "epoch 2  | loss: 2.22786 | val_0_unsup_loss_numpy: 1.371500015258789|  0:00:00s\n",
      "epoch 3  | loss: 1.90723 | val_0_unsup_loss_numpy: 1.0992300510406494|  0:00:00s\n",
      "epoch 4  | loss: 1.41442 | val_0_unsup_loss_numpy: 1.3015700578689575|  0:00:00s\n",
      "epoch 5  | loss: 1.6058  | val_0_unsup_loss_numpy: 1.1713999509811401|  0:00:00s\n",
      "epoch 6  | loss: 1.22805 | val_0_unsup_loss_numpy: 1.1919100284576416|  0:00:00s\n",
      "Stop training because you reached max_epochs = 7 with best_epoch = 3 and best_val_0_unsup_loss_numpy = 1.0992300510406494\n",
      "----- [INFO] Client 8\n"
     ]
    },
    {
     "name": "stderr",
     "output_type": "stream",
     "text": [
      "/home/necphy/miniconda3/envs/thaivu_env/lib/python3.9/site-packages/pytorch_tabnet/callbacks.py:172: UserWarning: Best weights from best epoch are automatically used!\n",
      "  warnings.warn(wrn_msg)\n"
     ]
    },
    {
     "name": "stdout",
     "output_type": "stream",
     "text": [
      "epoch 0  | loss: 4.2558  | val_0_unsup_loss_numpy: 27.983739852905273|  0:00:00s\n",
      "epoch 1  | loss: 3.45643 | val_0_unsup_loss_numpy: 8.886590003967285|  0:00:00s\n",
      "epoch 2  | loss: 1.8983  | val_0_unsup_loss_numpy: 2.682889938354492|  0:00:00s\n",
      "epoch 3  | loss: 1.84277 | val_0_unsup_loss_numpy: 1.1568399667739868|  0:00:00s\n",
      "epoch 4  | loss: 2.35552 | val_0_unsup_loss_numpy: 7.932539939880371|  0:00:00s\n",
      "epoch 5  | loss: 2.28806 | val_0_unsup_loss_numpy: 1.4684900045394897|  0:00:00s\n",
      "epoch 6  | loss: 1.34795 | val_0_unsup_loss_numpy: 2.413450002670288|  0:00:00s\n",
      "Stop training because you reached max_epochs = 7 with best_epoch = 3 and best_val_0_unsup_loss_numpy = 1.1568399667739868\n",
      "----- [INFO] Client 9\n",
      "epoch 0  | loss: 3.87694 | val_0_unsup_loss_numpy: 2.4206199645996094|  0:00:00s\n"
     ]
    },
    {
     "name": "stderr",
     "output_type": "stream",
     "text": [
      "/home/necphy/miniconda3/envs/thaivu_env/lib/python3.9/site-packages/pytorch_tabnet/callbacks.py:172: UserWarning: Best weights from best epoch are automatically used!\n",
      "  warnings.warn(wrn_msg)\n"
     ]
    },
    {
     "name": "stdout",
     "output_type": "stream",
     "text": [
      "epoch 1  | loss: 2.79039 | val_0_unsup_loss_numpy: 1.8480299711227417|  0:00:00s\n",
      "epoch 2  | loss: 1.3996  | val_0_unsup_loss_numpy: 2.176140069961548|  0:00:00s\n",
      "epoch 3  | loss: 1.94498 | val_0_unsup_loss_numpy: 2.170989990234375|  0:00:00s\n",
      "epoch 4  | loss: 5.11845 | val_0_unsup_loss_numpy: 1.4018299579620361|  0:00:00s\n",
      "epoch 5  | loss: 3.47494 | val_0_unsup_loss_numpy: 1.289080023765564|  0:00:00s\n",
      "epoch 6  | loss: 1.44285 | val_0_unsup_loss_numpy: 1.3856899738311768|  0:00:00s\n",
      "Stop training because you reached max_epochs = 7 with best_epoch = 5 and best_val_0_unsup_loss_numpy = 1.289080023765564\n"
     ]
    },
    {
     "name": "stderr",
     "output_type": "stream",
     "text": [
      "/home/necphy/miniconda3/envs/thaivu_env/lib/python3.9/site-packages/pytorch_tabnet/callbacks.py:172: UserWarning: Best weights from best epoch are automatically used!\n",
      "  warnings.warn(wrn_msg)\n"
     ]
    },
    {
     "name": "stdout",
     "output_type": "stream",
     "text": [
      "---------- [INFO] Round 8\n",
      "----- [INFO] Client 0\n",
      "epoch 0  | loss: 11.73831| val_0_unsup_loss_numpy: 2.161979913711548|  0:00:00s\n",
      "epoch 1  | loss: 2.84876 | val_0_unsup_loss_numpy: 3.0608699321746826|  0:00:00s\n",
      "epoch 2  | loss: 2.9907  | val_0_unsup_loss_numpy: 1.2360399961471558|  0:00:00s\n",
      "epoch 3  | loss: 1.42536 | val_0_unsup_loss_numpy: 1.0329400300979614|  0:00:00s\n",
      "epoch 4  | loss: 1.98318 | val_0_unsup_loss_numpy: 1.6218299865722656|  0:00:00s\n",
      "epoch 5  | loss: 2.24984 | val_0_unsup_loss_numpy: 1.1760799884796143|  0:00:00s\n",
      "epoch 6  | loss: 1.1893  | val_0_unsup_loss_numpy: 1.003730058670044|  0:00:00s\n",
      "Stop training because you reached max_epochs = 7 with best_epoch = 6 and best_val_0_unsup_loss_numpy = 1.003730058670044\n",
      "----- [INFO] Client 1\n"
     ]
    },
    {
     "name": "stderr",
     "output_type": "stream",
     "text": [
      "/home/necphy/miniconda3/envs/thaivu_env/lib/python3.9/site-packages/pytorch_tabnet/callbacks.py:172: UserWarning: Best weights from best epoch are automatically used!\n",
      "  warnings.warn(wrn_msg)\n"
     ]
    },
    {
     "name": "stdout",
     "output_type": "stream",
     "text": [
      "epoch 0  | loss: 3.10504 | val_0_unsup_loss_numpy: 2.0848300457000732|  0:00:00s\n",
      "epoch 1  | loss: 1.34104 | val_0_unsup_loss_numpy: 1.5734699964523315|  0:00:00s\n",
      "epoch 2  | loss: 1.90416 | val_0_unsup_loss_numpy: 1.5534600019454956|  0:00:00s\n",
      "epoch 3  | loss: 1.22521 | val_0_unsup_loss_numpy: 1.1104899644851685|  0:00:00s\n",
      "epoch 4  | loss: 1.47227 | val_0_unsup_loss_numpy: 1.18641996383667|  0:00:00s\n",
      "epoch 5  | loss: 1.36443 | val_0_unsup_loss_numpy: 1.0484000444412231|  0:00:00s\n",
      "epoch 6  | loss: 1.53616 | val_0_unsup_loss_numpy: 1.2200100421905518|  0:00:00s\n",
      "Stop training because you reached max_epochs = 7 with best_epoch = 5 and best_val_0_unsup_loss_numpy = 1.0484000444412231\n",
      "----- [INFO] Client 2\n",
      "epoch 0  | loss: 1.77031 | val_0_unsup_loss_numpy: 1.8827300071716309|  0:00:00s\n"
     ]
    },
    {
     "name": "stderr",
     "output_type": "stream",
     "text": [
      "/home/necphy/miniconda3/envs/thaivu_env/lib/python3.9/site-packages/pytorch_tabnet/callbacks.py:172: UserWarning: Best weights from best epoch are automatically used!\n",
      "  warnings.warn(wrn_msg)\n"
     ]
    },
    {
     "name": "stdout",
     "output_type": "stream",
     "text": [
      "epoch 1  | loss: 1.47235 | val_0_unsup_loss_numpy: 1.1315699815750122|  0:00:00s\n",
      "epoch 2  | loss: 1.96539 | val_0_unsup_loss_numpy: 1.4661099910736084|  0:00:00s\n",
      "epoch 3  | loss: 2.13361 | val_0_unsup_loss_numpy: 0.9407100081443787|  0:00:00s\n",
      "epoch 4  | loss: 1.1882  | val_0_unsup_loss_numpy: 1.0323899984359741|  0:00:00s\n",
      "epoch 5  | loss: 1.74791 | val_0_unsup_loss_numpy: 1.2675600051879883|  0:00:00s\n",
      "epoch 6  | loss: 1.12161 | val_0_unsup_loss_numpy: 0.9831799864768982|  0:00:00s\n",
      "Stop training because you reached max_epochs = 7 with best_epoch = 3 and best_val_0_unsup_loss_numpy = 0.9407100081443787\n",
      "----- [INFO] Client 3\n"
     ]
    },
    {
     "name": "stderr",
     "output_type": "stream",
     "text": [
      "/home/necphy/miniconda3/envs/thaivu_env/lib/python3.9/site-packages/pytorch_tabnet/callbacks.py:172: UserWarning: Best weights from best epoch are automatically used!\n",
      "  warnings.warn(wrn_msg)\n"
     ]
    },
    {
     "name": "stdout",
     "output_type": "stream",
     "text": [
      "epoch 0  | loss: 90.88068| val_0_unsup_loss_numpy: 2.714329957962036|  0:00:00s\n",
      "epoch 1  | loss: 75.21975| val_0_unsup_loss_numpy: 1.8217699527740479|  0:00:00s\n",
      "epoch 2  | loss: 1.24859 | val_0_unsup_loss_numpy: 1.3160799741744995|  0:00:00s\n",
      "epoch 3  | loss: 5.77427 | val_0_unsup_loss_numpy: 2.1418399810791016|  0:00:00s\n",
      "epoch 4  | loss: 11.5777 | val_0_unsup_loss_numpy: 4.647809982299805|  0:00:00s\n",
      "epoch 5  | loss: 27.45615| val_0_unsup_loss_numpy: 1.789139986038208|  0:00:00s\n",
      "epoch 6  | loss: 1.36807 | val_0_unsup_loss_numpy: 1.7549599409103394|  0:00:00s\n",
      "Stop training because you reached max_epochs = 7 with best_epoch = 2 and best_val_0_unsup_loss_numpy = 1.3160799741744995\n",
      "----- [INFO] Client 4\n",
      "epoch 0  | loss: 33.06244| val_0_unsup_loss_numpy: 1.9497599601745605|  0:00:00s\n"
     ]
    },
    {
     "name": "stderr",
     "output_type": "stream",
     "text": [
      "/home/necphy/miniconda3/envs/thaivu_env/lib/python3.9/site-packages/pytorch_tabnet/callbacks.py:172: UserWarning: Best weights from best epoch are automatically used!\n",
      "  warnings.warn(wrn_msg)\n"
     ]
    },
    {
     "name": "stdout",
     "output_type": "stream",
     "text": [
      "epoch 1  | loss: 3.06049 | val_0_unsup_loss_numpy: 1.843790054321289|  0:00:00s\n",
      "epoch 2  | loss: 8.43849 | val_0_unsup_loss_numpy: 1.979099988937378|  0:00:00s\n",
      "epoch 3  | loss: 1.06527 | val_0_unsup_loss_numpy: 1.1223000288009644|  0:00:00s\n",
      "epoch 4  | loss: 0.995   | val_0_unsup_loss_numpy: 0.9714499711990356|  0:00:00s\n",
      "epoch 5  | loss: 1.09696 | val_0_unsup_loss_numpy: 0.9936000108718872|  0:00:00s\n",
      "epoch 6  | loss: 1.09482 | val_0_unsup_loss_numpy: 1.0703400373458862|  0:00:00s\n",
      "Stop training because you reached max_epochs = 7 with best_epoch = 4 and best_val_0_unsup_loss_numpy = 0.9714499711990356\n",
      "----- [INFO] Client 5\n"
     ]
    },
    {
     "name": "stderr",
     "output_type": "stream",
     "text": [
      "/home/necphy/miniconda3/envs/thaivu_env/lib/python3.9/site-packages/pytorch_tabnet/callbacks.py:172: UserWarning: Best weights from best epoch are automatically used!\n",
      "  warnings.warn(wrn_msg)\n"
     ]
    },
    {
     "name": "stdout",
     "output_type": "stream",
     "text": [
      "epoch 0  | loss: 4.78338 | val_0_unsup_loss_numpy: 1.3707599639892578|  0:00:00s\n",
      "epoch 1  | loss: 9.47259 | val_0_unsup_loss_numpy: 1.1374200582504272|  0:00:00s\n",
      "epoch 2  | loss: 1.56239 | val_0_unsup_loss_numpy: 1.2892500162124634|  0:00:00s\n",
      "epoch 3  | loss: 2.36914 | val_0_unsup_loss_numpy: 1.0533900260925293|  0:00:00s\n",
      "epoch 4  | loss: 1.24826 | val_0_unsup_loss_numpy: 1.0373200178146362|  0:00:00s\n",
      "epoch 5  | loss: 1.21698 | val_0_unsup_loss_numpy: 1.0655499696731567|  0:00:00s\n",
      "epoch 6  | loss: 1.10066 | val_0_unsup_loss_numpy: 1.1346700191497803|  0:00:00s\n",
      "Stop training because you reached max_epochs = 7 with best_epoch = 4 and best_val_0_unsup_loss_numpy = 1.0373200178146362\n",
      "----- [INFO] Client 6\n",
      "epoch 0  | loss: 10.89058| val_0_unsup_loss_numpy: 2.828850030899048|  0:00:00s\n"
     ]
    },
    {
     "name": "stderr",
     "output_type": "stream",
     "text": [
      "/home/necphy/miniconda3/envs/thaivu_env/lib/python3.9/site-packages/pytorch_tabnet/callbacks.py:172: UserWarning: Best weights from best epoch are automatically used!\n",
      "  warnings.warn(wrn_msg)\n"
     ]
    },
    {
     "name": "stdout",
     "output_type": "stream",
     "text": [
      "epoch 1  | loss: 2.99844 | val_0_unsup_loss_numpy: 2.1912100315093994|  0:00:00s\n",
      "epoch 2  | loss: 1.39305 | val_0_unsup_loss_numpy: 1.8375400304794312|  0:00:00s\n",
      "epoch 3  | loss: 4.85965 | val_0_unsup_loss_numpy: 2.081739902496338|  0:00:00s\n",
      "epoch 4  | loss: 2.08567 | val_0_unsup_loss_numpy: 1.245419979095459|  0:00:00s\n",
      "epoch 5  | loss: 1.1649  | val_0_unsup_loss_numpy: 1.333240032196045|  0:00:00s\n",
      "epoch 6  | loss: 1.40793 | val_0_unsup_loss_numpy: 1.2260199785232544|  0:00:00s\n",
      "Stop training because you reached max_epochs = 7 with best_epoch = 6 and best_val_0_unsup_loss_numpy = 1.2260199785232544\n",
      "----- [INFO] Client 7\n"
     ]
    },
    {
     "name": "stderr",
     "output_type": "stream",
     "text": [
      "/home/necphy/miniconda3/envs/thaivu_env/lib/python3.9/site-packages/pytorch_tabnet/callbacks.py:172: UserWarning: Best weights from best epoch are automatically used!\n",
      "  warnings.warn(wrn_msg)\n"
     ]
    },
    {
     "name": "stdout",
     "output_type": "stream",
     "text": [
      "epoch 0  | loss: 1.8275  | val_0_unsup_loss_numpy: 1.3631000518798828|  0:00:00s\n",
      "epoch 1  | loss: 1.28231 | val_0_unsup_loss_numpy: 1.204609990119934|  0:00:00s\n",
      "epoch 2  | loss: 1.55419 | val_0_unsup_loss_numpy: 1.3874599933624268|  0:00:00s\n",
      "epoch 3  | loss: 1.65109 | val_0_unsup_loss_numpy: 1.0480200052261353|  0:00:00s\n",
      "epoch 4  | loss: 1.45611 | val_0_unsup_loss_numpy: 1.4029899835586548|  0:00:00s\n",
      "epoch 5  | loss: 2.4864  | val_0_unsup_loss_numpy: 1.0781400203704834|  0:00:00s\n",
      "epoch 6  | loss: 1.0971  | val_0_unsup_loss_numpy: 1.0556299686431885|  0:00:00s\n",
      "Stop training because you reached max_epochs = 7 with best_epoch = 3 and best_val_0_unsup_loss_numpy = 1.0480200052261353\n",
      "----- [INFO] Client 8\n",
      "epoch 0  | loss: 2.81961 | val_0_unsup_loss_numpy: 2.4106900691986084|  0:00:00s\n"
     ]
    },
    {
     "name": "stderr",
     "output_type": "stream",
     "text": [
      "/home/necphy/miniconda3/envs/thaivu_env/lib/python3.9/site-packages/pytorch_tabnet/callbacks.py:172: UserWarning: Best weights from best epoch are automatically used!\n",
      "  warnings.warn(wrn_msg)\n"
     ]
    },
    {
     "name": "stdout",
     "output_type": "stream",
     "text": [
      "epoch 1  | loss: 3.62107 | val_0_unsup_loss_numpy: 1.5780999660491943|  0:00:00s\n",
      "epoch 2  | loss: 1.30748 | val_0_unsup_loss_numpy: 1.1419700384140015|  0:00:00s\n",
      "epoch 3  | loss: 1.82914 | val_0_unsup_loss_numpy: 1.1538200378417969|  0:00:00s\n",
      "epoch 4  | loss: 1.03721 | val_0_unsup_loss_numpy: 1.675220012664795|  0:00:00s\n",
      "epoch 5  | loss: 1.26194 | val_0_unsup_loss_numpy: 1.4400899410247803|  0:00:00s\n",
      "epoch 6  | loss: 1.1037  | val_0_unsup_loss_numpy: 0.9979299902915955|  0:00:00s\n",
      "Stop training because you reached max_epochs = 7 with best_epoch = 6 and best_val_0_unsup_loss_numpy = 0.9979299902915955\n",
      "----- [INFO] Client 9\n"
     ]
    },
    {
     "name": "stderr",
     "output_type": "stream",
     "text": [
      "/home/necphy/miniconda3/envs/thaivu_env/lib/python3.9/site-packages/pytorch_tabnet/callbacks.py:172: UserWarning: Best weights from best epoch are automatically used!\n",
      "  warnings.warn(wrn_msg)\n"
     ]
    },
    {
     "name": "stdout",
     "output_type": "stream",
     "text": [
      "epoch 0  | loss: 5.10982 | val_0_unsup_loss_numpy: 1.5944499969482422|  0:00:00s\n",
      "epoch 1  | loss: 2.06255 | val_0_unsup_loss_numpy: 1.107509970664978|  0:00:00s\n",
      "epoch 2  | loss: 1.96239 | val_0_unsup_loss_numpy: 1.7069000005722046|  0:00:00s\n",
      "epoch 3  | loss: 1.67841 | val_0_unsup_loss_numpy: 2.2526299953460693|  0:00:00s\n",
      "epoch 4  | loss: 2.15225 | val_0_unsup_loss_numpy: 1.2500699758529663|  0:00:00s\n",
      "epoch 5  | loss: 1.09266 | val_0_unsup_loss_numpy: 1.2658900022506714|  0:00:00s\n",
      "epoch 6  | loss: 1.49591 | val_0_unsup_loss_numpy: 1.6487300395965576|  0:00:00s\n",
      "Stop training because you reached max_epochs = 7 with best_epoch = 1 and best_val_0_unsup_loss_numpy = 1.107509970664978\n",
      "---------- [INFO] Round 9\n",
      "----- [INFO] Client 0\n"
     ]
    },
    {
     "name": "stderr",
     "output_type": "stream",
     "text": [
      "/home/necphy/miniconda3/envs/thaivu_env/lib/python3.9/site-packages/pytorch_tabnet/callbacks.py:172: UserWarning: Best weights from best epoch are automatically used!\n",
      "  warnings.warn(wrn_msg)\n"
     ]
    },
    {
     "name": "stdout",
     "output_type": "stream",
     "text": [
      "epoch 0  | loss: 20.66506| val_0_unsup_loss_numpy: 5.2776899337768555|  0:00:00s\n",
      "epoch 1  | loss: 2.71843 | val_0_unsup_loss_numpy: 4.226679801940918|  0:00:00s\n",
      "epoch 2  | loss: 2.26772 | val_0_unsup_loss_numpy: 1.3338799476623535|  0:00:00s\n",
      "epoch 3  | loss: 1.1827  | val_0_unsup_loss_numpy: 1.0024900436401367|  0:00:00s\n",
      "epoch 4  | loss: 1.09117 | val_0_unsup_loss_numpy: 1.0521199703216553|  0:00:00s\n",
      "epoch 5  | loss: 1.80282 | val_0_unsup_loss_numpy: 1.0729800462722778|  0:00:00s\n",
      "epoch 6  | loss: 1.13834 | val_0_unsup_loss_numpy: 1.7657699584960938|  0:00:00s\n",
      "Stop training because you reached max_epochs = 7 with best_epoch = 3 and best_val_0_unsup_loss_numpy = 1.0024900436401367\n",
      "----- [INFO] Client 1\n",
      "epoch 0  | loss: 1.72521 | val_0_unsup_loss_numpy: 1.8287700414657593|  0:00:00s\n"
     ]
    },
    {
     "name": "stderr",
     "output_type": "stream",
     "text": [
      "/home/necphy/miniconda3/envs/thaivu_env/lib/python3.9/site-packages/pytorch_tabnet/callbacks.py:172: UserWarning: Best weights from best epoch are automatically used!\n",
      "  warnings.warn(wrn_msg)\n"
     ]
    },
    {
     "name": "stdout",
     "output_type": "stream",
     "text": [
      "epoch 1  | loss: 1.44441 | val_0_unsup_loss_numpy: 1.3381799459457397|  0:00:00s\n",
      "epoch 2  | loss: 1.52031 | val_0_unsup_loss_numpy: 1.2025699615478516|  0:00:00s\n",
      "epoch 3  | loss: 1.18982 | val_0_unsup_loss_numpy: 1.195739984512329|  0:00:00s\n",
      "epoch 4  | loss: 0.9885  | val_0_unsup_loss_numpy: 1.097730040550232|  0:00:00s\n",
      "epoch 5  | loss: 1.07289 | val_0_unsup_loss_numpy: 0.9581199884414673|  0:00:00s\n",
      "epoch 6  | loss: 1.06693 | val_0_unsup_loss_numpy: 0.9603300094604492|  0:00:00s\n",
      "Stop training because you reached max_epochs = 7 with best_epoch = 5 and best_val_0_unsup_loss_numpy = 0.9581199884414673\n",
      "----- [INFO] Client 2\n"
     ]
    },
    {
     "name": "stderr",
     "output_type": "stream",
     "text": [
      "/home/necphy/miniconda3/envs/thaivu_env/lib/python3.9/site-packages/pytorch_tabnet/callbacks.py:172: UserWarning: Best weights from best epoch are automatically used!\n",
      "  warnings.warn(wrn_msg)\n"
     ]
    },
    {
     "name": "stdout",
     "output_type": "stream",
     "text": [
      "epoch 0  | loss: 4.44596 | val_0_unsup_loss_numpy: 1.7098499536514282|  0:00:00s\n",
      "epoch 1  | loss: 1.90446 | val_0_unsup_loss_numpy: 1.7453800439834595|  0:00:00s\n",
      "epoch 2  | loss: 1.79499 | val_0_unsup_loss_numpy: 2.043869972229004|  0:00:00s\n",
      "epoch 3  | loss: 3.23569 | val_0_unsup_loss_numpy: 2.3699300289154053|  0:00:00s\n",
      "epoch 4  | loss: 1.4038  | val_0_unsup_loss_numpy: 1.0786000490188599|  0:00:00s\n",
      "epoch 5  | loss: 1.84578 | val_0_unsup_loss_numpy: 0.9626500010490417|  0:00:00s\n",
      "epoch 6  | loss: 1.36178 | val_0_unsup_loss_numpy: 1.5947500467300415|  0:00:00s\n",
      "Stop training because you reached max_epochs = 7 with best_epoch = 5 and best_val_0_unsup_loss_numpy = 0.9626500010490417\n",
      "----- [INFO] Client 3\n",
      "epoch 0  | loss: 109.3164| val_0_unsup_loss_numpy: 37.7074089050293|  0:00:00s\n"
     ]
    },
    {
     "name": "stderr",
     "output_type": "stream",
     "text": [
      "/home/necphy/miniconda3/envs/thaivu_env/lib/python3.9/site-packages/pytorch_tabnet/callbacks.py:172: UserWarning: Best weights from best epoch are automatically used!\n",
      "  warnings.warn(wrn_msg)\n"
     ]
    },
    {
     "name": "stdout",
     "output_type": "stream",
     "text": [
      "epoch 1  | loss: 334.97302| val_0_unsup_loss_numpy: 5.0856099128723145|  0:00:00s\n",
      "epoch 2  | loss: 1.30476 | val_0_unsup_loss_numpy: 1.892680048942566|  0:00:00s\n",
      "epoch 3  | loss: 33.05649| val_0_unsup_loss_numpy: 2.923569917678833|  0:00:00s\n",
      "epoch 4  | loss: 13.88047| val_0_unsup_loss_numpy: 2.618849992752075|  0:00:00s\n",
      "epoch 5  | loss: 2.70613 | val_0_unsup_loss_numpy: 1.3602499961853027|  0:00:00s\n",
      "epoch 6  | loss: 1.73111 | val_0_unsup_loss_numpy: 24.469690322875977|  0:00:00s\n",
      "Stop training because you reached max_epochs = 7 with best_epoch = 5 and best_val_0_unsup_loss_numpy = 1.3602499961853027\n",
      "----- [INFO] Client 4\n"
     ]
    },
    {
     "name": "stderr",
     "output_type": "stream",
     "text": [
      "/home/necphy/miniconda3/envs/thaivu_env/lib/python3.9/site-packages/pytorch_tabnet/callbacks.py:172: UserWarning: Best weights from best epoch are automatically used!\n",
      "  warnings.warn(wrn_msg)\n"
     ]
    },
    {
     "name": "stdout",
     "output_type": "stream",
     "text": [
      "epoch 0  | loss: 1.89269 | val_0_unsup_loss_numpy: 2.3949999809265137|  0:00:00s\n",
      "epoch 1  | loss: 1.19533 | val_0_unsup_loss_numpy: 1.1258399486541748|  0:00:00s\n",
      "epoch 2  | loss: 1.76772 | val_0_unsup_loss_numpy: 1.0391600131988525|  0:00:00s\n",
      "epoch 3  | loss: 1.3713  | val_0_unsup_loss_numpy: 0.9408599734306335|  0:00:00s\n",
      "epoch 4  | loss: 5.94698 | val_0_unsup_loss_numpy: 1.2335000038146973|  0:00:00s\n",
      "epoch 5  | loss: 1.31646 | val_0_unsup_loss_numpy: 1.0276800394058228|  0:00:00s\n",
      "epoch 6  | loss: 2.1824  | val_0_unsup_loss_numpy: 0.9334700107574463|  0:00:00s\n",
      "Stop training because you reached max_epochs = 7 with best_epoch = 6 and best_val_0_unsup_loss_numpy = 0.9334700107574463\n",
      "----- [INFO] Client 5\n",
      "epoch 0  | loss: 4.04458 | val_0_unsup_loss_numpy: 1.1957299709320068|  0:00:00s\n"
     ]
    },
    {
     "name": "stderr",
     "output_type": "stream",
     "text": [
      "/home/necphy/miniconda3/envs/thaivu_env/lib/python3.9/site-packages/pytorch_tabnet/callbacks.py:172: UserWarning: Best weights from best epoch are automatically used!\n",
      "  warnings.warn(wrn_msg)\n"
     ]
    },
    {
     "name": "stdout",
     "output_type": "stream",
     "text": [
      "epoch 1  | loss: 1.74801 | val_0_unsup_loss_numpy: 1.0976899862289429|  0:00:00s\n",
      "epoch 2  | loss: 6.9179  | val_0_unsup_loss_numpy: 1.0285300016403198|  0:00:00s\n",
      "epoch 3  | loss: 1.11278 | val_0_unsup_loss_numpy: 0.9946699738502502|  0:00:00s\n",
      "epoch 4  | loss: 1.02261 | val_0_unsup_loss_numpy: 1.0704699754714966|  0:00:00s\n",
      "epoch 5  | loss: 1.1531  | val_0_unsup_loss_numpy: 1.0807700157165527|  0:00:00s\n",
      "epoch 6  | loss: 1.45012 | val_0_unsup_loss_numpy: 0.9520699977874756|  0:00:00s\n",
      "Stop training because you reached max_epochs = 7 with best_epoch = 6 and best_val_0_unsup_loss_numpy = 0.9520699977874756\n",
      "----- [INFO] Client 6\n"
     ]
    },
    {
     "name": "stderr",
     "output_type": "stream",
     "text": [
      "/home/necphy/miniconda3/envs/thaivu_env/lib/python3.9/site-packages/pytorch_tabnet/callbacks.py:172: UserWarning: Best weights from best epoch are automatically used!\n",
      "  warnings.warn(wrn_msg)\n"
     ]
    },
    {
     "name": "stdout",
     "output_type": "stream",
     "text": [
      "epoch 0  | loss: 2.40726 | val_0_unsup_loss_numpy: 1.4881199598312378|  0:00:00s\n",
      "epoch 1  | loss: 1.58856 | val_0_unsup_loss_numpy: 1.1802200078964233|  0:00:00s\n",
      "epoch 2  | loss: 1.04065 | val_0_unsup_loss_numpy: 1.1505800485610962|  0:00:00s\n",
      "epoch 3  | loss: 1.23868 | val_0_unsup_loss_numpy: 0.9014800190925598|  0:00:00s\n",
      "epoch 4  | loss: 1.03078 | val_0_unsup_loss_numpy: 0.907260000705719|  0:00:00s\n",
      "epoch 5  | loss: 1.46838 | val_0_unsup_loss_numpy: 0.9337199926376343|  0:00:00s\n",
      "epoch 6  | loss: 1.09464 | val_0_unsup_loss_numpy: 0.8918499946594238|  0:00:00s\n",
      "Stop training because you reached max_epochs = 7 with best_epoch = 6 and best_val_0_unsup_loss_numpy = 0.8918499946594238\n",
      "----- [INFO] Client 7\n",
      "epoch 0  | loss: 4.82584 | val_0_unsup_loss_numpy: 3.544610023498535|  0:00:00s\n"
     ]
    },
    {
     "name": "stderr",
     "output_type": "stream",
     "text": [
      "/home/necphy/miniconda3/envs/thaivu_env/lib/python3.9/site-packages/pytorch_tabnet/callbacks.py:172: UserWarning: Best weights from best epoch are automatically used!\n",
      "  warnings.warn(wrn_msg)\n"
     ]
    },
    {
     "name": "stdout",
     "output_type": "stream",
     "text": [
      "epoch 1  | loss: 1.6449  | val_0_unsup_loss_numpy: 2.7432799339294434|  0:00:00s\n",
      "epoch 2  | loss: 1.98242 | val_0_unsup_loss_numpy: 1.5144399404525757|  0:00:00s\n",
      "epoch 3  | loss: 1.73182 | val_0_unsup_loss_numpy: 2.1311800479888916|  0:00:00s\n",
      "epoch 4  | loss: 1.25065 | val_0_unsup_loss_numpy: 1.0318599939346313|  0:00:00s\n",
      "epoch 5  | loss: 1.01524 | val_0_unsup_loss_numpy: 1.3807899951934814|  0:00:00s\n",
      "epoch 6  | loss: 0.96478 | val_0_unsup_loss_numpy: 1.0817999839782715|  0:00:00s\n",
      "Stop training because you reached max_epochs = 7 with best_epoch = 4 and best_val_0_unsup_loss_numpy = 1.0318599939346313\n",
      "----- [INFO] Client 8\n"
     ]
    },
    {
     "name": "stderr",
     "output_type": "stream",
     "text": [
      "/home/necphy/miniconda3/envs/thaivu_env/lib/python3.9/site-packages/pytorch_tabnet/callbacks.py:172: UserWarning: Best weights from best epoch are automatically used!\n",
      "  warnings.warn(wrn_msg)\n"
     ]
    },
    {
     "name": "stdout",
     "output_type": "stream",
     "text": [
      "epoch 0  | loss: 2.38469 | val_0_unsup_loss_numpy: 7.94950008392334|  0:00:00s\n",
      "epoch 1  | loss: 1.8399  | val_0_unsup_loss_numpy: 1.2487900257110596|  0:00:00s\n",
      "epoch 2  | loss: 1.22097 | val_0_unsup_loss_numpy: 1.629770040512085|  0:00:00s\n",
      "epoch 3  | loss: 1.55295 | val_0_unsup_loss_numpy: 1.2022700309753418|  0:00:00s\n",
      "epoch 4  | loss: 1.17948 | val_0_unsup_loss_numpy: 1.0240000486373901|  0:00:00s\n",
      "epoch 5  | loss: 0.99215 | val_0_unsup_loss_numpy: 0.9679099917411804|  0:00:00s\n",
      "epoch 6  | loss: 1.03529 | val_0_unsup_loss_numpy: 1.0871800184249878|  0:00:00s\n",
      "Stop training because you reached max_epochs = 7 with best_epoch = 5 and best_val_0_unsup_loss_numpy = 0.9679099917411804\n",
      "----- [INFO] Client 9\n",
      "epoch 0  | loss: 5.22523 | val_0_unsup_loss_numpy: 1.9542200565338135|  0:00:00s\n"
     ]
    },
    {
     "name": "stderr",
     "output_type": "stream",
     "text": [
      "/home/necphy/miniconda3/envs/thaivu_env/lib/python3.9/site-packages/pytorch_tabnet/callbacks.py:172: UserWarning: Best weights from best epoch are automatically used!\n",
      "  warnings.warn(wrn_msg)\n"
     ]
    },
    {
     "name": "stdout",
     "output_type": "stream",
     "text": [
      "epoch 1  | loss: 4.00783 | val_0_unsup_loss_numpy: 1.492400050163269|  0:00:00s\n",
      "epoch 2  | loss: 2.17808 | val_0_unsup_loss_numpy: 1.6678199768066406|  0:00:00s\n",
      "epoch 3  | loss: 3.02751 | val_0_unsup_loss_numpy: 2.0324299335479736|  0:00:00s\n",
      "epoch 4  | loss: 1.62172 | val_0_unsup_loss_numpy: 1.5408400297164917|  0:00:00s\n",
      "epoch 5  | loss: 1.11114 | val_0_unsup_loss_numpy: 2.088020086288452|  0:00:00s\n",
      "epoch 6  | loss: 1.69226 | val_0_unsup_loss_numpy: 1.3465299606323242|  0:00:00s\n",
      "Stop training because you reached max_epochs = 7 with best_epoch = 6 and best_val_0_unsup_loss_numpy = 1.3465299606323242\n"
     ]
    },
    {
     "name": "stderr",
     "output_type": "stream",
     "text": [
      "/home/necphy/miniconda3/envs/thaivu_env/lib/python3.9/site-packages/pytorch_tabnet/callbacks.py:172: UserWarning: Best weights from best epoch are automatically used!\n",
      "  warnings.warn(wrn_msg)\n"
     ]
    },
    {
     "name": "stdout",
     "output_type": "stream",
     "text": [
      "---------- [INFO] Round 10\n",
      "----- [INFO] Client 0\n",
      "epoch 0  | loss: 4.10759 | val_0_unsup_loss_numpy: 2.697510004043579|  0:00:00s\n",
      "epoch 1  | loss: 1.43071 | val_0_unsup_loss_numpy: 1.5310200452804565|  0:00:00s\n",
      "epoch 2  | loss: 2.93725 | val_0_unsup_loss_numpy: 1.5268299579620361|  0:00:00s\n",
      "epoch 3  | loss: 1.68708 | val_0_unsup_loss_numpy: 1.3811299800872803|  0:00:00s\n",
      "epoch 4  | loss: 1.18237 | val_0_unsup_loss_numpy: 1.6846400499343872|  0:00:00s\n",
      "epoch 5  | loss: 1.57509 | val_0_unsup_loss_numpy: 1.7809799909591675|  0:00:00s\n",
      "epoch 6  | loss: 1.56647 | val_0_unsup_loss_numpy: 1.3363100290298462|  0:00:00s\n",
      "Stop training because you reached max_epochs = 7 with best_epoch = 6 and best_val_0_unsup_loss_numpy = 1.3363100290298462\n",
      "----- [INFO] Client 1\n"
     ]
    },
    {
     "name": "stderr",
     "output_type": "stream",
     "text": [
      "/home/necphy/miniconda3/envs/thaivu_env/lib/python3.9/site-packages/pytorch_tabnet/callbacks.py:172: UserWarning: Best weights from best epoch are automatically used!\n",
      "  warnings.warn(wrn_msg)\n"
     ]
    },
    {
     "name": "stdout",
     "output_type": "stream",
     "text": [
      "epoch 0  | loss: 3.55581 | val_0_unsup_loss_numpy: 4.192299842834473|  0:00:00s\n",
      "epoch 1  | loss: 2.54027 | val_0_unsup_loss_numpy: 3.8954200744628906|  0:00:00s\n",
      "epoch 2  | loss: 3.28195 | val_0_unsup_loss_numpy: 1.4575200080871582|  0:00:00s\n",
      "epoch 3  | loss: 1.44949 | val_0_unsup_loss_numpy: 0.970229983329773|  0:00:00s\n",
      "epoch 4  | loss: 1.2847  | val_0_unsup_loss_numpy: 1.2573699951171875|  0:00:00s\n",
      "epoch 5  | loss: 1.27585 | val_0_unsup_loss_numpy: 0.9923400282859802|  0:00:00s\n",
      "epoch 6  | loss: 1.08612 | val_0_unsup_loss_numpy: 0.9301900267601013|  0:00:00s\n",
      "Stop training because you reached max_epochs = 7 with best_epoch = 6 and best_val_0_unsup_loss_numpy = 0.9301900267601013\n",
      "----- [INFO] Client 2\n",
      "epoch 0  | loss: 5.91521 | val_0_unsup_loss_numpy: 3.8744499683380127|  0:00:00s\n"
     ]
    },
    {
     "name": "stderr",
     "output_type": "stream",
     "text": [
      "/home/necphy/miniconda3/envs/thaivu_env/lib/python3.9/site-packages/pytorch_tabnet/callbacks.py:172: UserWarning: Best weights from best epoch are automatically used!\n",
      "  warnings.warn(wrn_msg)\n"
     ]
    },
    {
     "name": "stdout",
     "output_type": "stream",
     "text": [
      "epoch 1  | loss: 2.42221 | val_0_unsup_loss_numpy: 2.0589001178741455|  0:00:00s\n",
      "epoch 2  | loss: 1.05549 | val_0_unsup_loss_numpy: 1.1229499578475952|  0:00:00s\n",
      "epoch 3  | loss: 1.00067 | val_0_unsup_loss_numpy: 1.9410200119018555|  0:00:00s\n",
      "epoch 4  | loss: 1.05404 | val_0_unsup_loss_numpy: 1.11899995803833|  0:00:00s\n",
      "epoch 5  | loss: 1.41845 | val_0_unsup_loss_numpy: 1.8981499671936035|  0:00:00s\n",
      "epoch 6  | loss: 2.83115 | val_0_unsup_loss_numpy: 1.5192400217056274|  0:00:00s\n",
      "Stop training because you reached max_epochs = 7 with best_epoch = 4 and best_val_0_unsup_loss_numpy = 1.11899995803833\n",
      "----- [INFO] Client 3\n"
     ]
    },
    {
     "name": "stderr",
     "output_type": "stream",
     "text": [
      "/home/necphy/miniconda3/envs/thaivu_env/lib/python3.9/site-packages/pytorch_tabnet/callbacks.py:172: UserWarning: Best weights from best epoch are automatically used!\n",
      "  warnings.warn(wrn_msg)\n"
     ]
    },
    {
     "name": "stdout",
     "output_type": "stream",
     "text": [
      "epoch 0  | loss: 2.6277  | val_0_unsup_loss_numpy: 4.037600040435791|  0:00:00s\n",
      "epoch 1  | loss: 40.476  | val_0_unsup_loss_numpy: 1.5082199573516846|  0:00:00s\n",
      "epoch 2  | loss: 19.52208| val_0_unsup_loss_numpy: 1.5957800149917603|  0:00:00s\n",
      "epoch 3  | loss: 29.03592| val_0_unsup_loss_numpy: 1.189710021018982|  0:00:00s\n",
      "epoch 4  | loss: 45.29985| val_0_unsup_loss_numpy: 4.508289813995361|  0:00:00s\n",
      "epoch 5  | loss: 1.5098  | val_0_unsup_loss_numpy: 2.571280002593994|  0:00:00s\n",
      "epoch 6  | loss: 1.15938 | val_0_unsup_loss_numpy: 7.731569766998291|  0:00:00s\n",
      "Stop training because you reached max_epochs = 7 with best_epoch = 3 and best_val_0_unsup_loss_numpy = 1.189710021018982\n",
      "----- [INFO] Client 4\n",
      "epoch 0  | loss: 1.76437 | val_0_unsup_loss_numpy: 1.476099967956543|  0:00:00s\n"
     ]
    },
    {
     "name": "stderr",
     "output_type": "stream",
     "text": [
      "/home/necphy/miniconda3/envs/thaivu_env/lib/python3.9/site-packages/pytorch_tabnet/callbacks.py:172: UserWarning: Best weights from best epoch are automatically used!\n",
      "  warnings.warn(wrn_msg)\n"
     ]
    },
    {
     "name": "stdout",
     "output_type": "stream",
     "text": [
      "epoch 1  | loss: 1.6458  | val_0_unsup_loss_numpy: 1.2137099504470825|  0:00:00s\n",
      "epoch 2  | loss: 1.2165  | val_0_unsup_loss_numpy: 1.1686500310897827|  0:00:00s\n",
      "epoch 3  | loss: 5.20472 | val_0_unsup_loss_numpy: 0.9725300073623657|  0:00:00s\n",
      "epoch 4  | loss: 9.12167 | val_0_unsup_loss_numpy: 0.9600499868392944|  0:00:00s\n",
      "epoch 5  | loss: 1.11216 | val_0_unsup_loss_numpy: 0.9912700057029724|  0:00:00s\n",
      "epoch 6  | loss: 12.89899| val_0_unsup_loss_numpy: 0.9489499926567078|  0:00:00s\n",
      "Stop training because you reached max_epochs = 7 with best_epoch = 6 and best_val_0_unsup_loss_numpy = 0.9489499926567078\n",
      "----- [INFO] Client 5\n"
     ]
    },
    {
     "name": "stderr",
     "output_type": "stream",
     "text": [
      "/home/necphy/miniconda3/envs/thaivu_env/lib/python3.9/site-packages/pytorch_tabnet/callbacks.py:172: UserWarning: Best weights from best epoch are automatically used!\n",
      "  warnings.warn(wrn_msg)\n"
     ]
    },
    {
     "name": "stdout",
     "output_type": "stream",
     "text": [
      "epoch 0  | loss: 1.65097 | val_0_unsup_loss_numpy: 1.1574900150299072|  0:00:00s\n",
      "epoch 1  | loss: 1.37976 | val_0_unsup_loss_numpy: 1.1319199800491333|  0:00:00s\n",
      "epoch 2  | loss: 2.4453  | val_0_unsup_loss_numpy: 1.1241999864578247|  0:00:00s\n",
      "epoch 3  | loss: 1.78618 | val_0_unsup_loss_numpy: 1.0741000175476074|  0:00:00s\n",
      "epoch 4  | loss: 1.37897 | val_0_unsup_loss_numpy: 0.9756900072097778|  0:00:00s\n",
      "epoch 5  | loss: 1.83386 | val_0_unsup_loss_numpy: 1.0937700271606445|  0:00:00s\n",
      "epoch 6  | loss: 1.0701  | val_0_unsup_loss_numpy: 0.9396200180053711|  0:00:00s\n",
      "Stop training because you reached max_epochs = 7 with best_epoch = 6 and best_val_0_unsup_loss_numpy = 0.9396200180053711\n",
      "----- [INFO] Client 6\n",
      "epoch 0  | loss: 3.24014 | val_0_unsup_loss_numpy: 2.238300085067749|  0:00:00s\n"
     ]
    },
    {
     "name": "stderr",
     "output_type": "stream",
     "text": [
      "/home/necphy/miniconda3/envs/thaivu_env/lib/python3.9/site-packages/pytorch_tabnet/callbacks.py:172: UserWarning: Best weights from best epoch are automatically used!\n",
      "  warnings.warn(wrn_msg)\n"
     ]
    },
    {
     "name": "stdout",
     "output_type": "stream",
     "text": [
      "epoch 1  | loss: 2.55009 | val_0_unsup_loss_numpy: 1.0623600482940674|  0:00:00s\n",
      "epoch 2  | loss: 1.05397 | val_0_unsup_loss_numpy: 1.1735700368881226|  0:00:00s\n",
      "epoch 3  | loss: 1.59685 | val_0_unsup_loss_numpy: 0.9232699871063232|  0:00:00s\n",
      "epoch 4  | loss: 1.16536 | val_0_unsup_loss_numpy: 0.9734699726104736|  0:00:00s\n",
      "epoch 5  | loss: 1.0398  | val_0_unsup_loss_numpy: 0.9645000100135803|  0:00:00s\n",
      "epoch 6  | loss: 1.06198 | val_0_unsup_loss_numpy: 0.9374799728393555|  0:00:00s\n",
      "Stop training because you reached max_epochs = 7 with best_epoch = 3 and best_val_0_unsup_loss_numpy = 0.9232699871063232\n",
      "----- [INFO] Client 7\n"
     ]
    },
    {
     "name": "stderr",
     "output_type": "stream",
     "text": [
      "/home/necphy/miniconda3/envs/thaivu_env/lib/python3.9/site-packages/pytorch_tabnet/callbacks.py:172: UserWarning: Best weights from best epoch are automatically used!\n",
      "  warnings.warn(wrn_msg)\n"
     ]
    },
    {
     "name": "stdout",
     "output_type": "stream",
     "text": [
      "epoch 0  | loss: 2.3828  | val_0_unsup_loss_numpy: 1.4501899480819702|  0:00:00s\n",
      "epoch 1  | loss: 0.98751 | val_0_unsup_loss_numpy: 1.0121099948883057|  0:00:00s\n",
      "epoch 2  | loss: 0.95967 | val_0_unsup_loss_numpy: 1.1026999950408936|  0:00:00s\n",
      "epoch 3  | loss: 1.03122 | val_0_unsup_loss_numpy: 0.9078199863433838|  0:00:00s\n",
      "epoch 4  | loss: 0.86229 | val_0_unsup_loss_numpy: 0.9751200079917908|  0:00:00s\n",
      "epoch 5  | loss: 1.11844 | val_0_unsup_loss_numpy: 0.8658699989318848|  0:00:00s\n",
      "epoch 6  | loss: 1.21777 | val_0_unsup_loss_numpy: 0.9681599736213684|  0:00:00s\n",
      "Stop training because you reached max_epochs = 7 with best_epoch = 5 and best_val_0_unsup_loss_numpy = 0.8658699989318848\n",
      "----- [INFO] Client 8\n",
      "epoch 0  | loss: 15.76411| val_0_unsup_loss_numpy: 3.4123499393463135|  0:00:00s\n"
     ]
    },
    {
     "name": "stderr",
     "output_type": "stream",
     "text": [
      "/home/necphy/miniconda3/envs/thaivu_env/lib/python3.9/site-packages/pytorch_tabnet/callbacks.py:172: UserWarning: Best weights from best epoch are automatically used!\n",
      "  warnings.warn(wrn_msg)\n"
     ]
    },
    {
     "name": "stdout",
     "output_type": "stream",
     "text": [
      "epoch 1  | loss: 2.14973 | val_0_unsup_loss_numpy: 2.1458001136779785|  0:00:00s\n",
      "epoch 2  | loss: 1.02576 | val_0_unsup_loss_numpy: 1.1681900024414062|  0:00:00s\n",
      "epoch 3  | loss: 1.59893 | val_0_unsup_loss_numpy: 1.0242700576782227|  0:00:00s\n",
      "epoch 4  | loss: 1.04827 | val_0_unsup_loss_numpy: 1.1948299407958984|  0:00:00s\n",
      "epoch 5  | loss: 1.11148 | val_0_unsup_loss_numpy: 3.061110019683838|  0:00:00s\n",
      "epoch 6  | loss: 1.0583  | val_0_unsup_loss_numpy: 1.2388299703598022|  0:00:00s\n",
      "Stop training because you reached max_epochs = 7 with best_epoch = 3 and best_val_0_unsup_loss_numpy = 1.0242700576782227\n",
      "----- [INFO] Client 9\n"
     ]
    },
    {
     "name": "stderr",
     "output_type": "stream",
     "text": [
      "/home/necphy/miniconda3/envs/thaivu_env/lib/python3.9/site-packages/pytorch_tabnet/callbacks.py:172: UserWarning: Best weights from best epoch are automatically used!\n",
      "  warnings.warn(wrn_msg)\n"
     ]
    },
    {
     "name": "stdout",
     "output_type": "stream",
     "text": [
      "epoch 0  | loss: 13.15684| val_0_unsup_loss_numpy: 11.915619850158691|  0:00:00s\n",
      "epoch 1  | loss: 3.25894 | val_0_unsup_loss_numpy: 1.4199800491333008|  0:00:00s\n",
      "epoch 2  | loss: 2.22649 | val_0_unsup_loss_numpy: 0.9919400215148926|  0:00:00s\n",
      "epoch 3  | loss: 2.12373 | val_0_unsup_loss_numpy: 1.3669999837875366|  0:00:00s\n",
      "epoch 4  | loss: 2.07697 | val_0_unsup_loss_numpy: 1.8147799968719482|  0:00:00s\n",
      "epoch 5  | loss: 1.83162 | val_0_unsup_loss_numpy: 1.4274400472640991|  0:00:00s\n",
      "epoch 6  | loss: 2.70378 | val_0_unsup_loss_numpy: 1.7990700006484985|  0:00:00s\n",
      "Stop training because you reached max_epochs = 7 with best_epoch = 2 and best_val_0_unsup_loss_numpy = 0.9919400215148926\n",
      "---------- [INFO] Round 11\n",
      "----- [INFO] Client 0\n"
     ]
    },
    {
     "name": "stderr",
     "output_type": "stream",
     "text": [
      "/home/necphy/miniconda3/envs/thaivu_env/lib/python3.9/site-packages/pytorch_tabnet/callbacks.py:172: UserWarning: Best weights from best epoch are automatically used!\n",
      "  warnings.warn(wrn_msg)\n"
     ]
    },
    {
     "name": "stdout",
     "output_type": "stream",
     "text": [
      "epoch 0  | loss: 8.30098 | val_0_unsup_loss_numpy: 3.920340061187744|  0:00:00s\n",
      "epoch 1  | loss: 40.09274| val_0_unsup_loss_numpy: 4.78646993637085|  0:00:00s\n",
      "epoch 2  | loss: 14.91037| val_0_unsup_loss_numpy: 6.312069892883301|  0:00:00s\n",
      "epoch 3  | loss: 6.55489 | val_0_unsup_loss_numpy: 1.2760499715805054|  0:00:00s\n",
      "epoch 4  | loss: 2.74679 | val_0_unsup_loss_numpy: 1.0480400323867798|  0:00:00s\n",
      "epoch 5  | loss: 1.58246 | val_0_unsup_loss_numpy: 1.0580899715423584|  0:00:00s\n",
      "epoch 6  | loss: 1.1234  | val_0_unsup_loss_numpy: 1.0281200408935547|  0:00:00s\n",
      "Stop training because you reached max_epochs = 7 with best_epoch = 6 and best_val_0_unsup_loss_numpy = 1.0281200408935547\n",
      "----- [INFO] Client 1\n",
      "epoch 0  | loss: 3.18202 | val_0_unsup_loss_numpy: 1.3406100273132324|  0:00:00s\n"
     ]
    },
    {
     "name": "stderr",
     "output_type": "stream",
     "text": [
      "/home/necphy/miniconda3/envs/thaivu_env/lib/python3.9/site-packages/pytorch_tabnet/callbacks.py:172: UserWarning: Best weights from best epoch are automatically used!\n",
      "  warnings.warn(wrn_msg)\n"
     ]
    },
    {
     "name": "stdout",
     "output_type": "stream",
     "text": [
      "epoch 1  | loss: 1.60774 | val_0_unsup_loss_numpy: 0.9536200165748596|  0:00:00s\n",
      "epoch 2  | loss: 1.08373 | val_0_unsup_loss_numpy: 1.0203900337219238|  0:00:00s\n",
      "epoch 3  | loss: 1.04667 | val_0_unsup_loss_numpy: 0.9791100025177002|  0:00:00s\n",
      "epoch 4  | loss: 1.00883 | val_0_unsup_loss_numpy: 0.9543499946594238|  0:00:00s\n",
      "epoch 5  | loss: 1.28306 | val_0_unsup_loss_numpy: 0.8529599905014038|  0:00:00s\n",
      "epoch 6  | loss: 0.97968 | val_0_unsup_loss_numpy: 0.8946999907493591|  0:00:00s\n",
      "Stop training because you reached max_epochs = 7 with best_epoch = 5 and best_val_0_unsup_loss_numpy = 0.8529599905014038\n",
      "----- [INFO] Client 2\n"
     ]
    },
    {
     "name": "stderr",
     "output_type": "stream",
     "text": [
      "/home/necphy/miniconda3/envs/thaivu_env/lib/python3.9/site-packages/pytorch_tabnet/callbacks.py:172: UserWarning: Best weights from best epoch are automatically used!\n",
      "  warnings.warn(wrn_msg)\n"
     ]
    },
    {
     "name": "stdout",
     "output_type": "stream",
     "text": [
      "epoch 0  | loss: 13.7078 | val_0_unsup_loss_numpy: 2.549839973449707|  0:00:00s\n",
      "epoch 1  | loss: 1.37206 | val_0_unsup_loss_numpy: 1.4843800067901611|  0:00:00s\n",
      "epoch 2  | loss: 1.34179 | val_0_unsup_loss_numpy: 1.3050099611282349|  0:00:00s\n",
      "epoch 3  | loss: 1.12197 | val_0_unsup_loss_numpy: 1.0798100233078003|  0:00:00s\n",
      "epoch 4  | loss: 1.08466 | val_0_unsup_loss_numpy: 1.1859699487686157|  0:00:00s\n",
      "epoch 5  | loss: 1.90072 | val_0_unsup_loss_numpy: 0.9980199933052063|  0:00:00s\n",
      "epoch 6  | loss: 1.15377 | val_0_unsup_loss_numpy: 0.9175999760627747|  0:00:00s\n",
      "Stop training because you reached max_epochs = 7 with best_epoch = 6 and best_val_0_unsup_loss_numpy = 0.9175999760627747\n",
      "----- [INFO] Client 3\n",
      "epoch 0  | loss: 4.52164 | val_0_unsup_loss_numpy: 3.5750200748443604|  0:00:00s\n"
     ]
    },
    {
     "name": "stderr",
     "output_type": "stream",
     "text": [
      "/home/necphy/miniconda3/envs/thaivu_env/lib/python3.9/site-packages/pytorch_tabnet/callbacks.py:172: UserWarning: Best weights from best epoch are automatically used!\n",
      "  warnings.warn(wrn_msg)\n"
     ]
    },
    {
     "name": "stdout",
     "output_type": "stream",
     "text": [
      "epoch 1  | loss: 5.18067 | val_0_unsup_loss_numpy: 3.0751700401306152|  0:00:00s\n",
      "epoch 2  | loss: 6.37334 | val_0_unsup_loss_numpy: 6.074059963226318|  0:00:00s\n",
      "epoch 3  | loss: 34.34448| val_0_unsup_loss_numpy: 0.9465100169181824|  0:00:00s\n",
      "epoch 4  | loss: 1.44454 | val_0_unsup_loss_numpy: 2.3026199340820312|  0:00:00s\n",
      "epoch 5  | loss: 19.0719 | val_0_unsup_loss_numpy: 1.919510006904602|  0:00:00s\n",
      "epoch 6  | loss: 18.69378| val_0_unsup_loss_numpy: 2.190880060195923|  0:00:00s\n",
      "Stop training because you reached max_epochs = 7 with best_epoch = 3 and best_val_0_unsup_loss_numpy = 0.9465100169181824\n",
      "----- [INFO] Client 4\n"
     ]
    },
    {
     "name": "stderr",
     "output_type": "stream",
     "text": [
      "/home/necphy/miniconda3/envs/thaivu_env/lib/python3.9/site-packages/pytorch_tabnet/callbacks.py:172: UserWarning: Best weights from best epoch are automatically used!\n",
      "  warnings.warn(wrn_msg)\n"
     ]
    },
    {
     "name": "stdout",
     "output_type": "stream",
     "text": [
      "epoch 0  | loss: 1.72885 | val_0_unsup_loss_numpy: 0.989799976348877|  0:00:00s\n",
      "epoch 1  | loss: 1.42463 | val_0_unsup_loss_numpy: 0.9455299973487854|  0:00:00s\n",
      "epoch 2  | loss: 1.07811 | val_0_unsup_loss_numpy: 1.2278900146484375|  0:00:00s\n",
      "epoch 3  | loss: 1.08824 | val_0_unsup_loss_numpy: 1.1671799421310425|  0:00:00s\n",
      "epoch 4  | loss: 3.39962 | val_0_unsup_loss_numpy: 0.9582700133323669|  0:00:00s\n",
      "epoch 5  | loss: 3.35431 | val_0_unsup_loss_numpy: 0.9465500116348267|  0:00:00s\n",
      "epoch 6  | loss: 1.02976 | val_0_unsup_loss_numpy: 0.9781799912452698|  0:00:00s\n",
      "Stop training because you reached max_epochs = 7 with best_epoch = 1 and best_val_0_unsup_loss_numpy = 0.9455299973487854\n",
      "----- [INFO] Client 5\n",
      "epoch 0  | loss: 2.35805 | val_0_unsup_loss_numpy: 2.136470079421997|  0:00:00s\n"
     ]
    },
    {
     "name": "stderr",
     "output_type": "stream",
     "text": [
      "/home/necphy/miniconda3/envs/thaivu_env/lib/python3.9/site-packages/pytorch_tabnet/callbacks.py:172: UserWarning: Best weights from best epoch are automatically used!\n",
      "  warnings.warn(wrn_msg)\n"
     ]
    },
    {
     "name": "stdout",
     "output_type": "stream",
     "text": [
      "epoch 1  | loss: 1.87644 | val_0_unsup_loss_numpy: 1.5275800228118896|  0:00:00s\n",
      "epoch 2  | loss: 0.99335 | val_0_unsup_loss_numpy: 1.0152599811553955|  0:00:00s\n",
      "epoch 3  | loss: 1.16058 | val_0_unsup_loss_numpy: 1.0298000574111938|  0:00:00s\n",
      "epoch 4  | loss: 1.1808  | val_0_unsup_loss_numpy: 0.9752299785614014|  0:00:00s\n",
      "epoch 5  | loss: 0.98659 | val_0_unsup_loss_numpy: 0.9031999707221985|  0:00:00s\n",
      "epoch 6  | loss: 0.91264 | val_0_unsup_loss_numpy: 0.919700026512146|  0:00:00s\n",
      "Stop training because you reached max_epochs = 7 with best_epoch = 5 and best_val_0_unsup_loss_numpy = 0.9031999707221985\n",
      "----- [INFO] Client 6\n"
     ]
    },
    {
     "name": "stderr",
     "output_type": "stream",
     "text": [
      "/home/necphy/miniconda3/envs/thaivu_env/lib/python3.9/site-packages/pytorch_tabnet/callbacks.py:172: UserWarning: Best weights from best epoch are automatically used!\n",
      "  warnings.warn(wrn_msg)\n"
     ]
    },
    {
     "name": "stdout",
     "output_type": "stream",
     "text": [
      "epoch 0  | loss: 2.20588 | val_0_unsup_loss_numpy: 2.0515999794006348|  0:00:00s\n",
      "epoch 1  | loss: 6.52401 | val_0_unsup_loss_numpy: 1.39860999584198|  0:00:00s\n",
      "epoch 2  | loss: 2.4693  | val_0_unsup_loss_numpy: 1.1624200344085693|  0:00:00s\n",
      "epoch 3  | loss: 1.8459  | val_0_unsup_loss_numpy: 1.0316499471664429|  0:00:00s\n",
      "epoch 4  | loss: 1.96436 | val_0_unsup_loss_numpy: 1.179360032081604|  0:00:00s\n",
      "epoch 5  | loss: 0.97471 | val_0_unsup_loss_numpy: 0.9166899919509888|  0:00:00s\n",
      "epoch 6  | loss: 1.12862 | val_0_unsup_loss_numpy: 0.976360023021698|  0:00:00s\n",
      "Stop training because you reached max_epochs = 7 with best_epoch = 5 and best_val_0_unsup_loss_numpy = 0.9166899919509888\n",
      "----- [INFO] Client 7\n",
      "epoch 0  | loss: 2.40395 | val_0_unsup_loss_numpy: 2.2714200019836426|  0:00:00s\n"
     ]
    },
    {
     "name": "stderr",
     "output_type": "stream",
     "text": [
      "/home/necphy/miniconda3/envs/thaivu_env/lib/python3.9/site-packages/pytorch_tabnet/callbacks.py:172: UserWarning: Best weights from best epoch are automatically used!\n",
      "  warnings.warn(wrn_msg)\n"
     ]
    },
    {
     "name": "stdout",
     "output_type": "stream",
     "text": [
      "epoch 1  | loss: 1.97491 | val_0_unsup_loss_numpy: 1.6088600158691406|  0:00:00s\n",
      "epoch 2  | loss: 1.59861 | val_0_unsup_loss_numpy: 1.8825299739837646|  0:00:00s\n",
      "epoch 3  | loss: 1.10276 | val_0_unsup_loss_numpy: 1.3157999515533447|  0:00:00s\n",
      "epoch 4  | loss: 2.51021 | val_0_unsup_loss_numpy: 0.9851700067520142|  0:00:00s\n",
      "epoch 5  | loss: 1.17641 | val_0_unsup_loss_numpy: 1.0572600364685059|  0:00:00s\n",
      "epoch 6  | loss: 1.13751 | val_0_unsup_loss_numpy: 0.9411399960517883|  0:00:00s\n",
      "Stop training because you reached max_epochs = 7 with best_epoch = 6 and best_val_0_unsup_loss_numpy = 0.9411399960517883\n",
      "----- [INFO] Client 8\n"
     ]
    },
    {
     "name": "stderr",
     "output_type": "stream",
     "text": [
      "/home/necphy/miniconda3/envs/thaivu_env/lib/python3.9/site-packages/pytorch_tabnet/callbacks.py:172: UserWarning: Best weights from best epoch are automatically used!\n",
      "  warnings.warn(wrn_msg)\n"
     ]
    },
    {
     "name": "stdout",
     "output_type": "stream",
     "text": [
      "epoch 0  | loss: 4.67791 | val_0_unsup_loss_numpy: 1.37431001663208|  0:00:00s\n",
      "epoch 1  | loss: 5.13044 | val_0_unsup_loss_numpy: 10.246299743652344|  0:00:00s\n",
      "epoch 2  | loss: 2.01274 | val_0_unsup_loss_numpy: 4.306869983673096|  0:00:00s\n",
      "epoch 3  | loss: 1.8925  | val_0_unsup_loss_numpy: 1.1301900148391724|  0:00:00s\n",
      "epoch 4  | loss: 1.17722 | val_0_unsup_loss_numpy: 1.297950029373169|  0:00:00s\n",
      "epoch 5  | loss: 0.97994 | val_0_unsup_loss_numpy: 0.9532399773597717|  0:00:00s\n",
      "epoch 6  | loss: 1.11036 | val_0_unsup_loss_numpy: 1.0646899938583374|  0:00:00s\n",
      "Stop training because you reached max_epochs = 7 with best_epoch = 5 and best_val_0_unsup_loss_numpy = 0.9532399773597717\n",
      "----- [INFO] Client 9\n",
      "epoch 0  | loss: 5.60188 | val_0_unsup_loss_numpy: 4.705939769744873|  0:00:00s\n"
     ]
    },
    {
     "name": "stderr",
     "output_type": "stream",
     "text": [
      "/home/necphy/miniconda3/envs/thaivu_env/lib/python3.9/site-packages/pytorch_tabnet/callbacks.py:172: UserWarning: Best weights from best epoch are automatically used!\n",
      "  warnings.warn(wrn_msg)\n"
     ]
    },
    {
     "name": "stdout",
     "output_type": "stream",
     "text": [
      "epoch 1  | loss: 9.23694 | val_0_unsup_loss_numpy: 3.2771799564361572|  0:00:00s\n",
      "epoch 2  | loss: 3.94785 | val_0_unsup_loss_numpy: 1.5161399841308594|  0:00:00s\n",
      "epoch 3  | loss: 1.50517 | val_0_unsup_loss_numpy: 1.1285300254821777|  0:00:00s\n",
      "epoch 4  | loss: 1.31389 | val_0_unsup_loss_numpy: 3.6080899238586426|  0:00:00s\n",
      "epoch 5  | loss: 1.6709  | val_0_unsup_loss_numpy: 1.0364199876785278|  0:00:00s\n",
      "epoch 6  | loss: 1.41747 | val_0_unsup_loss_numpy: 1.2977999448776245|  0:00:00s\n",
      "Stop training because you reached max_epochs = 7 with best_epoch = 5 and best_val_0_unsup_loss_numpy = 1.0364199876785278\n"
     ]
    },
    {
     "name": "stderr",
     "output_type": "stream",
     "text": [
      "/home/necphy/miniconda3/envs/thaivu_env/lib/python3.9/site-packages/pytorch_tabnet/callbacks.py:172: UserWarning: Best weights from best epoch are automatically used!\n",
      "  warnings.warn(wrn_msg)\n"
     ]
    },
    {
     "name": "stdout",
     "output_type": "stream",
     "text": [
      "---------- [INFO] Round 12\n",
      "----- [INFO] Client 0\n",
      "epoch 0  | loss: 1.77789 | val_0_unsup_loss_numpy: 6.193860054016113|  0:00:00s\n",
      "epoch 1  | loss: 2.24107 | val_0_unsup_loss_numpy: 2.6627299785614014|  0:00:00s\n",
      "epoch 2  | loss: 2.77514 | val_0_unsup_loss_numpy: 2.883080005645752|  0:00:00s\n",
      "epoch 3  | loss: 3.79077 | val_0_unsup_loss_numpy: 3.4727399349212646|  0:00:00s\n",
      "epoch 4  | loss: 15.49108| val_0_unsup_loss_numpy: 1.0789300203323364|  0:00:00s\n",
      "epoch 5  | loss: 1.5203  | val_0_unsup_loss_numpy: 1.1469999551773071|  0:00:00s\n",
      "epoch 6  | loss: 1.72399 | val_0_unsup_loss_numpy: 1.0596599578857422|  0:00:00s\n",
      "Stop training because you reached max_epochs = 7 with best_epoch = 6 and best_val_0_unsup_loss_numpy = 1.0596599578857422\n",
      "----- [INFO] Client 1\n"
     ]
    },
    {
     "name": "stderr",
     "output_type": "stream",
     "text": [
      "/home/necphy/miniconda3/envs/thaivu_env/lib/python3.9/site-packages/pytorch_tabnet/callbacks.py:172: UserWarning: Best weights from best epoch are automatically used!\n",
      "  warnings.warn(wrn_msg)\n"
     ]
    },
    {
     "name": "stdout",
     "output_type": "stream",
     "text": [
      "epoch 0  | loss: 1.75194 | val_0_unsup_loss_numpy: 2.392280101776123|  0:00:00s\n",
      "epoch 1  | loss: 3.14355 | val_0_unsup_loss_numpy: 1.433899998664856|  0:00:00s\n",
      "epoch 2  | loss: 0.9774  | val_0_unsup_loss_numpy: 0.9186499714851379|  0:00:00s\n",
      "epoch 3  | loss: 0.97604 | val_0_unsup_loss_numpy: 1.0340900421142578|  0:00:00s\n",
      "epoch 4  | loss: 0.99061 | val_0_unsup_loss_numpy: 1.0530999898910522|  0:00:00s\n",
      "epoch 5  | loss: 1.27071 | val_0_unsup_loss_numpy: 1.3602800369262695|  0:00:00s\n",
      "epoch 6  | loss: 1.13939 | val_0_unsup_loss_numpy: 0.8683199882507324|  0:00:00s\n",
      "Stop training because you reached max_epochs = 7 with best_epoch = 6 and best_val_0_unsup_loss_numpy = 0.8683199882507324\n",
      "----- [INFO] Client 2\n",
      "epoch 0  | loss: 1.47199 | val_0_unsup_loss_numpy: 1.7041699886322021|  0:00:00s\n"
     ]
    },
    {
     "name": "stderr",
     "output_type": "stream",
     "text": [
      "/home/necphy/miniconda3/envs/thaivu_env/lib/python3.9/site-packages/pytorch_tabnet/callbacks.py:172: UserWarning: Best weights from best epoch are automatically used!\n",
      "  warnings.warn(wrn_msg)\n"
     ]
    },
    {
     "name": "stdout",
     "output_type": "stream",
     "text": [
      "epoch 1  | loss: 1.14989 | val_0_unsup_loss_numpy: 2.1636099815368652|  0:00:00s\n",
      "epoch 2  | loss: 2.19378 | val_0_unsup_loss_numpy: 1.1639200448989868|  0:00:00s\n",
      "epoch 3  | loss: 1.05852 | val_0_unsup_loss_numpy: 0.8972799777984619|  0:00:00s\n",
      "epoch 4  | loss: 1.21657 | val_0_unsup_loss_numpy: 1.0529099702835083|  0:00:00s\n",
      "epoch 5  | loss: 0.93595 | val_0_unsup_loss_numpy: 1.4117399454116821|  0:00:00s\n",
      "epoch 6  | loss: 1.1724  | val_0_unsup_loss_numpy: 1.0738199949264526|  0:00:00s\n",
      "Stop training because you reached max_epochs = 7 with best_epoch = 3 and best_val_0_unsup_loss_numpy = 0.8972799777984619\n",
      "----- [INFO] Client 3\n"
     ]
    },
    {
     "name": "stderr",
     "output_type": "stream",
     "text": [
      "/home/necphy/miniconda3/envs/thaivu_env/lib/python3.9/site-packages/pytorch_tabnet/callbacks.py:172: UserWarning: Best weights from best epoch are automatically used!\n",
      "  warnings.warn(wrn_msg)\n"
     ]
    },
    {
     "name": "stdout",
     "output_type": "stream",
     "text": [
      "epoch 0  | loss: 0.9487  | val_0_unsup_loss_numpy: 5.527450084686279|  0:00:00s\n",
      "epoch 1  | loss: 1.68961 | val_0_unsup_loss_numpy: 4.374499797821045|  0:00:00s\n",
      "epoch 2  | loss: 190.47937| val_0_unsup_loss_numpy: 12.256449699401855|  0:00:00s\n",
      "epoch 3  | loss: 1.42423 | val_0_unsup_loss_numpy: 1.3659800291061401|  0:00:00s\n",
      "epoch 4  | loss: 12.3135 | val_0_unsup_loss_numpy: 3.167249917984009|  0:00:00s\n",
      "epoch 5  | loss: 14.4384 | val_0_unsup_loss_numpy: 1.8913700580596924|  0:00:00s\n",
      "epoch 6  | loss: 6.10584 | val_0_unsup_loss_numpy: 4.932740211486816|  0:00:00s\n",
      "Stop training because you reached max_epochs = 7 with best_epoch = 3 and best_val_0_unsup_loss_numpy = 1.3659800291061401\n",
      "----- [INFO] Client 4\n",
      "epoch 0  | loss: 1.31436 | val_0_unsup_loss_numpy: 1.3672699928283691|  0:00:00s\n"
     ]
    },
    {
     "name": "stderr",
     "output_type": "stream",
     "text": [
      "/home/necphy/miniconda3/envs/thaivu_env/lib/python3.9/site-packages/pytorch_tabnet/callbacks.py:172: UserWarning: Best weights from best epoch are automatically used!\n",
      "  warnings.warn(wrn_msg)\n"
     ]
    },
    {
     "name": "stdout",
     "output_type": "stream",
     "text": [
      "epoch 1  | loss: 1.10297 | val_0_unsup_loss_numpy: 1.004330039024353|  0:00:00s\n",
      "epoch 2  | loss: 3.51897 | val_0_unsup_loss_numpy: 1.211940050125122|  0:00:00s\n",
      "epoch 3  | loss: 0.99732 | val_0_unsup_loss_numpy: 0.9716200232505798|  0:00:00s\n",
      "epoch 4  | loss: 0.99037 | val_0_unsup_loss_numpy: 0.9300500154495239|  0:00:00s\n",
      "epoch 5  | loss: 1.0964  | val_0_unsup_loss_numpy: 0.8533300161361694|  0:00:00s\n",
      "epoch 6  | loss: 0.93574 | val_0_unsup_loss_numpy: 1.1884100437164307|  0:00:00s\n",
      "Stop training because you reached max_epochs = 7 with best_epoch = 5 and best_val_0_unsup_loss_numpy = 0.8533300161361694\n",
      "----- [INFO] Client 5\n"
     ]
    },
    {
     "name": "stderr",
     "output_type": "stream",
     "text": [
      "/home/necphy/miniconda3/envs/thaivu_env/lib/python3.9/site-packages/pytorch_tabnet/callbacks.py:172: UserWarning: Best weights from best epoch are automatically used!\n",
      "  warnings.warn(wrn_msg)\n"
     ]
    },
    {
     "name": "stdout",
     "output_type": "stream",
     "text": [
      "epoch 0  | loss: 2.90154 | val_0_unsup_loss_numpy: 1.4092400074005127|  0:00:00s\n",
      "epoch 1  | loss: 2.00014 | val_0_unsup_loss_numpy: 1.2066800594329834|  0:00:00s\n",
      "epoch 2  | loss: 1.7446  | val_0_unsup_loss_numpy: 1.4271199703216553|  0:00:00s\n",
      "epoch 3  | loss: 1.60576 | val_0_unsup_loss_numpy: 1.1575100421905518|  0:00:00s\n",
      "epoch 4  | loss: 1.41267 | val_0_unsup_loss_numpy: 0.9765599966049194|  0:00:00s\n",
      "epoch 5  | loss: 1.13974 | val_0_unsup_loss_numpy: 1.0550400018692017|  0:00:00s\n",
      "epoch 6  | loss: 1.93074 | val_0_unsup_loss_numpy: 0.9642599821090698|  0:00:00s\n",
      "Stop training because you reached max_epochs = 7 with best_epoch = 6 and best_val_0_unsup_loss_numpy = 0.9642599821090698\n",
      "----- [INFO] Client 6\n",
      "epoch 0  | loss: 2.70457 | val_0_unsup_loss_numpy: 1.6288599967956543|  0:00:00s\n"
     ]
    },
    {
     "name": "stderr",
     "output_type": "stream",
     "text": [
      "/home/necphy/miniconda3/envs/thaivu_env/lib/python3.9/site-packages/pytorch_tabnet/callbacks.py:172: UserWarning: Best weights from best epoch are automatically used!\n",
      "  warnings.warn(wrn_msg)\n"
     ]
    },
    {
     "name": "stdout",
     "output_type": "stream",
     "text": [
      "epoch 1  | loss: 2.84081 | val_0_unsup_loss_numpy: 3.86296010017395|  0:00:00s\n",
      "epoch 2  | loss: 4.28141 | val_0_unsup_loss_numpy: 1.9021999835968018|  0:00:00s\n",
      "epoch 3  | loss: 2.90694 | val_0_unsup_loss_numpy: 1.683609962463379|  0:00:00s\n",
      "epoch 4  | loss: 1.3229  | val_0_unsup_loss_numpy: 1.091920018196106|  0:00:00s\n",
      "epoch 5  | loss: 1.04616 | val_0_unsup_loss_numpy: 1.3171700239181519|  0:00:00s\n",
      "epoch 6  | loss: 1.23067 | val_0_unsup_loss_numpy: 1.0882699489593506|  0:00:00s\n",
      "Stop training because you reached max_epochs = 7 with best_epoch = 6 and best_val_0_unsup_loss_numpy = 1.0882699489593506\n",
      "----- [INFO] Client 7\n"
     ]
    },
    {
     "name": "stderr",
     "output_type": "stream",
     "text": [
      "/home/necphy/miniconda3/envs/thaivu_env/lib/python3.9/site-packages/pytorch_tabnet/callbacks.py:172: UserWarning: Best weights from best epoch are automatically used!\n",
      "  warnings.warn(wrn_msg)\n"
     ]
    },
    {
     "name": "stdout",
     "output_type": "stream",
     "text": [
      "epoch 0  | loss: 2.60211 | val_0_unsup_loss_numpy: 1.504289984703064|  0:00:00s\n",
      "epoch 1  | loss: 1.01223 | val_0_unsup_loss_numpy: 1.0788600444793701|  0:00:00s\n",
      "epoch 2  | loss: 0.95252 | val_0_unsup_loss_numpy: 0.9496399760246277|  0:00:00s\n",
      "epoch 3  | loss: 1.18524 | val_0_unsup_loss_numpy: 1.1423300504684448|  0:00:00s\n",
      "epoch 4  | loss: 1.24309 | val_0_unsup_loss_numpy: 1.3893799781799316|  0:00:00s\n",
      "epoch 5  | loss: 1.11283 | val_0_unsup_loss_numpy: 0.9922099709510803|  0:00:00s\n",
      "epoch 6  | loss: 1.01186 | val_0_unsup_loss_numpy: 1.2122900485992432|  0:00:00s\n",
      "Stop training because you reached max_epochs = 7 with best_epoch = 2 and best_val_0_unsup_loss_numpy = 0.9496399760246277\n",
      "----- [INFO] Client 8\n",
      "epoch 0  | loss: 3.61303 | val_0_unsup_loss_numpy: 1.5351799726486206|  0:00:00s\n"
     ]
    },
    {
     "name": "stderr",
     "output_type": "stream",
     "text": [
      "/home/necphy/miniconda3/envs/thaivu_env/lib/python3.9/site-packages/pytorch_tabnet/callbacks.py:172: UserWarning: Best weights from best epoch are automatically used!\n",
      "  warnings.warn(wrn_msg)\n"
     ]
    },
    {
     "name": "stdout",
     "output_type": "stream",
     "text": [
      "epoch 1  | loss: 2.37712 | val_0_unsup_loss_numpy: 2.2273099422454834|  0:00:00s\n",
      "epoch 2  | loss: 2.22077 | val_0_unsup_loss_numpy: 2.098059892654419|  0:00:00s\n",
      "epoch 3  | loss: 1.67086 | val_0_unsup_loss_numpy: 1.4193600416183472|  0:00:00s\n",
      "epoch 4  | loss: 0.98688 | val_0_unsup_loss_numpy: 1.0869200229644775|  0:00:00s\n",
      "epoch 5  | loss: 0.98647 | val_0_unsup_loss_numpy: 1.0133899450302124|  0:00:00s\n",
      "epoch 6  | loss: 1.21743 | val_0_unsup_loss_numpy: 1.0072300434112549|  0:00:00s\n",
      "Stop training because you reached max_epochs = 7 with best_epoch = 6 and best_val_0_unsup_loss_numpy = 1.0072300434112549\n",
      "----- [INFO] Client 9\n"
     ]
    },
    {
     "name": "stderr",
     "output_type": "stream",
     "text": [
      "/home/necphy/miniconda3/envs/thaivu_env/lib/python3.9/site-packages/pytorch_tabnet/callbacks.py:172: UserWarning: Best weights from best epoch are automatically used!\n",
      "  warnings.warn(wrn_msg)\n"
     ]
    },
    {
     "name": "stdout",
     "output_type": "stream",
     "text": [
      "epoch 0  | loss: 1.80803 | val_0_unsup_loss_numpy: 1.984429955482483|  0:00:00s\n",
      "epoch 1  | loss: 4.93056 | val_0_unsup_loss_numpy: 1.7321399450302124|  0:00:00s\n",
      "epoch 2  | loss: 1.3158  | val_0_unsup_loss_numpy: 2.0189199447631836|  0:00:00s\n",
      "epoch 3  | loss: 3.26558 | val_0_unsup_loss_numpy: 1.105970025062561|  0:00:00s\n",
      "epoch 4  | loss: 1.00893 | val_0_unsup_loss_numpy: 1.2384599447250366|  0:00:00s\n",
      "epoch 5  | loss: 1.51988 | val_0_unsup_loss_numpy: 1.2686100006103516|  0:00:00s\n",
      "epoch 6  | loss: 1.04981 | val_0_unsup_loss_numpy: 1.184689998626709|  0:00:00s\n",
      "Stop training because you reached max_epochs = 7 with best_epoch = 3 and best_val_0_unsup_loss_numpy = 1.105970025062561\n",
      "---------- [INFO] Round 13\n",
      "----- [INFO] Client 0\n"
     ]
    },
    {
     "name": "stderr",
     "output_type": "stream",
     "text": [
      "/home/necphy/miniconda3/envs/thaivu_env/lib/python3.9/site-packages/pytorch_tabnet/callbacks.py:172: UserWarning: Best weights from best epoch are automatically used!\n",
      "  warnings.warn(wrn_msg)\n"
     ]
    },
    {
     "name": "stdout",
     "output_type": "stream",
     "text": [
      "epoch 0  | loss: 17.14526| val_0_unsup_loss_numpy: 8.753580093383789|  0:00:00s\n",
      "epoch 1  | loss: 22.39036| val_0_unsup_loss_numpy: 6.344719886779785|  0:00:00s\n",
      "epoch 2  | loss: 2.04643 | val_0_unsup_loss_numpy: 7.963109970092773|  0:00:00s\n",
      "epoch 3  | loss: 7.77282 | val_0_unsup_loss_numpy: 1.4512200355529785|  0:00:00s\n",
      "epoch 4  | loss: 11.8938 | val_0_unsup_loss_numpy: 1.4525099992752075|  0:00:00s\n",
      "epoch 5  | loss: 4.8673  | val_0_unsup_loss_numpy: 1.1291600465774536|  0:00:00s\n",
      "epoch 6  | loss: 2.39897 | val_0_unsup_loss_numpy: 1.8665000200271606|  0:00:00s\n",
      "Stop training because you reached max_epochs = 7 with best_epoch = 5 and best_val_0_unsup_loss_numpy = 1.1291600465774536\n",
      "----- [INFO] Client 1\n",
      "epoch 0  | loss: 1.26319 | val_0_unsup_loss_numpy: 1.5565099716186523|  0:00:00s\n"
     ]
    },
    {
     "name": "stderr",
     "output_type": "stream",
     "text": [
      "/home/necphy/miniconda3/envs/thaivu_env/lib/python3.9/site-packages/pytorch_tabnet/callbacks.py:172: UserWarning: Best weights from best epoch are automatically used!\n",
      "  warnings.warn(wrn_msg)\n"
     ]
    },
    {
     "name": "stdout",
     "output_type": "stream",
     "text": [
      "epoch 1  | loss: 1.33304 | val_0_unsup_loss_numpy: 1.8220499753952026|  0:00:00s\n",
      "epoch 2  | loss: 1.19706 | val_0_unsup_loss_numpy: 1.2706899642944336|  0:00:00s\n",
      "epoch 3  | loss: 0.87282 | val_0_unsup_loss_numpy: 1.2837400436401367|  0:00:00s\n",
      "epoch 4  | loss: 0.97169 | val_0_unsup_loss_numpy: 0.95728999376297|  0:00:00s\n",
      "epoch 5  | loss: 0.93971 | val_0_unsup_loss_numpy: 0.9139999747276306|  0:00:00s\n",
      "epoch 6  | loss: 0.93399 | val_0_unsup_loss_numpy: 1.113379955291748|  0:00:00s\n",
      "Stop training because you reached max_epochs = 7 with best_epoch = 5 and best_val_0_unsup_loss_numpy = 0.9139999747276306\n",
      "----- [INFO] Client 2\n"
     ]
    },
    {
     "name": "stderr",
     "output_type": "stream",
     "text": [
      "/home/necphy/miniconda3/envs/thaivu_env/lib/python3.9/site-packages/pytorch_tabnet/callbacks.py:172: UserWarning: Best weights from best epoch are automatically used!\n",
      "  warnings.warn(wrn_msg)\n"
     ]
    },
    {
     "name": "stdout",
     "output_type": "stream",
     "text": [
      "epoch 0  | loss: 9.19873 | val_0_unsup_loss_numpy: 4.020520210266113|  0:00:00s\n",
      "epoch 1  | loss: 3.11723 | val_0_unsup_loss_numpy: 1.5479600429534912|  0:00:00s\n",
      "epoch 2  | loss: 1.13167 | val_0_unsup_loss_numpy: 1.609220027923584|  0:00:00s\n",
      "epoch 3  | loss: 1.08294 | val_0_unsup_loss_numpy: 1.0102100372314453|  0:00:00s\n",
      "epoch 4  | loss: 1.40126 | val_0_unsup_loss_numpy: 1.5071899890899658|  0:00:00s\n",
      "epoch 5  | loss: 0.94303 | val_0_unsup_loss_numpy: 1.3436000347137451|  0:00:00s\n",
      "epoch 6  | loss: 0.95764 | val_0_unsup_loss_numpy: 0.8623899817466736|  0:00:00s\n",
      "Stop training because you reached max_epochs = 7 with best_epoch = 6 and best_val_0_unsup_loss_numpy = 0.8623899817466736\n",
      "----- [INFO] Client 3\n",
      "epoch 0  | loss: 3.15022 | val_0_unsup_loss_numpy: 2.2179598808288574|  0:00:00s\n"
     ]
    },
    {
     "name": "stderr",
     "output_type": "stream",
     "text": [
      "/home/necphy/miniconda3/envs/thaivu_env/lib/python3.9/site-packages/pytorch_tabnet/callbacks.py:172: UserWarning: Best weights from best epoch are automatically used!\n",
      "  warnings.warn(wrn_msg)\n"
     ]
    },
    {
     "name": "stdout",
     "output_type": "stream",
     "text": [
      "epoch 1  | loss: 1.80965 | val_0_unsup_loss_numpy: 2.3949999809265137|  0:00:00s\n",
      "epoch 2  | loss: 57.18832| val_0_unsup_loss_numpy: 5.848320007324219|  0:00:00s\n",
      "epoch 3  | loss: 66.30118| val_0_unsup_loss_numpy: 12.787799835205078|  0:00:00s\n",
      "epoch 4  | loss: 317.84998| val_0_unsup_loss_numpy: 2.701620101928711|  0:00:00s\n",
      "epoch 5  | loss: 0.97498 | val_0_unsup_loss_numpy: 1.5096700191497803|  0:00:00s\n",
      "epoch 6  | loss: 5.80109 | val_0_unsup_loss_numpy: 1.0737099647521973|  0:00:00s\n",
      "Stop training because you reached max_epochs = 7 with best_epoch = 6 and best_val_0_unsup_loss_numpy = 1.0737099647521973\n",
      "----- [INFO] Client 4\n"
     ]
    },
    {
     "name": "stderr",
     "output_type": "stream",
     "text": [
      "/home/necphy/miniconda3/envs/thaivu_env/lib/python3.9/site-packages/pytorch_tabnet/callbacks.py:172: UserWarning: Best weights from best epoch are automatically used!\n",
      "  warnings.warn(wrn_msg)\n"
     ]
    },
    {
     "name": "stdout",
     "output_type": "stream",
     "text": [
      "epoch 0  | loss: 1.67648 | val_0_unsup_loss_numpy: 1.5011199712753296|  0:00:00s\n",
      "epoch 1  | loss: 1.32359 | val_0_unsup_loss_numpy: 1.7278300523757935|  0:00:00s\n",
      "epoch 2  | loss: 10.5766 | val_0_unsup_loss_numpy: 1.3763600587844849|  0:00:00s\n",
      "epoch 3  | loss: 10.27969| val_0_unsup_loss_numpy: 1.01242995262146|  0:00:00s\n",
      "epoch 4  | loss: 5.65905 | val_0_unsup_loss_numpy: 0.8584499955177307|  0:00:00s\n",
      "epoch 5  | loss: 1.10678 | val_0_unsup_loss_numpy: 0.9395300149917603|  0:00:00s\n",
      "epoch 6  | loss: 3.67245 | val_0_unsup_loss_numpy: 0.8850100040435791|  0:00:00s\n",
      "Stop training because you reached max_epochs = 7 with best_epoch = 4 and best_val_0_unsup_loss_numpy = 0.8584499955177307\n",
      "----- [INFO] Client 5\n",
      "epoch 0  | loss: 2.31743 | val_0_unsup_loss_numpy: 1.8776600360870361|  0:00:00s\n"
     ]
    },
    {
     "name": "stderr",
     "output_type": "stream",
     "text": [
      "/home/necphy/miniconda3/envs/thaivu_env/lib/python3.9/site-packages/pytorch_tabnet/callbacks.py:172: UserWarning: Best weights from best epoch are automatically used!\n",
      "  warnings.warn(wrn_msg)\n"
     ]
    },
    {
     "name": "stdout",
     "output_type": "stream",
     "text": [
      "epoch 1  | loss: 4.05299 | val_0_unsup_loss_numpy: 1.1368000507354736|  0:00:00s\n",
      "epoch 2  | loss: 3.00834 | val_0_unsup_loss_numpy: 0.945360004901886|  0:00:00s\n",
      "epoch 3  | loss: 1.11245 | val_0_unsup_loss_numpy: 0.9087899923324585|  0:00:00s\n",
      "epoch 4  | loss: 0.94217 | val_0_unsup_loss_numpy: 0.8906199932098389|  0:00:00s\n",
      "epoch 5  | loss: 0.95679 | val_0_unsup_loss_numpy: 1.0122400522232056|  0:00:00s\n",
      "epoch 6  | loss: 1.03213 | val_0_unsup_loss_numpy: 0.83024001121521|  0:00:00s\n",
      "Stop training because you reached max_epochs = 7 with best_epoch = 6 and best_val_0_unsup_loss_numpy = 0.83024001121521\n",
      "----- [INFO] Client 6\n"
     ]
    },
    {
     "name": "stderr",
     "output_type": "stream",
     "text": [
      "/home/necphy/miniconda3/envs/thaivu_env/lib/python3.9/site-packages/pytorch_tabnet/callbacks.py:172: UserWarning: Best weights from best epoch are automatically used!\n",
      "  warnings.warn(wrn_msg)\n"
     ]
    },
    {
     "name": "stdout",
     "output_type": "stream",
     "text": [
      "epoch 0  | loss: 4.98662 | val_0_unsup_loss_numpy: 1.5996400117874146|  0:00:00s\n",
      "epoch 1  | loss: 2.09675 | val_0_unsup_loss_numpy: 2.570349931716919|  0:00:00s\n",
      "epoch 2  | loss: 2.13605 | val_0_unsup_loss_numpy: 1.0887800455093384|  0:00:00s\n",
      "epoch 3  | loss: 3.21218 | val_0_unsup_loss_numpy: 0.9607800245285034|  0:00:00s\n",
      "epoch 4  | loss: 1.18849 | val_0_unsup_loss_numpy: 1.4080699682235718|  0:00:00s\n",
      "epoch 5  | loss: 1.21816 | val_0_unsup_loss_numpy: 1.1480799913406372|  0:00:00s\n",
      "epoch 6  | loss: 0.96253 | val_0_unsup_loss_numpy: 0.9049500226974487|  0:00:00s\n",
      "Stop training because you reached max_epochs = 7 with best_epoch = 6 and best_val_0_unsup_loss_numpy = 0.9049500226974487\n",
      "----- [INFO] Client 7\n",
      "epoch 0  | loss: 2.40099 | val_0_unsup_loss_numpy: 3.384730100631714|  0:00:00s\n"
     ]
    },
    {
     "name": "stderr",
     "output_type": "stream",
     "text": [
      "/home/necphy/miniconda3/envs/thaivu_env/lib/python3.9/site-packages/pytorch_tabnet/callbacks.py:172: UserWarning: Best weights from best epoch are automatically used!\n",
      "  warnings.warn(wrn_msg)\n"
     ]
    },
    {
     "name": "stdout",
     "output_type": "stream",
     "text": [
      "epoch 1  | loss: 2.76263 | val_0_unsup_loss_numpy: 1.5332900285720825|  0:00:00s\n",
      "epoch 2  | loss: 1.12303 | val_0_unsup_loss_numpy: 1.0403000116348267|  0:00:00s\n",
      "epoch 3  | loss: 1.10425 | val_0_unsup_loss_numpy: 0.9957200288772583|  0:00:00s\n",
      "epoch 4  | loss: 1.02355 | val_0_unsup_loss_numpy: 1.4230400323867798|  0:00:00s\n",
      "epoch 5  | loss: 1.06719 | val_0_unsup_loss_numpy: 1.1652699708938599|  0:00:00s\n",
      "epoch 6  | loss: 1.10338 | val_0_unsup_loss_numpy: 1.0626800060272217|  0:00:00s\n",
      "Stop training because you reached max_epochs = 7 with best_epoch = 3 and best_val_0_unsup_loss_numpy = 0.9957200288772583\n",
      "----- [INFO] Client 8\n"
     ]
    },
    {
     "name": "stderr",
     "output_type": "stream",
     "text": [
      "/home/necphy/miniconda3/envs/thaivu_env/lib/python3.9/site-packages/pytorch_tabnet/callbacks.py:172: UserWarning: Best weights from best epoch are automatically used!\n",
      "  warnings.warn(wrn_msg)\n"
     ]
    },
    {
     "name": "stdout",
     "output_type": "stream",
     "text": [
      "epoch 0  | loss: 3.29853 | val_0_unsup_loss_numpy: 2.0879499912261963|  0:00:00s\n",
      "epoch 1  | loss: 1.12332 | val_0_unsup_loss_numpy: 1.2160600423812866|  0:00:00s\n",
      "epoch 2  | loss: 1.17091 | val_0_unsup_loss_numpy: 1.2998700141906738|  0:00:00s\n",
      "epoch 3  | loss: 1.10702 | val_0_unsup_loss_numpy: 0.9353299736976624|  0:00:00s\n",
      "epoch 4  | loss: 1.25861 | val_0_unsup_loss_numpy: 0.9266899824142456|  0:00:00s\n",
      "epoch 5  | loss: 0.95452 | val_0_unsup_loss_numpy: 0.8819500207901001|  0:00:00s\n",
      "epoch 6  | loss: 1.01812 | val_0_unsup_loss_numpy: 0.8649899959564209|  0:00:00s\n",
      "Stop training because you reached max_epochs = 7 with best_epoch = 6 and best_val_0_unsup_loss_numpy = 0.8649899959564209\n",
      "----- [INFO] Client 9\n",
      "epoch 0  | loss: 6.96496 | val_0_unsup_loss_numpy: 2.730989933013916|  0:00:00s\n"
     ]
    },
    {
     "name": "stderr",
     "output_type": "stream",
     "text": [
      "/home/necphy/miniconda3/envs/thaivu_env/lib/python3.9/site-packages/pytorch_tabnet/callbacks.py:172: UserWarning: Best weights from best epoch are automatically used!\n",
      "  warnings.warn(wrn_msg)\n"
     ]
    },
    {
     "name": "stdout",
     "output_type": "stream",
     "text": [
      "epoch 1  | loss: 2.27455 | val_0_unsup_loss_numpy: 2.0663700103759766|  0:00:00s\n",
      "epoch 2  | loss: 2.59581 | val_0_unsup_loss_numpy: 1.1660100221633911|  0:00:00s\n",
      "epoch 3  | loss: 1.10773 | val_0_unsup_loss_numpy: 1.2247099876403809|  0:00:00s\n",
      "epoch 4  | loss: 1.11779 | val_0_unsup_loss_numpy: 1.4825600385665894|  0:00:00s\n",
      "epoch 5  | loss: 1.60244 | val_0_unsup_loss_numpy: 1.7709200382232666|  0:00:00s\n",
      "epoch 6  | loss: 2.64606 | val_0_unsup_loss_numpy: 1.5197499990463257|  0:00:00s\n",
      "Stop training because you reached max_epochs = 7 with best_epoch = 2 and best_val_0_unsup_loss_numpy = 1.1660100221633911\n"
     ]
    },
    {
     "name": "stderr",
     "output_type": "stream",
     "text": [
      "/home/necphy/miniconda3/envs/thaivu_env/lib/python3.9/site-packages/pytorch_tabnet/callbacks.py:172: UserWarning: Best weights from best epoch are automatically used!\n",
      "  warnings.warn(wrn_msg)\n"
     ]
    }
   ],
   "source": [
    "# 4. Federated Learning process\n",
    "list_client_models = []\n",
    "for i in range(NUM_CLIENTS):\n",
    "    client_model = copy.deepcopy(unsupervised_model)\n",
    "    list_client_models.append(client_model)\n",
    "\n",
    "\n",
    "for idx_round in range(NUM_ROUNDS):\n",
    "    print(\"---------- [INFO] Round {}\".format(idx_round))\n",
    "\n",
    "    # Train client (local) model\n",
    "    for idx_client in range(NUM_CLIENTS):\n",
    "        print(\"----- [INFO] Client {}\".format(idx_client))\n",
    "\n",
    "        # Client get weight from global model\n",
    "        list_client_models[idx_client].network.load_state_dict(unsupervised_model.network.state_dict())\n",
    "        \n",
    "        # Train local model in each user's data\n",
    "        list_client_models[idx_client].fit(\n",
    "            X_train = list_client_data[idx_client],\n",
    "            eval_set = [list_client_data[idx_client]],\n",
    "            max_epochs=MAX_EPOCHS_LOCAL,\n",
    "            pretraining_ratio=TABNET_PRETRAIN_RATIO,\n",
    "            warm_start = True  \n",
    "        )\n",
    "\n",
    "\n",
    "    # Compute the average of the local model weights\n",
    "    unsupervised_model_state = unsupervised_model.network.state_dict()\n",
    "    for name, param in unsupervised_model.network.named_parameters():\n",
    "\n",
    "        list_client_layer = []\n",
    "        for idx_client in range(NUM_CLIENTS):\n",
    "            current_layer = list_client_models[idx_client].network.state_dict()[name]\n",
    "            list_client_layer.append(current_layer)\n",
    "\n",
    "        new_param = torch.mean(torch.stack(list_client_layer), dim=0)\n",
    "        unsupervised_model_state[name] = new_param\n",
    "\n",
    "    # Update global (self-supervised) model \n",
    "    unsupervised_model.network.load_state_dict(unsupervised_model_state)"
   ]
  },
  {
   "attachments": {},
   "cell_type": "markdown",
   "metadata": {},
   "source": [
    "## Train KNN in embedding X"
   ]
  },
  {
   "cell_type": "code",
   "execution_count": 43,
   "metadata": {},
   "outputs": [],
   "source": [
    "from sklearn.manifold import TSNE\n",
    "from sklearn.neighbors import KNeighborsClassifier\n",
    "from sklearn.metrics import accuracy_score, f1_score"
   ]
  },
  {
   "cell_type": "code",
   "execution_count": 48,
   "metadata": {},
   "outputs": [
    {
     "data": {
      "text/html": [
       "<style>#sk-container-id-5 {color: black;background-color: white;}#sk-container-id-5 pre{padding: 0;}#sk-container-id-5 div.sk-toggleable {background-color: white;}#sk-container-id-5 label.sk-toggleable__label {cursor: pointer;display: block;width: 100%;margin-bottom: 0;padding: 0.3em;box-sizing: border-box;text-align: center;}#sk-container-id-5 label.sk-toggleable__label-arrow:before {content: \"▸\";float: left;margin-right: 0.25em;color: #696969;}#sk-container-id-5 label.sk-toggleable__label-arrow:hover:before {color: black;}#sk-container-id-5 div.sk-estimator:hover label.sk-toggleable__label-arrow:before {color: black;}#sk-container-id-5 div.sk-toggleable__content {max-height: 0;max-width: 0;overflow: hidden;text-align: left;background-color: #f0f8ff;}#sk-container-id-5 div.sk-toggleable__content pre {margin: 0.2em;color: black;border-radius: 0.25em;background-color: #f0f8ff;}#sk-container-id-5 input.sk-toggleable__control:checked~div.sk-toggleable__content {max-height: 200px;max-width: 100%;overflow: auto;}#sk-container-id-5 input.sk-toggleable__control:checked~label.sk-toggleable__label-arrow:before {content: \"▾\";}#sk-container-id-5 div.sk-estimator input.sk-toggleable__control:checked~label.sk-toggleable__label {background-color: #d4ebff;}#sk-container-id-5 div.sk-label input.sk-toggleable__control:checked~label.sk-toggleable__label {background-color: #d4ebff;}#sk-container-id-5 input.sk-hidden--visually {border: 0;clip: rect(1px 1px 1px 1px);clip: rect(1px, 1px, 1px, 1px);height: 1px;margin: -1px;overflow: hidden;padding: 0;position: absolute;width: 1px;}#sk-container-id-5 div.sk-estimator {font-family: monospace;background-color: #f0f8ff;border: 1px dotted black;border-radius: 0.25em;box-sizing: border-box;margin-bottom: 0.5em;}#sk-container-id-5 div.sk-estimator:hover {background-color: #d4ebff;}#sk-container-id-5 div.sk-parallel-item::after {content: \"\";width: 100%;border-bottom: 1px solid gray;flex-grow: 1;}#sk-container-id-5 div.sk-label:hover label.sk-toggleable__label {background-color: #d4ebff;}#sk-container-id-5 div.sk-serial::before {content: \"\";position: absolute;border-left: 1px solid gray;box-sizing: border-box;top: 0;bottom: 0;left: 50%;z-index: 0;}#sk-container-id-5 div.sk-serial {display: flex;flex-direction: column;align-items: center;background-color: white;padding-right: 0.2em;padding-left: 0.2em;position: relative;}#sk-container-id-5 div.sk-item {position: relative;z-index: 1;}#sk-container-id-5 div.sk-parallel {display: flex;align-items: stretch;justify-content: center;background-color: white;position: relative;}#sk-container-id-5 div.sk-item::before, #sk-container-id-5 div.sk-parallel-item::before {content: \"\";position: absolute;border-left: 1px solid gray;box-sizing: border-box;top: 0;bottom: 0;left: 50%;z-index: -1;}#sk-container-id-5 div.sk-parallel-item {display: flex;flex-direction: column;z-index: 1;position: relative;background-color: white;}#sk-container-id-5 div.sk-parallel-item:first-child::after {align-self: flex-end;width: 50%;}#sk-container-id-5 div.sk-parallel-item:last-child::after {align-self: flex-start;width: 50%;}#sk-container-id-5 div.sk-parallel-item:only-child::after {width: 0;}#sk-container-id-5 div.sk-dashed-wrapped {border: 1px dashed gray;margin: 0 0.4em 0.5em 0.4em;box-sizing: border-box;padding-bottom: 0.4em;background-color: white;}#sk-container-id-5 div.sk-label label {font-family: monospace;font-weight: bold;display: inline-block;line-height: 1.2em;}#sk-container-id-5 div.sk-label-container {text-align: center;}#sk-container-id-5 div.sk-container {/* jupyter's `normalize.less` sets `[hidden] { display: none; }` but bootstrap.min.css set `[hidden] { display: none !important; }` so we also need the `!important` here to be able to override the default hidden behavior on the sphinx rendered scikit-learn.org. See: https://github.com/scikit-learn/scikit-learn/issues/21755 */display: inline-block !important;position: relative;}#sk-container-id-5 div.sk-text-repr-fallback {display: none;}</style><div id=\"sk-container-id-5\" class=\"sk-top-container\"><div class=\"sk-text-repr-fallback\"><pre>KNeighborsClassifier(n_neighbors=2)</pre><b>In a Jupyter environment, please rerun this cell to show the HTML representation or trust the notebook. <br />On GitHub, the HTML representation is unable to render, please try loading this page with nbviewer.org.</b></div><div class=\"sk-container\" hidden><div class=\"sk-item\"><div class=\"sk-estimator sk-toggleable\"><input class=\"sk-toggleable__control sk-hidden--visually\" id=\"sk-estimator-id-5\" type=\"checkbox\" checked><label for=\"sk-estimator-id-5\" class=\"sk-toggleable__label sk-toggleable__label-arrow\">KNeighborsClassifier</label><div class=\"sk-toggleable__content\"><pre>KNeighborsClassifier(n_neighbors=2)</pre></div></div></div></div></div>"
      ],
      "text/plain": [
       "KNeighborsClassifier(n_neighbors=2)"
      ]
     },
     "execution_count": 48,
     "metadata": {},
     "output_type": "execute_result"
    }
   ],
   "source": [
    "# Extract embedding\n",
    "embedding_X = unsupervised_model.predict(X_train_label)[0]\n",
    "\n",
    "clf = KNeighborsClassifier(n_neighbors=2)\n",
    "clf.fit(embedding_X, y_train_label)"
   ]
  },
  {
   "cell_type": "code",
   "execution_count": 49,
   "metadata": {},
   "outputs": [
    {
     "name": "stdout",
     "output_type": "stream",
     "text": [
      "F1 score: 0.13227480118586157\n"
     ]
    }
   ],
   "source": [
    "(X_test, y_test, _) = Read_Dataset(PATH_TEST_CSV_FILE)\n",
    "X_test = scaler.transform(X_test)\n",
    "embedding_X_test = unsupervised_model.predict(X_test)[0]\n",
    "\n",
    "y_pred = clf.predict(embedding_X_test)\n",
    "\n",
    "f1_score_value = f1_score(y_test, y_pred, average='macro')\n",
    "print(\"F1 score: {}\".format(f1_score_value))"
   ]
  },
  {
   "attachments": {},
   "cell_type": "markdown",
   "metadata": {},
   "source": [
    "# Train KNN"
   ]
  },
  {
   "cell_type": "code",
   "execution_count": 46,
   "metadata": {},
   "outputs": [
    {
     "data": {
      "text/html": [
       "<style>#sk-container-id-4 {color: black;background-color: white;}#sk-container-id-4 pre{padding: 0;}#sk-container-id-4 div.sk-toggleable {background-color: white;}#sk-container-id-4 label.sk-toggleable__label {cursor: pointer;display: block;width: 100%;margin-bottom: 0;padding: 0.3em;box-sizing: border-box;text-align: center;}#sk-container-id-4 label.sk-toggleable__label-arrow:before {content: \"▸\";float: left;margin-right: 0.25em;color: #696969;}#sk-container-id-4 label.sk-toggleable__label-arrow:hover:before {color: black;}#sk-container-id-4 div.sk-estimator:hover label.sk-toggleable__label-arrow:before {color: black;}#sk-container-id-4 div.sk-toggleable__content {max-height: 0;max-width: 0;overflow: hidden;text-align: left;background-color: #f0f8ff;}#sk-container-id-4 div.sk-toggleable__content pre {margin: 0.2em;color: black;border-radius: 0.25em;background-color: #f0f8ff;}#sk-container-id-4 input.sk-toggleable__control:checked~div.sk-toggleable__content {max-height: 200px;max-width: 100%;overflow: auto;}#sk-container-id-4 input.sk-toggleable__control:checked~label.sk-toggleable__label-arrow:before {content: \"▾\";}#sk-container-id-4 div.sk-estimator input.sk-toggleable__control:checked~label.sk-toggleable__label {background-color: #d4ebff;}#sk-container-id-4 div.sk-label input.sk-toggleable__control:checked~label.sk-toggleable__label {background-color: #d4ebff;}#sk-container-id-4 input.sk-hidden--visually {border: 0;clip: rect(1px 1px 1px 1px);clip: rect(1px, 1px, 1px, 1px);height: 1px;margin: -1px;overflow: hidden;padding: 0;position: absolute;width: 1px;}#sk-container-id-4 div.sk-estimator {font-family: monospace;background-color: #f0f8ff;border: 1px dotted black;border-radius: 0.25em;box-sizing: border-box;margin-bottom: 0.5em;}#sk-container-id-4 div.sk-estimator:hover {background-color: #d4ebff;}#sk-container-id-4 div.sk-parallel-item::after {content: \"\";width: 100%;border-bottom: 1px solid gray;flex-grow: 1;}#sk-container-id-4 div.sk-label:hover label.sk-toggleable__label {background-color: #d4ebff;}#sk-container-id-4 div.sk-serial::before {content: \"\";position: absolute;border-left: 1px solid gray;box-sizing: border-box;top: 0;bottom: 0;left: 50%;z-index: 0;}#sk-container-id-4 div.sk-serial {display: flex;flex-direction: column;align-items: center;background-color: white;padding-right: 0.2em;padding-left: 0.2em;position: relative;}#sk-container-id-4 div.sk-item {position: relative;z-index: 1;}#sk-container-id-4 div.sk-parallel {display: flex;align-items: stretch;justify-content: center;background-color: white;position: relative;}#sk-container-id-4 div.sk-item::before, #sk-container-id-4 div.sk-parallel-item::before {content: \"\";position: absolute;border-left: 1px solid gray;box-sizing: border-box;top: 0;bottom: 0;left: 50%;z-index: -1;}#sk-container-id-4 div.sk-parallel-item {display: flex;flex-direction: column;z-index: 1;position: relative;background-color: white;}#sk-container-id-4 div.sk-parallel-item:first-child::after {align-self: flex-end;width: 50%;}#sk-container-id-4 div.sk-parallel-item:last-child::after {align-self: flex-start;width: 50%;}#sk-container-id-4 div.sk-parallel-item:only-child::after {width: 0;}#sk-container-id-4 div.sk-dashed-wrapped {border: 1px dashed gray;margin: 0 0.4em 0.5em 0.4em;box-sizing: border-box;padding-bottom: 0.4em;background-color: white;}#sk-container-id-4 div.sk-label label {font-family: monospace;font-weight: bold;display: inline-block;line-height: 1.2em;}#sk-container-id-4 div.sk-label-container {text-align: center;}#sk-container-id-4 div.sk-container {/* jupyter's `normalize.less` sets `[hidden] { display: none; }` but bootstrap.min.css set `[hidden] { display: none !important; }` so we also need the `!important` here to be able to override the default hidden behavior on the sphinx rendered scikit-learn.org. See: https://github.com/scikit-learn/scikit-learn/issues/21755 */display: inline-block !important;position: relative;}#sk-container-id-4 div.sk-text-repr-fallback {display: none;}</style><div id=\"sk-container-id-4\" class=\"sk-top-container\"><div class=\"sk-text-repr-fallback\"><pre>KNeighborsClassifier(n_neighbors=2)</pre><b>In a Jupyter environment, please rerun this cell to show the HTML representation or trust the notebook. <br />On GitHub, the HTML representation is unable to render, please try loading this page with nbviewer.org.</b></div><div class=\"sk-container\" hidden><div class=\"sk-item\"><div class=\"sk-estimator sk-toggleable\"><input class=\"sk-toggleable__control sk-hidden--visually\" id=\"sk-estimator-id-4\" type=\"checkbox\" checked><label for=\"sk-estimator-id-4\" class=\"sk-toggleable__label sk-toggleable__label-arrow\">KNeighborsClassifier</label><div class=\"sk-toggleable__content\"><pre>KNeighborsClassifier(n_neighbors=2)</pre></div></div></div></div></div>"
      ],
      "text/plain": [
       "KNeighborsClassifier(n_neighbors=2)"
      ]
     },
     "execution_count": 46,
     "metadata": {},
     "output_type": "execute_result"
    }
   ],
   "source": [
    "clf = KNeighborsClassifier(n_neighbors=2)\n",
    "clf.fit(X_train_label, y_train_label)"
   ]
  },
  {
   "cell_type": "code",
   "execution_count": 47,
   "metadata": {},
   "outputs": [
    {
     "name": "stdout",
     "output_type": "stream",
     "text": [
      "F1 score: 0.9351128654897647\n"
     ]
    }
   ],
   "source": [
    "(X_test, y_test, _) = Read_Dataset(PATH_TEST_CSV_FILE)\n",
    "X_test = scaler.transform(X_test)\n",
    "\n",
    "y_pred = clf.predict(X_test)\n",
    "\n",
    "f1_score_value = f1_score(y_test, y_pred, average='macro')\n",
    "print(\"F1 score: {}\".format(f1_score_value))"
   ]
  },
  {
   "cell_type": "code",
   "execution_count": null,
   "metadata": {},
   "outputs": [],
   "source": []
  },
  {
   "cell_type": "code",
   "execution_count": null,
   "metadata": {},
   "outputs": [],
   "source": []
  }
 ],
 "metadata": {
  "kernelspec": {
   "display_name": "thaivu_env",
   "language": "python",
   "name": "python3"
  },
  "language_info": {
   "codemirror_mode": {
    "name": "ipython",
    "version": 3
   },
   "file_extension": ".py",
   "mimetype": "text/x-python",
   "name": "python",
   "nbconvert_exporter": "python",
   "pygments_lexer": "ipython3",
   "version": "3.9.16"
  },
  "orig_nbformat": 4
 },
 "nbformat": 4,
 "nbformat_minor": 2
}
